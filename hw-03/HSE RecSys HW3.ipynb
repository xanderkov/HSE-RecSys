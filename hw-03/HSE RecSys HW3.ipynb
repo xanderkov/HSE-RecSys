{
 "cells": [
  {
   "cell_type": "markdown",
   "metadata": {},
   "source": [
    "## ДЗ №3 Двухуровневый пайплайн\n",
    "#### В этой домашке вам предстоит написать с нуля двустадийную рекомендательную систему. \n",
    "\n",
    "#### Дата выдачи: 10.03.25\n",
    "\n",
    "#### Мягкий дедлайн: 31.03.25 23:59 MSK\n",
    "\n",
    "#### Жесткий дедлайн: 7.04.25 23:59 MSK"
   ]
  },
  {
   "cell_type": "markdown",
   "metadata": {},
   "source": [
    "### Описание\n",
    "Это творческое задание, в котором вам необходимо реализовать полный цикл построения рекомендательной системы: реализовать кандидат генераторов, придумать и собрать признаки, обучить итоговый ранкер и заинференсить модели на всех пользователей.\n",
    "\n",
    "Вам предоставляется два набора данных: `train.csv` и `test.csv` "
   ]
  },
  {
   "cell_type": "code",
   "execution_count": 2,
   "metadata": {
    "ExecuteTime": {
     "end_time": "2025-03-28T13:59:54.163174Z",
     "start_time": "2025-03-28T13:51:59.027226Z"
    }
   },
   "outputs": [
    {
     "data": {
      "text/plain": [
       "'items.csv'"
      ]
     },
     "execution_count": 2,
     "metadata": {},
     "output_type": "execute_result"
    }
   ],
   "source": [
    "# скачиваем данные\n",
    "# если из этой ячейки не получается, то вот ссылка на папку https://drive.google.com/drive/folders/1HT0Apm8Jft0VPLJtdBBUGu9s1M7vZcoJ?usp=drive_link\n",
    "\n",
    "import gdown\n",
    "# train\n",
    "url = \"https://drive.google.com/uc?id=1-CcS22-UpTJeNcFlA0dVLrEQn8jnI0d-\"\n",
    "\n",
    "output = 'train.csv'\n",
    "gdown.download(url, output, quiet=True)\n",
    "\n",
    "# test\n",
    "url = \"https://drive.google.com/uc?id=11iz3xDh0IIoEIBY0dyRSvByY3qfiT3BG\"\n",
    "\n",
    "output = 'test.csv'\n",
    "gdown.download(url, output, quiet=True)\n",
    "\n",
    "# user features\n",
    "url = \"https://drive.google.com/uc?id=1zl2jWMdUhc-IMakHlihQhJ5PGGZm9-_O\"\n",
    "output = 'users.csv'\n",
    "gdown.download(url, output, quiet=True, fuzzy=True)\n",
    "\n",
    "# item features\n",
    "url = \"https://drive.google.com/uc?id=1chCmpiCKJRjdqNftHc-t2ALl3qbAp2G8\"\n",
    "output = 'items.csv'\n",
    "gdown.download(url, output, quiet=True)"
   ]
  },
  {
   "cell_type": "code",
   "execution_count": 60,
   "metadata": {
    "ExecuteTime": {
     "end_time": "2025-04-03T14:07:00.038163Z",
     "start_time": "2025-04-03T14:06:59.373089Z"
    }
   },
   "outputs": [
    {
     "data": {
      "text/html": [
       "<div>\n",
       "<style scoped>\n",
       "    .dataframe tbody tr th:only-of-type {\n",
       "        vertical-align: middle;\n",
       "    }\n",
       "\n",
       "    .dataframe tbody tr th {\n",
       "        vertical-align: top;\n",
       "    }\n",
       "\n",
       "    .dataframe thead th {\n",
       "        text-align: right;\n",
       "    }\n",
       "</style>\n",
       "<table border=\"1\" class=\"dataframe\">\n",
       "  <thead>\n",
       "    <tr style=\"text-align: right;\">\n",
       "      <th></th>\n",
       "      <th>user_id</th>\n",
       "      <th>age</th>\n",
       "      <th>income</th>\n",
       "      <th>sex</th>\n",
       "      <th>kids_flg</th>\n",
       "    </tr>\n",
       "  </thead>\n",
       "  <tbody>\n",
       "    <tr>\n",
       "      <th>0</th>\n",
       "      <td>973171</td>\n",
       "      <td>age_25_34</td>\n",
       "      <td>income_60_90</td>\n",
       "      <td>М</td>\n",
       "      <td>1</td>\n",
       "    </tr>\n",
       "    <tr>\n",
       "      <th>1</th>\n",
       "      <td>962099</td>\n",
       "      <td>age_18_24</td>\n",
       "      <td>income_20_40</td>\n",
       "      <td>М</td>\n",
       "      <td>0</td>\n",
       "    </tr>\n",
       "    <tr>\n",
       "      <th>2</th>\n",
       "      <td>1047345</td>\n",
       "      <td>age_45_54</td>\n",
       "      <td>income_40_60</td>\n",
       "      <td>Ж</td>\n",
       "      <td>0</td>\n",
       "    </tr>\n",
       "    <tr>\n",
       "      <th>3</th>\n",
       "      <td>721985</td>\n",
       "      <td>age_45_54</td>\n",
       "      <td>income_20_40</td>\n",
       "      <td>Ж</td>\n",
       "      <td>0</td>\n",
       "    </tr>\n",
       "    <tr>\n",
       "      <th>4</th>\n",
       "      <td>704055</td>\n",
       "      <td>age_35_44</td>\n",
       "      <td>income_60_90</td>\n",
       "      <td>Ж</td>\n",
       "      <td>0</td>\n",
       "    </tr>\n",
       "    <tr>\n",
       "      <th>...</th>\n",
       "      <td>...</td>\n",
       "      <td>...</td>\n",
       "      <td>...</td>\n",
       "      <td>...</td>\n",
       "      <td>...</td>\n",
       "    </tr>\n",
       "    <tr>\n",
       "      <th>840192</th>\n",
       "      <td>339025</td>\n",
       "      <td>age_65_inf</td>\n",
       "      <td>income_0_20</td>\n",
       "      <td>Ж</td>\n",
       "      <td>0</td>\n",
       "    </tr>\n",
       "    <tr>\n",
       "      <th>840193</th>\n",
       "      <td>983617</td>\n",
       "      <td>age_18_24</td>\n",
       "      <td>income_20_40</td>\n",
       "      <td>Ж</td>\n",
       "      <td>1</td>\n",
       "    </tr>\n",
       "    <tr>\n",
       "      <th>840194</th>\n",
       "      <td>251008</td>\n",
       "      <td>NaN</td>\n",
       "      <td>NaN</td>\n",
       "      <td>NaN</td>\n",
       "      <td>0</td>\n",
       "    </tr>\n",
       "    <tr>\n",
       "      <th>840195</th>\n",
       "      <td>590706</td>\n",
       "      <td>NaN</td>\n",
       "      <td>NaN</td>\n",
       "      <td>Ж</td>\n",
       "      <td>0</td>\n",
       "    </tr>\n",
       "    <tr>\n",
       "      <th>840196</th>\n",
       "      <td>166555</td>\n",
       "      <td>age_65_inf</td>\n",
       "      <td>income_20_40</td>\n",
       "      <td>Ж</td>\n",
       "      <td>0</td>\n",
       "    </tr>\n",
       "  </tbody>\n",
       "</table>\n",
       "<p>840197 rows × 5 columns</p>\n",
       "</div>"
      ],
      "text/plain": [
       "        user_id         age        income  sex  kids_flg\n",
       "0        973171   age_25_34  income_60_90    М         1\n",
       "1        962099   age_18_24  income_20_40    М         0\n",
       "2       1047345   age_45_54  income_40_60    Ж         0\n",
       "3        721985   age_45_54  income_20_40    Ж         0\n",
       "4        704055   age_35_44  income_60_90    Ж         0\n",
       "...         ...         ...           ...  ...       ...\n",
       "840192   339025  age_65_inf   income_0_20    Ж         0\n",
       "840193   983617   age_18_24  income_20_40    Ж         1\n",
       "840194   251008         NaN           NaN  NaN         0\n",
       "840195   590706         NaN           NaN    Ж         0\n",
       "840196   166555  age_65_inf  income_20_40    Ж         0\n",
       "\n",
       "[840197 rows x 5 columns]"
      ]
     },
     "execution_count": 60,
     "metadata": {},
     "output_type": "execute_result"
    }
   ],
   "source": [
    "import pandas as pd\n",
    "pd.read_csv('users.csv')"
   ]
  },
  {
   "cell_type": "code",
   "execution_count": 61,
   "metadata": {
    "ExecuteTime": {
     "end_time": "2025-04-01T14:11:00.500133Z",
     "start_time": "2025-04-01T14:11:00.075582Z"
    }
   },
   "outputs": [
    {
     "name": "stdout",
     "output_type": "stream",
     "text": [
      "<class 'pandas.core.frame.DataFrame'>\n",
      "RangeIndex: 15963 entries, 0 to 15962\n",
      "Data columns (total 14 columns):\n",
      " #   Column        Non-Null Count  Dtype  \n",
      "---  ------        --------------  -----  \n",
      " 0   item_id       15963 non-null  int64  \n",
      " 1   content_type  15963 non-null  object \n",
      " 2   title         15963 non-null  object \n",
      " 3   title_orig    11218 non-null  object \n",
      " 4   release_year  15865 non-null  float64\n",
      " 5   genres        15963 non-null  object \n",
      " 6   countries     15926 non-null  object \n",
      " 7   for_kids      566 non-null    float64\n",
      " 8   age_rating    15961 non-null  float64\n",
      " 9   studios       1065 non-null   object \n",
      " 10  directors     14454 non-null  object \n",
      " 11  actors        13344 non-null  object \n",
      " 12  description   15961 non-null  object \n",
      " 13  keywords      15540 non-null  object \n",
      "dtypes: float64(3), int64(1), object(10)\n",
      "memory usage: 1.7+ MB\n"
     ]
    }
   ],
   "source": [
    "df_items = pd.read_csv('items.csv')\n",
    "df_items.info()"
   ]
  },
  {
   "cell_type": "code",
   "execution_count": 113,
   "metadata": {
    "ExecuteTime": {
     "end_time": "2025-04-01T14:11:00.675115Z",
     "start_time": "2025-04-01T14:11:00.500738Z"
    }
   },
   "outputs": [
    {
     "name": "stdout",
     "output_type": "stream",
     "text": [
      "<class 'pandas.core.frame.DataFrame'>\n",
      "RangeIndex: 608467 entries, 0 to 608466\n",
      "Data columns (total 6 columns):\n",
      " #   Column         Non-Null Count   Dtype  \n",
      "---  ------         --------------   -----  \n",
      " 0   user_id        608467 non-null  int64  \n",
      " 1   item_id        608467 non-null  int64  \n",
      " 2   last_watch_dt  608467 non-null  object \n",
      " 3   total_dur      608467 non-null  int64  \n",
      " 4   watched_pct    608467 non-null  float64\n",
      " 5   target         608467 non-null  int64  \n",
      "dtypes: float64(1), int64(4), object(1)\n",
      "memory usage: 27.9+ MB\n"
     ]
    }
   ],
   "source": [
    "df_test = pd.read_csv('test.csv')\n",
    "df_test.info()"
   ]
  },
  {
   "cell_type": "code",
   "execution_count": 114,
   "metadata": {
    "ExecuteTime": {
     "end_time": "2025-04-01T14:11:02.015202Z",
     "start_time": "2025-04-01T14:11:00.675919Z"
    }
   },
   "outputs": [
    {
     "name": "stdout",
     "output_type": "stream",
     "text": [
      "<class 'pandas.core.frame.DataFrame'>\n",
      "RangeIndex: 4866956 entries, 0 to 4866955\n",
      "Data columns (total 6 columns):\n",
      " #   Column         Dtype  \n",
      "---  ------         -----  \n",
      " 0   user_id        int64  \n",
      " 1   item_id        int64  \n",
      " 2   last_watch_dt  object \n",
      " 3   total_dur      int64  \n",
      " 4   watched_pct    float64\n",
      " 5   target         int64  \n",
      "dtypes: float64(1), int64(4), object(1)\n",
      "memory usage: 222.8+ MB\n"
     ]
    }
   ],
   "source": [
    "df_train = pd.read_csv('train.csv')\n",
    "df_train.info()"
   ]
  },
  {
   "cell_type": "code",
   "execution_count": 64,
   "metadata": {
    "ExecuteTime": {
     "end_time": "2025-04-01T14:11:02.347606Z",
     "start_time": "2025-04-01T14:11:02.016817Z"
    }
   },
   "outputs": [
    {
     "name": "stdout",
     "output_type": "stream",
     "text": [
      "<class 'pandas.core.frame.DataFrame'>\n",
      "RangeIndex: 840197 entries, 0 to 840196\n",
      "Data columns (total 5 columns):\n",
      " #   Column    Non-Null Count   Dtype \n",
      "---  ------    --------------   ----- \n",
      " 0   user_id   840197 non-null  int64 \n",
      " 1   age       826102 non-null  object\n",
      " 2   income    825421 non-null  object\n",
      " 3   sex       826366 non-null  object\n",
      " 4   kids_flg  840197 non-null  int64 \n",
      "dtypes: int64(2), object(3)\n",
      "memory usage: 32.1+ MB\n"
     ]
    }
   ],
   "source": [
    "df_users = pd.read_csv('users.csv')\n",
    "df_users.info()"
   ]
  },
  {
   "cell_type": "code",
   "execution_count": 65,
   "metadata": {
    "ExecuteTime": {
     "end_time": "2025-04-01T14:15:41.033692Z",
     "start_time": "2025-04-01T14:15:40.990330Z"
    }
   },
   "outputs": [
    {
     "data": {
      "text/html": [
       "<div>\n",
       "<style scoped>\n",
       "    .dataframe tbody tr th:only-of-type {\n",
       "        vertical-align: middle;\n",
       "    }\n",
       "\n",
       "    .dataframe tbody tr th {\n",
       "        vertical-align: top;\n",
       "    }\n",
       "\n",
       "    .dataframe thead th {\n",
       "        text-align: right;\n",
       "    }\n",
       "</style>\n",
       "<table border=\"1\" class=\"dataframe\">\n",
       "  <thead>\n",
       "    <tr style=\"text-align: right;\">\n",
       "      <th></th>\n",
       "      <th>user_id</th>\n",
       "      <th>item_id</th>\n",
       "      <th>last_watch_dt</th>\n",
       "      <th>total_dur</th>\n",
       "      <th>watched_pct</th>\n",
       "      <th>target</th>\n",
       "    </tr>\n",
       "  </thead>\n",
       "  <tbody>\n",
       "    <tr>\n",
       "      <th>0</th>\n",
       "      <td>310745</td>\n",
       "      <td>13373</td>\n",
       "      <td>2021-03-13</td>\n",
       "      <td>4485</td>\n",
       "      <td>98.0</td>\n",
       "      <td>1</td>\n",
       "    </tr>\n",
       "    <tr>\n",
       "      <th>1</th>\n",
       "      <td>952323</td>\n",
       "      <td>15997</td>\n",
       "      <td>2021-03-13</td>\n",
       "      <td>7507</td>\n",
       "      <td>100.0</td>\n",
       "      <td>1</td>\n",
       "    </tr>\n",
       "    <tr>\n",
       "      <th>2</th>\n",
       "      <td>889459</td>\n",
       "      <td>11460</td>\n",
       "      <td>2021-03-13</td>\n",
       "      <td>60</td>\n",
       "      <td>0.0</td>\n",
       "      <td>0</td>\n",
       "    </tr>\n",
       "    <tr>\n",
       "      <th>3</th>\n",
       "      <td>854016</td>\n",
       "      <td>11237</td>\n",
       "      <td>2021-03-13</td>\n",
       "      <td>5381</td>\n",
       "      <td>98.0</td>\n",
       "      <td>1</td>\n",
       "    </tr>\n",
       "    <tr>\n",
       "      <th>4</th>\n",
       "      <td>307257</td>\n",
       "      <td>9132</td>\n",
       "      <td>2021-03-13</td>\n",
       "      <td>5814</td>\n",
       "      <td>100.0</td>\n",
       "      <td>1</td>\n",
       "    </tr>\n",
       "  </tbody>\n",
       "</table>\n",
       "</div>"
      ],
      "text/plain": [
       "   user_id  item_id last_watch_dt  total_dur  watched_pct  target\n",
       "0   310745    13373    2021-03-13       4485         98.0       1\n",
       "1   952323    15997    2021-03-13       7507        100.0       1\n",
       "2   889459    11460    2021-03-13         60          0.0       0\n",
       "3   854016    11237    2021-03-13       5381         98.0       1\n",
       "4   307257     9132    2021-03-13       5814        100.0       1"
      ]
     },
     "execution_count": 65,
     "metadata": {},
     "output_type": "execute_result"
    }
   ],
   "source": [
    "df_train.head()"
   ]
  },
  {
   "cell_type": "markdown",
   "metadata": {},
   "source": [
    "\n",
    "\n",
    "### 1 Этап. Модели первого уровня. (max 3 балла)\n",
    "В этом этапе вам необходимо разделить `train` датасет на 2 части: для обучения моделей первого уровня и для их валидации. Единственное условие для разбиения – разбивать нужно по времени. Данные для обучение будем называть `train_stage_1`, данные для валидации `valid_stage_1`. Объемы этих датасетов вы определяет самостоятельно. \n",
    "\n",
    "Для начала нам нужно отобрать кандидатов при помощи легких моделей. Необходимо реализовать 3 типа моделей:\n",
    "1. Любая эвристическая(алгоритмичная) модель на ваш выбор **(0.5 балл)**\n",
    "2. Любая матричная факторизация на ваш выбор **(1 балл)**\n",
    "3. Любая нейросетевая модель на ваш выбор **(1 балла)**\n",
    "\n",
    "Не забудьте использовать скор каждой модели, как признак!\n",
    "\n"
   ]
  },
  {
   "cell_type": "code",
   "execution_count": 66,
   "metadata": {},
   "outputs": [],
   "source": [
    "import pandas as pd\n",
    "import numpy as np\n",
    "import scipy.stats as sts\n",
    "import scipy.sparse as sp\n",
    "from more_itertools import pairwise\n",
    "from itertools import islice, cycle\n",
    "from implicit.nearest_neighbours import CosineRecommender\n",
    "from implicit.cpu.bpr import BayesianPersonalizedRanking\n",
    "from implicit.cpu.als import AlternatingLeastSquares\n",
    "from implicit.cpu.lmf import LogisticMatrixFactorization\n",
    "\n",
    "import os\n",
    "import torch\n",
    "import warnings\n",
    "import threadpoolctl\n",
    "import re\n",
    "from pathlib import Path\n",
    "from rectools.dataset import Dataset\n",
    "\n",
    "from rectools import Columns\n",
    "from rectools.dataset import Dataset\n",
    "from rectools.metrics import (\n",
    "    MAP,\n",
    "    CoveredUsers,\n",
    "    AvgRecPopularity,\n",
    "    Intersection,\n",
    "    HitRate,\n",
    "    Serendipity,\n",
    ")\n",
    "from rectools.models import SASRecModel\n",
    "from rectools.visuals import MetricsApp\n"
   ]
  },
  {
   "cell_type": "markdown",
   "metadata": {},
   "source": [
    "## Разбиваем данные"
   ]
  },
  {
   "cell_type": "code",
   "execution_count": 115,
   "metadata": {
    "ExecuteTime": {
     "end_time": "2025-04-01T14:38:46.750546Z",
     "start_time": "2025-04-01T14:38:46.072268Z"
    }
   },
   "outputs": [],
   "source": [
    "df_train[\"last_watch_dt\"] = pd.to_datetime(df_train[\"last_watch_dt\"])\n",
    "df_test[\"last_watch_dt\"] = pd.to_datetime(df_test[\"last_watch_dt\"])"
   ]
  },
  {
   "cell_type": "code",
   "execution_count": 116,
   "metadata": {},
   "outputs": [],
   "source": [
    "df_train = df_train.sort_values(\"last_watch_dt\")\n",
    "df_test = df_test.sort_values(\"last_watch_dt\")\n",
    "\n",
    "split_date = df_train[\"last_watch_dt\"].quantile(0.8)\n",
    "train_stage = df_train[df_train[\"last_watch_dt\"] <= split_date].copy()\n",
    "valid_stage = df_train[df_train[\"last_watch_dt\"] > split_date].copy()"
   ]
  },
  {
   "cell_type": "code",
   "execution_count": 117,
   "metadata": {},
   "outputs": [
    {
     "data": {
      "text/plain": [
       "Timestamp('2021-07-26 00:00:00')"
      ]
     },
     "execution_count": 117,
     "metadata": {},
     "output_type": "execute_result"
    }
   ],
   "source": [
    "train_stage['last_watch_dt'].max()"
   ]
  },
  {
   "cell_type": "code",
   "execution_count": 118,
   "metadata": {},
   "outputs": [
    {
     "data": {
      "text/plain": [
       "Timestamp('2021-07-27 00:00:00')"
      ]
     },
     "execution_count": 118,
     "metadata": {},
     "output_type": "execute_result"
    }
   ],
   "source": [
    "valid_stage['last_watch_dt'].min()"
   ]
  },
  {
   "cell_type": "code",
   "execution_count": 119,
   "metadata": {},
   "outputs": [
    {
     "data": {
      "text/plain": [
       "(361432, 6)"
      ]
     },
     "execution_count": 119,
     "metadata": {},
     "output_type": "execute_result"
    }
   ],
   "source": [
    "valid_stage_cold = valid_stage[~valid_stage['user_id'].isin(train_stage['user_id'].unique())]\n",
    "valid_stage_cold.drop_duplicates(subset=['user_id', 'item_id'], inplace=True)\n",
    "valid_stage_cold.shape"
   ]
  },
  {
   "cell_type": "code",
   "execution_count": 120,
   "metadata": {},
   "outputs": [
    {
     "data": {
      "text/plain": [
       "(565253, 6)"
      ]
     },
     "execution_count": 120,
     "metadata": {},
     "output_type": "execute_result"
    }
   ],
   "source": [
    "valid_stage_hot = valid_stage[valid_stage['user_id'].isin(train_stage['user_id'].unique())]\n",
    "valid_stage_hot.drop_duplicates(subset=['user_id', 'item_id'], inplace=True)\n",
    "valid_stage_hot.shape"
   ]
  },
  {
   "cell_type": "code",
   "execution_count": 121,
   "metadata": {},
   "outputs": [
    {
     "data": {
      "text/plain": [
       "880421"
      ]
     },
     "execution_count": 121,
     "metadata": {},
     "output_type": "execute_result"
    }
   ],
   "source": [
    "users_inv_mapping = dict(enumerate(df_train['user_id'].unique()))\n",
    "users_mapping = {v: k for k, v in users_inv_mapping.items()}\n",
    "len(users_mapping)"
   ]
  },
  {
   "cell_type": "code",
   "execution_count": 122,
   "metadata": {},
   "outputs": [
    {
     "data": {
      "text/plain": [
       "15418"
      ]
     },
     "execution_count": 122,
     "metadata": {},
     "output_type": "execute_result"
    }
   ],
   "source": [
    "items_inv_mapping = dict(enumerate(df_train['item_id'].unique()))\n",
    "items_mapping = {v: k for k, v in items_inv_mapping.items()}\n",
    "len(items_mapping)"
   ]
  },
  {
   "cell_type": "code",
   "execution_count": 123,
   "metadata": {},
   "outputs": [],
   "source": [
    "def get_coo_matrix(df, user_col='user_id', item_col='item_id', weight_col=None, users_mapping=users_mapping, items_mapping=items_mapping):\n",
    "    weights = np.ones(len(df), dtype=np.float32)\n",
    "    interaction_matrix = sp.coo_matrix((weights, (df[user_col].map(users_mapping.get), df[item_col].map(items_mapping.get))))\n",
    "    return interaction_matrix"
   ]
  },
  {
   "cell_type": "code",
   "execution_count": 124,
   "metadata": {},
   "outputs": [
    {
     "data": {
      "text/plain": [
       "<749415x15009 sparse matrix of type '<class 'numpy.float32'>'\n",
       "\twith 3940271 stored elements in Compressed Sparse Row format>"
      ]
     },
     "execution_count": 124,
     "metadata": {},
     "output_type": "execute_result"
    }
   ],
   "source": [
    "train_coo_mat = get_coo_matrix(train_stage)\n",
    "train_coo_mat = train_coo_mat.tocsr()\n",
    "train_coo_mat"
   ]
  },
  {
   "cell_type": "code",
   "execution_count": 125,
   "metadata": {},
   "outputs": [],
   "source": [
    "df_train[\"weight\"] = 1\n",
    "df_train[\"datetime\"] = df_train[\"last_watch_dt\"]\n",
    "interactions = df_train[[\"user_id\", \"item_id\", \"datetime\", \"weight\"]]"
   ]
  },
  {
   "cell_type": "code",
   "execution_count": 126,
   "metadata": {},
   "outputs": [],
   "source": [
    "split_date = interactions[\"datetime\"].quantile(0.8)\n",
    "train_interactions = interactions[interactions[\"datetime\"] <= split_date].copy()\n",
    "valid_interactions = interactions[interactions[\"datetime\"] > split_date].copy()"
   ]
  },
  {
   "cell_type": "markdown",
   "metadata": {},
   "source": [
    "## Метрики"
   ]
  },
  {
   "cell_type": "code",
   "execution_count": 20,
   "metadata": {},
   "outputs": [],
   "source": [
    "def get_recall(df_true, df_pred, top_N, rank_col='rank'):\n",
    "    test_recs = df_true.set_index(['user_id', 'item_id']).join(df_pred.set_index(['user_id', 'item_id']))\n",
    "    test_recs = test_recs.sort_values(by=['user_id', rank_col])\n",
    "    test_recs['relevant_items_count'] = test_recs.groupby('user_id')['rank'].transform('size')\n",
    "    users_count = test_recs.index.get_level_values('user_id').nunique()\n",
    "    k = top_N\n",
    "    hit_k = f'hit@{k}'\n",
    "    test_recs[hit_k] = test_recs[rank_col] <= k\n",
    "    recall = (test_recs.groupby('user_id')[hit_k].sum() / test_recs.groupby('user_id')['relevant_items_count'].first()).mean()\n",
    "    return float(recall)"
   ]
  },
  {
   "cell_type": "code",
   "execution_count": 21,
   "metadata": {},
   "outputs": [],
   "source": [
    "def get_diversity(df_pred, top_N=30, rank_col='rank'):\n",
    "    top_recommendations = df_pred[df_pred[rank_col] <= top_N]\n",
    "    item_counts = top_recommendations['item_id'].value_counts().values\n",
    "    if len(item_counts) == 0:\n",
    "        return 0.0\n",
    "    recommended_counter = item_counts\n",
    "    n_items = len(recommended_counter)\n",
    "    recommended_counter_sorted = np.sort(recommended_counter) \n",
    "    index = np.arange(1, n_items+1) \n",
    "    gini_diversity = 2 * np.sum((n_items + 1 - index)/(n_items+1) * recommended_counter_sorted/np.sum(recommended_counter_sorted))    \n",
    "    return float(gini_diversity)"
   ]
  },
  {
   "cell_type": "code",
   "execution_count": 22,
   "metadata": {},
   "outputs": [],
   "source": [
    "def eval_metrics(hot, recs, N=10):\n",
    "    recall_pop = get_recall(valid_stage_hot, recs, 10) \n",
    "    gini_diversity_pop = get_diversity(recs, top_N=10)\n",
    "    print(f\"Индекс Джини {recall_pop:0.2f} и Recall {gini_diversity_pop:0.2f}\")"
   ]
  },
  {
   "cell_type": "markdown",
   "metadata": {},
   "source": [
    "## Эврестическая модель"
   ]
  },
  {
   "cell_type": "code",
   "execution_count": 30,
   "metadata": {
    "ExecuteTime": {
     "end_time": "2025-03-31T14:45:29.134776Z",
     "start_time": "2025-03-31T14:45:29.126109Z"
    }
   },
   "outputs": [],
   "source": [
    "class HeuristicModel:\n",
    "    def __init__(self, max_K=200, days=30, item_column='item_id', dt_column='date'):\n",
    "        self.max_K = max_K\n",
    "        self.days = days\n",
    "        self.item_column = item_column\n",
    "        self.dt_column = dt_column\n",
    "        self.recommendations = []\n",
    "        \n",
    "    def fit(self, df, ):\n",
    "        min_date = df[self.dt_column].max().normalize() - pd.DateOffset(days=self.days)\n",
    "        self.recommendations = df.loc[df[self.dt_column] > min_date, self.item_column].value_counts().head(self.max_K).index.values\n",
    "    \n",
    "    def recommend(self, users=None, N=10):\n",
    "        recs = self.recommendations[:N]\n",
    "        if users is None:\n",
    "            return recs\n",
    "        else:\n",
    "            return list(islice(cycle([recs]), len(users)))"
   ]
  },
  {
   "cell_type": "code",
   "execution_count": 31,
   "metadata": {},
   "outputs": [
    {
     "data": {
      "text/plain": [
       "array([15297,  9728, 10440,  3734, 13865,  2657,  4151, 12192,  4495,\n",
       "        4880])"
      ]
     },
     "execution_count": 31,
     "metadata": {},
     "output_type": "execute_result"
    }
   ],
   "source": [
    "pop_model = HeuristicModel(days=30, dt_column='last_watch_dt')\n",
    "pop_model.fit(train_stage)\n",
    "\n",
    "top10_recs = pop_model.recommend(N=10)\n",
    "top10_recs"
   ]
  },
  {
   "cell_type": "code",
   "execution_count": 33,
   "metadata": {},
   "outputs": [
    {
     "data": {
      "text/html": [
       "<div>\n",
       "<style scoped>\n",
       "    .dataframe tbody tr th:only-of-type {\n",
       "        vertical-align: middle;\n",
       "    }\n",
       "\n",
       "    .dataframe tbody tr th {\n",
       "        vertical-align: top;\n",
       "    }\n",
       "\n",
       "    .dataframe thead th {\n",
       "        text-align: right;\n",
       "    }\n",
       "</style>\n",
       "<table border=\"1\" class=\"dataframe\">\n",
       "  <thead>\n",
       "    <tr style=\"text-align: right;\">\n",
       "      <th></th>\n",
       "      <th>user_id</th>\n",
       "      <th>item_id</th>\n",
       "      <th>rank</th>\n",
       "    </tr>\n",
       "  </thead>\n",
       "  <tbody>\n",
       "    <tr>\n",
       "      <th>0</th>\n",
       "      <td>310745</td>\n",
       "      <td>15297</td>\n",
       "      <td>1</td>\n",
       "    </tr>\n",
       "    <tr>\n",
       "      <th>0</th>\n",
       "      <td>310745</td>\n",
       "      <td>9728</td>\n",
       "      <td>2</td>\n",
       "    </tr>\n",
       "    <tr>\n",
       "      <th>0</th>\n",
       "      <td>310745</td>\n",
       "      <td>10440</td>\n",
       "      <td>3</td>\n",
       "    </tr>\n",
       "    <tr>\n",
       "      <th>0</th>\n",
       "      <td>310745</td>\n",
       "      <td>3734</td>\n",
       "      <td>4</td>\n",
       "    </tr>\n",
       "    <tr>\n",
       "      <th>0</th>\n",
       "      <td>310745</td>\n",
       "      <td>13865</td>\n",
       "      <td>5</td>\n",
       "    </tr>\n",
       "    <tr>\n",
       "      <th>...</th>\n",
       "      <td>...</td>\n",
       "      <td>...</td>\n",
       "      <td>...</td>\n",
       "    </tr>\n",
       "    <tr>\n",
       "      <th>749414</th>\n",
       "      <td>778309</td>\n",
       "      <td>2657</td>\n",
       "      <td>6</td>\n",
       "    </tr>\n",
       "    <tr>\n",
       "      <th>749414</th>\n",
       "      <td>778309</td>\n",
       "      <td>4151</td>\n",
       "      <td>7</td>\n",
       "    </tr>\n",
       "    <tr>\n",
       "      <th>749414</th>\n",
       "      <td>778309</td>\n",
       "      <td>12192</td>\n",
       "      <td>8</td>\n",
       "    </tr>\n",
       "    <tr>\n",
       "      <th>749414</th>\n",
       "      <td>778309</td>\n",
       "      <td>4495</td>\n",
       "      <td>9</td>\n",
       "    </tr>\n",
       "    <tr>\n",
       "      <th>749414</th>\n",
       "      <td>778309</td>\n",
       "      <td>4880</td>\n",
       "      <td>10</td>\n",
       "    </tr>\n",
       "  </tbody>\n",
       "</table>\n",
       "<p>7494150 rows × 3 columns</p>\n",
       "</div>"
      ],
      "text/plain": [
       "        user_id item_id  rank\n",
       "0        310745   15297     1\n",
       "0        310745    9728     2\n",
       "0        310745   10440     3\n",
       "0        310745    3734     4\n",
       "0        310745   13865     5\n",
       "...         ...     ...   ...\n",
       "749414   778309    2657     6\n",
       "749414   778309    4151     7\n",
       "749414   778309   12192     8\n",
       "749414   778309    4495     9\n",
       "749414   778309    4880    10\n",
       "\n",
       "[7494150 rows x 3 columns]"
      ]
     },
     "execution_count": 33,
     "metadata": {},
     "output_type": "execute_result"
    }
   ],
   "source": [
    "recs_pop = pd.DataFrame({'user_id': train_stage['user_id'].unique()})\n",
    "recs_pop['item_id'] = pop_model.recommend(recs_pop['user_id'], N=10)\n",
    "recs_pop = recs_pop.explode('item_id')\n",
    "recs_pop['rank'] = recs_pop.groupby('user_id').cumcount() + 1\n",
    "recs_pop"
   ]
  },
  {
   "cell_type": "code",
   "execution_count": 51,
   "metadata": {},
   "outputs": [
    {
     "name": "stdout",
     "output_type": "stream",
     "text": [
      "Индекс Джини 0.20 и Recall 1.00\n"
     ]
    }
   ],
   "source": [
    "eval_metrics(valid_stage_hot, recs_pop)"
   ]
  },
  {
   "cell_type": "markdown",
   "metadata": {},
   "source": [
    "## Матричная Факторизация"
   ]
  },
  {
   "cell_type": "code",
   "execution_count": 55,
   "metadata": {},
   "outputs": [
    {
     "data": {
      "application/vnd.jupyter.widget-view+json": {
       "model_id": "bad2ba5a58884920b2d65aee903bc004",
       "version_major": 2,
       "version_minor": 0
      },
      "text/plain": [
       "  0%|          | 0/15 [00:00<?, ?it/s]"
      ]
     },
     "metadata": {},
     "output_type": "display_data"
    }
   ],
   "source": [
    "als_model = AlternatingLeastSquares()\n",
    "als_model.fit(train_coo_mat)"
   ]
  },
  {
   "cell_type": "code",
   "execution_count": 67,
   "metadata": {},
   "outputs": [],
   "source": [
    "def generate_recs(model, train_matrix, user_mapping, item_inv_mapping, N=10):\n",
    "    recommendations = {}\n",
    "    for user in user_mapping.keys():\n",
    "        user_id = user_mapping[user]\n",
    "        try:\n",
    "            ids, scores = model.recommend(\n",
    "                user_id,\n",
    "                train_matrix[user_id],\n",
    "                N=N,\n",
    "                filter_already_liked_items=True\n",
    "            )\n",
    "            recs = [(item_inv_mapping[item], score) for item, score in zip(ids, scores)]\n",
    "            recommendations[user] = recs\n",
    "        except Exception:\n",
    "            print(\"Out of range\")\n",
    "    \n",
    "    return recommendations"
   ]
  },
  {
   "cell_type": "code",
   "execution_count": null,
   "metadata": {},
   "outputs": [],
   "source": [
    "mapper_als = generate_recs(als_model, train_coo_mat, users_mapping, items_inv_mapping)"
   ]
  },
  {
   "cell_type": "code",
   "execution_count": 69,
   "metadata": {},
   "outputs": [
    {
     "data": {
      "text/html": [
       "<div>\n",
       "<style scoped>\n",
       "    .dataframe tbody tr th:only-of-type {\n",
       "        vertical-align: middle;\n",
       "    }\n",
       "\n",
       "    .dataframe tbody tr th {\n",
       "        vertical-align: top;\n",
       "    }\n",
       "\n",
       "    .dataframe thead th {\n",
       "        text-align: right;\n",
       "    }\n",
       "</style>\n",
       "<table border=\"1\" class=\"dataframe\">\n",
       "  <thead>\n",
       "    <tr style=\"text-align: right;\">\n",
       "      <th></th>\n",
       "      <th>user_id</th>\n",
       "      <th>item_id</th>\n",
       "      <th>rank</th>\n",
       "    </tr>\n",
       "  </thead>\n",
       "  <tbody>\n",
       "    <tr>\n",
       "      <th>0</th>\n",
       "      <td>491856</td>\n",
       "      <td>(7713, 0.018015875)</td>\n",
       "      <td>1</td>\n",
       "    </tr>\n",
       "    <tr>\n",
       "      <th>0</th>\n",
       "      <td>491856</td>\n",
       "      <td>(10436, 0.01408476)</td>\n",
       "      <td>2</td>\n",
       "    </tr>\n",
       "    <tr>\n",
       "      <th>0</th>\n",
       "      <td>491856</td>\n",
       "      <td>(12132, 0.013723382)</td>\n",
       "      <td>3</td>\n",
       "    </tr>\n",
       "    <tr>\n",
       "      <th>0</th>\n",
       "      <td>491856</td>\n",
       "      <td>(6945, 0.012837407)</td>\n",
       "      <td>4</td>\n",
       "    </tr>\n",
       "    <tr>\n",
       "      <th>0</th>\n",
       "      <td>491856</td>\n",
       "      <td>(6939, 0.01059416)</td>\n",
       "      <td>5</td>\n",
       "    </tr>\n",
       "    <tr>\n",
       "      <th>...</th>\n",
       "      <td>...</td>\n",
       "      <td>...</td>\n",
       "      <td>...</td>\n",
       "    </tr>\n",
       "    <tr>\n",
       "      <th>151387</th>\n",
       "      <td>509102</td>\n",
       "      <td>(5693, 0.013842618)</td>\n",
       "      <td>6</td>\n",
       "    </tr>\n",
       "    <tr>\n",
       "      <th>151387</th>\n",
       "      <td>509102</td>\n",
       "      <td>(1287, 0.012484793)</td>\n",
       "      <td>7</td>\n",
       "    </tr>\n",
       "    <tr>\n",
       "      <th>151387</th>\n",
       "      <td>509102</td>\n",
       "      <td>(3402, 0.012346473)</td>\n",
       "      <td>8</td>\n",
       "    </tr>\n",
       "    <tr>\n",
       "      <th>151387</th>\n",
       "      <td>509102</td>\n",
       "      <td>(16361, 0.01221867)</td>\n",
       "      <td>9</td>\n",
       "    </tr>\n",
       "    <tr>\n",
       "      <th>151387</th>\n",
       "      <td>509102</td>\n",
       "      <td>(13935, 0.011896464)</td>\n",
       "      <td>10</td>\n",
       "    </tr>\n",
       "  </tbody>\n",
       "</table>\n",
       "<p>1513880 rows × 3 columns</p>\n",
       "</div>"
      ],
      "text/plain": [
       "        user_id               item_id  rank\n",
       "0        491856   (7713, 0.018015875)     1\n",
       "0        491856   (10436, 0.01408476)     2\n",
       "0        491856  (12132, 0.013723382)     3\n",
       "0        491856   (6945, 0.012837407)     4\n",
       "0        491856    (6939, 0.01059416)     5\n",
       "...         ...                   ...   ...\n",
       "151387   509102   (5693, 0.013842618)     6\n",
       "151387   509102   (1287, 0.012484793)     7\n",
       "151387   509102   (3402, 0.012346473)     8\n",
       "151387   509102   (16361, 0.01221867)     9\n",
       "151387   509102  (13935, 0.011896464)    10\n",
       "\n",
       "[1513880 rows x 3 columns]"
      ]
     },
     "execution_count": 69,
     "metadata": {},
     "output_type": "execute_result"
    }
   ],
   "source": [
    "recs_als = pd.DataFrame({'user_id': valid_stage_hot['user_id'].unique()})\n",
    "recs_als['item_id'] = recs_als['user_id'].map(mapper_als)\n",
    "recs_als = recs_als.explode('item_id')\n",
    "recs_als['rank'] = recs_als.groupby('user_id').cumcount() + 1\n",
    "recs_als"
   ]
  },
  {
   "cell_type": "code",
   "execution_count": 70,
   "metadata": {},
   "outputs": [
    {
     "name": "stdout",
     "output_type": "stream",
     "text": [
      "Индекс Джини 0.00 и Recall 0.93\n"
     ]
    }
   ],
   "source": [
    "eval_metrics(valid_stage_hot, recs_als)"
   ]
  },
  {
   "cell_type": "markdown",
   "metadata": {},
   "source": [
    "## Нейросетевая модель"
   ]
  },
  {
   "cell_type": "code",
   "execution_count": 23,
   "metadata": {},
   "outputs": [],
   "source": [
    "dataset = Dataset.construct(\n",
    "    interactions_df=train_interactions,\n",
    ")"
   ]
  },
  {
   "cell_type": "code",
   "execution_count": 24,
   "metadata": {},
   "outputs": [],
   "source": [
    "warnings.simplefilter(\"ignore\")\n",
    "torch.use_deterministic_algorithms(True)"
   ]
  },
  {
   "cell_type": "code",
   "execution_count": 25,
   "metadata": {},
   "outputs": [
    {
     "name": "stderr",
     "output_type": "stream",
     "text": [
      "GPU available: True (mps), used: True\n",
      "TPU available: False, using: 0 TPU cores\n",
      "HPU available: False, using: 0 HPUs\n"
     ]
    }
   ],
   "source": [
    "sasrec = SASRecModel(\n",
    "    session_max_len=20,\n",
    "    loss=\"softmax\",\n",
    "    n_factors=64,\n",
    "    lr=0.001,\n",
    "    batch_size=16,\n",
    "    deterministic=True,\n",
    ")"
   ]
  },
  {
   "cell_type": "code",
   "execution_count": 26,
   "metadata": {},
   "outputs": [
    {
     "name": "stderr",
     "output_type": "stream",
     "text": [
      "`Trainer.fit` stopped: `max_epochs=3` reached.\n"
     ]
    },
    {
     "name": "stdout",
     "output_type": "stream",
     "text": [
      "CPU times: user 29min 44s, sys: 4min 36s, total: 34min 20s\n",
      "Wall time: 32min 8s\n"
     ]
    },
    {
     "data": {
      "text/plain": [
       "<rectools.models.nn.transformers.sasrec.SASRecModel at 0x3658f83d0>"
      ]
     },
     "execution_count": 26,
     "metadata": {},
     "output_type": "execute_result"
    }
   ],
   "source": [
    "%%time\n",
    "sasrec.fit(dataset)"
   ]
  },
  {
   "cell_type": "code",
   "execution_count": 28,
   "metadata": {},
   "outputs": [
    {
     "data": {
      "text/html": [
       "<div>\n",
       "<style scoped>\n",
       "    .dataframe tbody tr th:only-of-type {\n",
       "        vertical-align: middle;\n",
       "    }\n",
       "\n",
       "    .dataframe tbody tr th {\n",
       "        vertical-align: top;\n",
       "    }\n",
       "\n",
       "    .dataframe thead th {\n",
       "        text-align: right;\n",
       "    }\n",
       "</style>\n",
       "<table border=\"1\" class=\"dataframe\">\n",
       "  <thead>\n",
       "    <tr style=\"text-align: right;\">\n",
       "      <th></th>\n",
       "      <th>user_id</th>\n",
       "      <th>item_id</th>\n",
       "      <th>score</th>\n",
       "      <th>rank</th>\n",
       "    </tr>\n",
       "  </thead>\n",
       "  <tbody>\n",
       "    <tr>\n",
       "      <th>0</th>\n",
       "      <td>686772</td>\n",
       "      <td>10440</td>\n",
       "      <td>2.684944</td>\n",
       "      <td>1</td>\n",
       "    </tr>\n",
       "    <tr>\n",
       "      <th>1</th>\n",
       "      <td>686772</td>\n",
       "      <td>9728</td>\n",
       "      <td>2.474058</td>\n",
       "      <td>2</td>\n",
       "    </tr>\n",
       "    <tr>\n",
       "      <th>2</th>\n",
       "      <td>686772</td>\n",
       "      <td>13865</td>\n",
       "      <td>2.451519</td>\n",
       "      <td>3</td>\n",
       "    </tr>\n",
       "    <tr>\n",
       "      <th>3</th>\n",
       "      <td>686772</td>\n",
       "      <td>15297</td>\n",
       "      <td>2.269182</td>\n",
       "      <td>4</td>\n",
       "    </tr>\n",
       "    <tr>\n",
       "      <th>4</th>\n",
       "      <td>686772</td>\n",
       "      <td>3734</td>\n",
       "      <td>1.638870</td>\n",
       "      <td>5</td>\n",
       "    </tr>\n",
       "    <tr>\n",
       "      <th>...</th>\n",
       "      <td>...</td>\n",
       "      <td>...</td>\n",
       "      <td>...</td>\n",
       "      <td>...</td>\n",
       "    </tr>\n",
       "    <tr>\n",
       "      <th>1513735</th>\n",
       "      <td>489707</td>\n",
       "      <td>2657</td>\n",
       "      <td>1.499656</td>\n",
       "      <td>6</td>\n",
       "    </tr>\n",
       "    <tr>\n",
       "      <th>1513736</th>\n",
       "      <td>489707</td>\n",
       "      <td>4880</td>\n",
       "      <td>1.373923</td>\n",
       "      <td>7</td>\n",
       "    </tr>\n",
       "    <tr>\n",
       "      <th>1513737</th>\n",
       "      <td>489707</td>\n",
       "      <td>12995</td>\n",
       "      <td>0.979484</td>\n",
       "      <td>8</td>\n",
       "    </tr>\n",
       "    <tr>\n",
       "      <th>1513738</th>\n",
       "      <td>489707</td>\n",
       "      <td>142</td>\n",
       "      <td>0.900250</td>\n",
       "      <td>9</td>\n",
       "    </tr>\n",
       "    <tr>\n",
       "      <th>1513739</th>\n",
       "      <td>489707</td>\n",
       "      <td>9996</td>\n",
       "      <td>0.851416</td>\n",
       "      <td>10</td>\n",
       "    </tr>\n",
       "  </tbody>\n",
       "</table>\n",
       "<p>1513740 rows × 4 columns</p>\n",
       "</div>"
      ],
      "text/plain": [
       "         user_id  item_id     score  rank\n",
       "0         686772    10440  2.684944     1\n",
       "1         686772     9728  2.474058     2\n",
       "2         686772    13865  2.451519     3\n",
       "3         686772    15297  2.269182     4\n",
       "4         686772     3734  1.638870     5\n",
       "...          ...      ...       ...   ...\n",
       "1513735   489707     2657  1.499656     6\n",
       "1513736   489707     4880  1.373923     7\n",
       "1513737   489707    12995  0.979484     8\n",
       "1513738   489707      142  0.900250     9\n",
       "1513739   489707     9996  0.851416    10\n",
       "\n",
       "[1513740 rows x 4 columns]"
      ]
     },
     "execution_count": 28,
     "metadata": {},
     "output_type": "execute_result"
    }
   ],
   "source": [
    "recs_sas = sasrec.recommend(\n",
    "    users=valid_stage_hot['user_id'].unique(),  \n",
    "    dataset=dataset,\n",
    "    k=10,\n",
    "    filter_viewed=True,\n",
    "    on_unsupported_targets=\"warn\"\n",
    ")\n",
    "recs_sas"
   ]
  },
  {
   "cell_type": "code",
   "execution_count": 29,
   "metadata": {},
   "outputs": [
    {
     "name": "stdout",
     "output_type": "stream",
     "text": [
      "Индекс Джини 0.23 и Recall 0.14\n"
     ]
    }
   ],
   "source": [
    "eval_metrics(valid_stage_hot, recs_sas)"
   ]
  },
  {
   "cell_type": "markdown",
   "metadata": {},
   "source": [
    "Каждая модель должна уметь:\n",
    "1) для пары user_item предсказывать скор релевантности (масштаб скора не важен), важно обработать случаи, когда модель не можеn проскорить пользователя или айтем, вместо этого вернуть какое-то дефолтное значение\n",
    "2) для всех пользователей вернуть top-k самых релевантных айтемов (тут вам скоры не нужны)\n",
    "\n",
    "\n",
    "Дополнительно можно провести анализ кандидат генератов, измерить насколько различные айтемы они рекомендуют, например с помощью таких метрик как: [Ranked based overlap](https://github.com/changyaochen/rbo) или различные вариации [Diversity](https://github.com/MaurizioFD/RecSys2019_DeepLearning_Evaluation/blob/master/Base/Evaluation/metrics.py#L289). **(1 балл)**"
   ]
  },
  {
   "cell_type": "markdown",
   "metadata": {},
   "source": [
    "\n",
    "### 2 Этап. Генерация и сборка признаков. (max 2 балла)\n",
    "Необходимо собрать минимум 10 осмысленных (`np.radndom.rand()` не подойдет) признаков, при этом:\n",
    "1. 2 должны относиться только к сущности \"пользователь\" (например средний % просмотра фильмов у этой возрастной категории)\n",
    "2. 2 должны относиться только к сущности \"айтем\" (например средний средний % просмотра данного фильма)\n",
    "3. 6 признаков, которые показывают связь пользователя и айтема (например средний % просмотра фильмов с данным актером (айтем) у пользователей с таким же полом (пользователь)). \n",
    "\n",
    "### ВАЖНО!  \n",
    "\n",
    "1. **В датасете есть колонка `watched_prct`. Ее можно использовать для генерации признаков (например сколько пользователь в среднем смотрит фильмы), но нельзя подавать в модель, как отдельную фичу, потому что она напрямую связана с target.**\n",
    "2. **Все признаки должны быть собраны без дата лика, то есть если пользователь посмотрел фильм 10 августа, то признаки мы можем считать только на данных до 9 августа включительно.**\n",
    "\n",
    "\n",
    "### Разбалловка\n",
    "Обучение ранкера будет проходить на `valid_stage_1`, как  раз на которой мы валидировали модели, а тестировать на `test`. Поэтому есть 2 варианта сборки признаков, **реализовать нужно только 1 из них:**\n",
    "1. Для обучения собираем признаки на первый день `valid_stage_1`, а для теста на первый день `test`. Например, если `valid_stage_1` начинается 5 сентября, то все признаки мы можем собирать только по 4 сентября включительно. **(1 балл)**\n",
    "2. Признаки будем собирать честно на каждый день, то есть на 5 сентября собираем с начала до 4, на 6 сентября с начала до 5 и т.д. **(2 балла)**"
   ]
  },
  {
   "cell_type": "markdown",
   "metadata": {},
   "source": [
    "## Признаки пользователя"
   ]
  },
  {
   "cell_type": "code",
   "execution_count": 30,
   "metadata": {},
   "outputs": [],
   "source": [
    "def make_user_features(users, train_users):\n",
    "    age_watch = train_users.merge(users[['user_id', 'age']], on='user_id', how='left')\n",
    "    users['avg_watched_by_age'] = users['age'].map(age_watch.groupby('age')['watched_pct'].mean())\n",
    "    users['watch_count'] = users['user_id'].map(train_users.groupby('user_id').size())\n",
    "    \n",
    "    return users"
   ]
  },
  {
   "cell_type": "code",
   "execution_count": 33,
   "metadata": {},
   "outputs": [
    {
     "data": {
      "text/html": [
       "<div>\n",
       "<style scoped>\n",
       "    .dataframe tbody tr th:only-of-type {\n",
       "        vertical-align: middle;\n",
       "    }\n",
       "\n",
       "    .dataframe tbody tr th {\n",
       "        vertical-align: top;\n",
       "    }\n",
       "\n",
       "    .dataframe thead th {\n",
       "        text-align: right;\n",
       "    }\n",
       "</style>\n",
       "<table border=\"1\" class=\"dataframe\">\n",
       "  <thead>\n",
       "    <tr style=\"text-align: right;\">\n",
       "      <th></th>\n",
       "      <th>user_id</th>\n",
       "      <th>age</th>\n",
       "      <th>income</th>\n",
       "      <th>sex</th>\n",
       "      <th>kids_flg</th>\n",
       "      <th>avg_watched_by_age</th>\n",
       "      <th>watch_count</th>\n",
       "    </tr>\n",
       "  </thead>\n",
       "  <tbody>\n",
       "    <tr>\n",
       "      <th>0</th>\n",
       "      <td>973171</td>\n",
       "      <td>age_25_34</td>\n",
       "      <td>income_60_90</td>\n",
       "      <td>М</td>\n",
       "      <td>1</td>\n",
       "      <td>49.741843</td>\n",
       "      <td>5.0</td>\n",
       "    </tr>\n",
       "    <tr>\n",
       "      <th>1</th>\n",
       "      <td>962099</td>\n",
       "      <td>age_18_24</td>\n",
       "      <td>income_20_40</td>\n",
       "      <td>М</td>\n",
       "      <td>0</td>\n",
       "      <td>48.873798</td>\n",
       "      <td>13.0</td>\n",
       "    </tr>\n",
       "    <tr>\n",
       "      <th>2</th>\n",
       "      <td>1047345</td>\n",
       "      <td>age_45_54</td>\n",
       "      <td>income_40_60</td>\n",
       "      <td>Ж</td>\n",
       "      <td>0</td>\n",
       "      <td>48.352909</td>\n",
       "      <td>NaN</td>\n",
       "    </tr>\n",
       "    <tr>\n",
       "      <th>3</th>\n",
       "      <td>721985</td>\n",
       "      <td>age_45_54</td>\n",
       "      <td>income_20_40</td>\n",
       "      <td>Ж</td>\n",
       "      <td>0</td>\n",
       "      <td>48.352909</td>\n",
       "      <td>13.0</td>\n",
       "    </tr>\n",
       "    <tr>\n",
       "      <th>4</th>\n",
       "      <td>704055</td>\n",
       "      <td>age_35_44</td>\n",
       "      <td>income_60_90</td>\n",
       "      <td>Ж</td>\n",
       "      <td>0</td>\n",
       "      <td>50.437727</td>\n",
       "      <td>9.0</td>\n",
       "    </tr>\n",
       "  </tbody>\n",
       "</table>\n",
       "</div>"
      ],
      "text/plain": [
       "   user_id        age        income sex  kids_flg  avg_watched_by_age  \\\n",
       "0   973171  age_25_34  income_60_90   М         1           49.741843   \n",
       "1   962099  age_18_24  income_20_40   М         0           48.873798   \n",
       "2  1047345  age_45_54  income_40_60   Ж         0           48.352909   \n",
       "3   721985  age_45_54  income_20_40   Ж         0           48.352909   \n",
       "4   704055  age_35_44  income_60_90   Ж         0           50.437727   \n",
       "\n",
       "   watch_count  \n",
       "0          5.0  \n",
       "1         13.0  \n",
       "2          NaN  \n",
       "3         13.0  \n",
       "4          9.0  "
      ]
     },
     "execution_count": 33,
     "metadata": {},
     "output_type": "execute_result"
    }
   ],
   "source": [
    "df_users = make_user_features(df_users, train_stage)\n",
    "df_users.head()"
   ]
  },
  {
   "cell_type": "markdown",
   "metadata": {},
   "source": [
    "## Признаки айтем"
   ]
  },
  {
   "cell_type": "code",
   "execution_count": 43,
   "metadata": {},
   "outputs": [],
   "source": [
    "def make_item_features(items, train_users):\n",
    "    \n",
    "    items['item_popularity'] = items['item_id'].map(\n",
    "        train_users.groupby('item_id').size()\n",
    "    )\n",
    "    items['item_avg_pct'] = items['item_id'].map(\n",
    "        train_users.groupby('item_id')['watched_pct'].mean()\n",
    "    )\n",
    "    \n",
    "    return items"
   ]
  },
  {
   "cell_type": "code",
   "execution_count": 44,
   "metadata": {},
   "outputs": [],
   "source": [
    "df_items = make_item_features(df_items, train_stage)"
   ]
  },
  {
   "cell_type": "code",
   "execution_count": 45,
   "metadata": {},
   "outputs": [
    {
     "data": {
      "text/html": [
       "<div>\n",
       "<style scoped>\n",
       "    .dataframe tbody tr th:only-of-type {\n",
       "        vertical-align: middle;\n",
       "    }\n",
       "\n",
       "    .dataframe tbody tr th {\n",
       "        vertical-align: top;\n",
       "    }\n",
       "\n",
       "    .dataframe thead th {\n",
       "        text-align: right;\n",
       "    }\n",
       "</style>\n",
       "<table border=\"1\" class=\"dataframe\">\n",
       "  <thead>\n",
       "    <tr style=\"text-align: right;\">\n",
       "      <th></th>\n",
       "      <th>item_id</th>\n",
       "      <th>content_type</th>\n",
       "      <th>title</th>\n",
       "      <th>title_orig</th>\n",
       "      <th>release_year</th>\n",
       "      <th>genres</th>\n",
       "      <th>countries</th>\n",
       "      <th>for_kids</th>\n",
       "      <th>age_rating</th>\n",
       "      <th>studios</th>\n",
       "      <th>directors</th>\n",
       "      <th>actors</th>\n",
       "      <th>description</th>\n",
       "      <th>keywords</th>\n",
       "      <th>item_popularity</th>\n",
       "      <th>item_avg_pct</th>\n",
       "    </tr>\n",
       "  </thead>\n",
       "  <tbody>\n",
       "    <tr>\n",
       "      <th>0</th>\n",
       "      <td>10711</td>\n",
       "      <td>film</td>\n",
       "      <td>Поговори с ней</td>\n",
       "      <td>Hable con ella</td>\n",
       "      <td>2002.0</td>\n",
       "      <td>драмы, зарубежные, детективы, мелодрамы</td>\n",
       "      <td>Испания</td>\n",
       "      <td>NaN</td>\n",
       "      <td>16.0</td>\n",
       "      <td>NaN</td>\n",
       "      <td>Педро Альмодовар</td>\n",
       "      <td>Адольфо Фернандес, Ана Фернандес, Дарио Гранди...</td>\n",
       "      <td>Мелодрама легендарного Педро Альмодовара «Пого...</td>\n",
       "      <td>Поговори, ней, 2002, Испания, друзья, любовь, ...</td>\n",
       "      <td>4.0</td>\n",
       "      <td>75.250000</td>\n",
       "    </tr>\n",
       "    <tr>\n",
       "      <th>1</th>\n",
       "      <td>2508</td>\n",
       "      <td>film</td>\n",
       "      <td>Голые перцы</td>\n",
       "      <td>Search Party</td>\n",
       "      <td>2014.0</td>\n",
       "      <td>зарубежные, приключения, комедии</td>\n",
       "      <td>США</td>\n",
       "      <td>NaN</td>\n",
       "      <td>16.0</td>\n",
       "      <td>NaN</td>\n",
       "      <td>Скот Армстронг</td>\n",
       "      <td>Адам Палли, Брайан Хаски, Дж.Б. Смув, Джейсон ...</td>\n",
       "      <td>Уморительная современная комедия на популярную...</td>\n",
       "      <td>Голые, перцы, 2014, США, друзья, свадьбы, прео...</td>\n",
       "      <td>9.0</td>\n",
       "      <td>38.777778</td>\n",
       "    </tr>\n",
       "    <tr>\n",
       "      <th>2</th>\n",
       "      <td>10716</td>\n",
       "      <td>film</td>\n",
       "      <td>Тактическая сила</td>\n",
       "      <td>Tactical Force</td>\n",
       "      <td>2011.0</td>\n",
       "      <td>криминал, зарубежные, триллеры, боевики, комедии</td>\n",
       "      <td>Канада</td>\n",
       "      <td>NaN</td>\n",
       "      <td>16.0</td>\n",
       "      <td>NaN</td>\n",
       "      <td>Адам П. Калтраро</td>\n",
       "      <td>Адриан Холмс, Даррен Шалави, Джерри Вассерман,...</td>\n",
       "      <td>Профессиональный рестлер Стив Остин («Все или ...</td>\n",
       "      <td>Тактическая, сила, 2011, Канада, бандиты, ганг...</td>\n",
       "      <td>6.0</td>\n",
       "      <td>69.000000</td>\n",
       "    </tr>\n",
       "    <tr>\n",
       "      <th>3</th>\n",
       "      <td>7868</td>\n",
       "      <td>film</td>\n",
       "      <td>45 лет</td>\n",
       "      <td>45 Years</td>\n",
       "      <td>2015.0</td>\n",
       "      <td>драмы, зарубежные, мелодрамы</td>\n",
       "      <td>Великобритания</td>\n",
       "      <td>NaN</td>\n",
       "      <td>16.0</td>\n",
       "      <td>NaN</td>\n",
       "      <td>Эндрю Хэй</td>\n",
       "      <td>Александра Риддлстон-Барретт, Джеральдин Джейм...</td>\n",
       "      <td>Шарлотта Рэмплинг, Том Кортни, Джеральдин Джей...</td>\n",
       "      <td>45, лет, 2015, Великобритания, брак, жизнь, лю...</td>\n",
       "      <td>2.0</td>\n",
       "      <td>98.000000</td>\n",
       "    </tr>\n",
       "    <tr>\n",
       "      <th>4</th>\n",
       "      <td>16268</td>\n",
       "      <td>film</td>\n",
       "      <td>Все решает мгновение</td>\n",
       "      <td>NaN</td>\n",
       "      <td>1978.0</td>\n",
       "      <td>драмы, спорт, советские, мелодрамы</td>\n",
       "      <td>СССР</td>\n",
       "      <td>NaN</td>\n",
       "      <td>12.0</td>\n",
       "      <td>Ленфильм</td>\n",
       "      <td>Виктор Садовский</td>\n",
       "      <td>Александр Абдулов, Александр Демьяненко, Алекс...</td>\n",
       "      <td>Расчетливая чаровница из советского кинохита «...</td>\n",
       "      <td>Все, решает, мгновение, 1978, СССР, сильные, ж...</td>\n",
       "      <td>1.0</td>\n",
       "      <td>100.000000</td>\n",
       "    </tr>\n",
       "  </tbody>\n",
       "</table>\n",
       "</div>"
      ],
      "text/plain": [
       "   item_id content_type                 title      title_orig  release_year  \\\n",
       "0    10711         film        Поговори с ней  Hable con ella        2002.0   \n",
       "1     2508         film           Голые перцы    Search Party        2014.0   \n",
       "2    10716         film      Тактическая сила  Tactical Force        2011.0   \n",
       "3     7868         film                45 лет        45 Years        2015.0   \n",
       "4    16268         film  Все решает мгновение             NaN        1978.0   \n",
       "\n",
       "                                             genres       countries  for_kids  \\\n",
       "0           драмы, зарубежные, детективы, мелодрамы         Испания       NaN   \n",
       "1                  зарубежные, приключения, комедии             США       NaN   \n",
       "2  криминал, зарубежные, триллеры, боевики, комедии          Канада       NaN   \n",
       "3                      драмы, зарубежные, мелодрамы  Великобритания       NaN   \n",
       "4                драмы, спорт, советские, мелодрамы            СССР       NaN   \n",
       "\n",
       "   age_rating   studios         directors  \\\n",
       "0        16.0       NaN  Педро Альмодовар   \n",
       "1        16.0       NaN    Скот Армстронг   \n",
       "2        16.0       NaN  Адам П. Калтраро   \n",
       "3        16.0       NaN         Эндрю Хэй   \n",
       "4        12.0  Ленфильм  Виктор Садовский   \n",
       "\n",
       "                                              actors  \\\n",
       "0  Адольфо Фернандес, Ана Фернандес, Дарио Гранди...   \n",
       "1  Адам Палли, Брайан Хаски, Дж.Б. Смув, Джейсон ...   \n",
       "2  Адриан Холмс, Даррен Шалави, Джерри Вассерман,...   \n",
       "3  Александра Риддлстон-Барретт, Джеральдин Джейм...   \n",
       "4  Александр Абдулов, Александр Демьяненко, Алекс...   \n",
       "\n",
       "                                         description  \\\n",
       "0  Мелодрама легендарного Педро Альмодовара «Пого...   \n",
       "1  Уморительная современная комедия на популярную...   \n",
       "2  Профессиональный рестлер Стив Остин («Все или ...   \n",
       "3  Шарлотта Рэмплинг, Том Кортни, Джеральдин Джей...   \n",
       "4  Расчетливая чаровница из советского кинохита «...   \n",
       "\n",
       "                                            keywords  item_popularity  \\\n",
       "0  Поговори, ней, 2002, Испания, друзья, любовь, ...              4.0   \n",
       "1  Голые, перцы, 2014, США, друзья, свадьбы, прео...              9.0   \n",
       "2  Тактическая, сила, 2011, Канада, бандиты, ганг...              6.0   \n",
       "3  45, лет, 2015, Великобритания, брак, жизнь, лю...              2.0   \n",
       "4  Все, решает, мгновение, 1978, СССР, сильные, ж...              1.0   \n",
       "\n",
       "   item_avg_pct  \n",
       "0     75.250000  \n",
       "1     38.777778  \n",
       "2     69.000000  \n",
       "3     98.000000  \n",
       "4    100.000000  "
      ]
     },
     "execution_count": 45,
     "metadata": {},
     "output_type": "execute_result"
    }
   ],
   "source": [
    "df_items.head()"
   ]
  },
  {
   "cell_type": "markdown",
   "metadata": {},
   "source": [
    "## Признаки взаимодействия"
   ]
  },
  {
   "cell_type": "code",
   "execution_count": 89,
   "metadata": {},
   "outputs": [],
   "source": [
    "def make_interaction_features(train_users, features):\n",
    "    boost = train_users.copy()\n",
    "    \n",
    "    for cols, new_col in features:\n",
    "        avg_col = (train_users.groupby(cols)['watched_pct']\n",
    "                    .mean()\n",
    "                    .reset_index()\n",
    "                    .rename(columns={'watched_pct': new_col}))\n",
    "        boost = boost.merge(avg_col, on=cols, how='left')\n",
    "\n",
    "\n",
    "    return boost"
   ]
  },
  {
   "cell_type": "code",
   "execution_count": 101,
   "metadata": {},
   "outputs": [],
   "source": [
    "features = [\n",
    "    (['item_id', 'age'], 'avg_item_age'),\n",
    "    (['item_id', 'income'], 'avg_item_income'),\n",
    "    (['item_id', 'sex'], 'avg_item_sex'),\n",
    "    (['user_id', 'kids_flg'], 'avg_user_kids'),\n",
    "    (['user_id'], 'avg_watched'),\n",
    "    (['item_id', 'user_id'], 'interations_count')\n",
    "]"
   ]
  },
  {
   "cell_type": "code",
   "execution_count": 80,
   "metadata": {},
   "outputs": [],
   "source": [
    "train_stage = train_stage.merge(df_users, on='user_id', how='left')\n",
    "train_stage = train_stage.merge(df_items, on='item_id', how='left')"
   ]
  },
  {
   "cell_type": "code",
   "execution_count": 90,
   "metadata": {},
   "outputs": [],
   "source": [
    "boost = make_interaction_features(train_stage, features)"
   ]
  },
  {
   "cell_type": "code",
   "execution_count": 91,
   "metadata": {},
   "outputs": [
    {
     "data": {
      "text/html": [
       "<div>\n",
       "<style scoped>\n",
       "    .dataframe tbody tr th:only-of-type {\n",
       "        vertical-align: middle;\n",
       "    }\n",
       "\n",
       "    .dataframe tbody tr th {\n",
       "        vertical-align: top;\n",
       "    }\n",
       "\n",
       "    .dataframe thead th {\n",
       "        text-align: right;\n",
       "    }\n",
       "</style>\n",
       "<table border=\"1\" class=\"dataframe\">\n",
       "  <thead>\n",
       "    <tr style=\"text-align: right;\">\n",
       "      <th></th>\n",
       "      <th>user_id</th>\n",
       "      <th>item_id</th>\n",
       "      <th>last_watch_dt</th>\n",
       "      <th>total_dur</th>\n",
       "      <th>watched_pct</th>\n",
       "      <th>target</th>\n",
       "      <th>age</th>\n",
       "      <th>income</th>\n",
       "      <th>sex</th>\n",
       "      <th>kids_flg</th>\n",
       "      <th>...</th>\n",
       "      <th>age_rating</th>\n",
       "      <th>studios</th>\n",
       "      <th>directors</th>\n",
       "      <th>actors</th>\n",
       "      <th>description</th>\n",
       "      <th>keywords</th>\n",
       "      <th>avg_item_age</th>\n",
       "      <th>avg_item_income</th>\n",
       "      <th>avg_item_sex</th>\n",
       "      <th>interations_count</th>\n",
       "    </tr>\n",
       "  </thead>\n",
       "  <tbody>\n",
       "    <tr>\n",
       "      <th>0</th>\n",
       "      <td>310745</td>\n",
       "      <td>13373</td>\n",
       "      <td>2021-03-13</td>\n",
       "      <td>4485</td>\n",
       "      <td>98.0</td>\n",
       "      <td>1</td>\n",
       "      <td>age_35_44</td>\n",
       "      <td>income_90_150</td>\n",
       "      <td>М</td>\n",
       "      <td>1.0</td>\n",
       "      <td>...</td>\n",
       "      <td>0.0</td>\n",
       "      <td>NaN</td>\n",
       "      <td>Дункан МакНили</td>\n",
       "      <td>Брайан Адамс, Дональд Сазерленд, Хелен Хант, Т...</td>\n",
       "      <td>История приключений очаровательного и бесстраш...</td>\n",
       "      <td>2011, соединенные штаты, джок</td>\n",
       "      <td>57.484848</td>\n",
       "      <td>54.857143</td>\n",
       "      <td>57.994624</td>\n",
       "      <td>98.0</td>\n",
       "    </tr>\n",
       "    <tr>\n",
       "      <th>1</th>\n",
       "      <td>841963</td>\n",
       "      <td>3095</td>\n",
       "      <td>2021-03-13</td>\n",
       "      <td>83</td>\n",
       "      <td>1.0</td>\n",
       "      <td>0</td>\n",
       "      <td>age_45_54</td>\n",
       "      <td>income_20_40</td>\n",
       "      <td>М</td>\n",
       "      <td>0.0</td>\n",
       "      <td>...</td>\n",
       "      <td>12.0</td>\n",
       "      <td>NaN</td>\n",
       "      <td>Алан Тейлор</td>\n",
       "      <td>Крис Хемсворт, Натали Портман, Том Хиддлстон, ...</td>\n",
       "      <td>Могучему Тору предстоит вновь сразиться за вос...</td>\n",
       "      <td>супергерой, основанный на комическом, скандина...</td>\n",
       "      <td>57.122271</td>\n",
       "      <td>57.241234</td>\n",
       "      <td>58.114607</td>\n",
       "      <td>1.0</td>\n",
       "    </tr>\n",
       "    <tr>\n",
       "      <th>2</th>\n",
       "      <td>914523</td>\n",
       "      <td>13936</td>\n",
       "      <td>2021-03-13</td>\n",
       "      <td>5503</td>\n",
       "      <td>92.0</td>\n",
       "      <td>1</td>\n",
       "      <td>NaN</td>\n",
       "      <td>NaN</td>\n",
       "      <td>NaN</td>\n",
       "      <td>NaN</td>\n",
       "      <td>...</td>\n",
       "      <td>12.0</td>\n",
       "      <td>NaN</td>\n",
       "      <td>Владимир Котт</td>\n",
       "      <td>Марина Неелова, Алиса Фрейндлих, Евгений Мирон...</td>\n",
       "      <td>Пенсионерка Елена Михайловна (Марина Неёлова) ...</td>\n",
       "      <td>2017, россия, карп, отмороженный</td>\n",
       "      <td>NaN</td>\n",
       "      <td>NaN</td>\n",
       "      <td>NaN</td>\n",
       "      <td>92.0</td>\n",
       "    </tr>\n",
       "    <tr>\n",
       "      <th>3</th>\n",
       "      <td>306374</td>\n",
       "      <td>3095</td>\n",
       "      <td>2021-03-13</td>\n",
       "      <td>2865</td>\n",
       "      <td>44.0</td>\n",
       "      <td>0</td>\n",
       "      <td>NaN</td>\n",
       "      <td>NaN</td>\n",
       "      <td>NaN</td>\n",
       "      <td>NaN</td>\n",
       "      <td>...</td>\n",
       "      <td>12.0</td>\n",
       "      <td>NaN</td>\n",
       "      <td>Алан Тейлор</td>\n",
       "      <td>Крис Хемсворт, Натали Портман, Том Хиддлстон, ...</td>\n",
       "      <td>Могучему Тору предстоит вновь сразиться за вос...</td>\n",
       "      <td>супергерой, основанный на комическом, скандина...</td>\n",
       "      <td>NaN</td>\n",
       "      <td>NaN</td>\n",
       "      <td>NaN</td>\n",
       "      <td>44.0</td>\n",
       "    </tr>\n",
       "    <tr>\n",
       "      <th>4</th>\n",
       "      <td>505923</td>\n",
       "      <td>3221</td>\n",
       "      <td>2021-03-13</td>\n",
       "      <td>12765</td>\n",
       "      <td>100.0</td>\n",
       "      <td>1</td>\n",
       "      <td>age_35_44</td>\n",
       "      <td>income_40_60</td>\n",
       "      <td>Ж</td>\n",
       "      <td>1.0</td>\n",
       "      <td>...</td>\n",
       "      <td>12.0</td>\n",
       "      <td>Ленфильм, рентв</td>\n",
       "      <td>Александр Иванов</td>\n",
       "      <td>Андрей Абрикосов, Владимир Волчик, Долорес Сто...</td>\n",
       "      <td>Трехсерийный советский фильм, снятый по одноим...</td>\n",
       "      <td>Поднятая, целина, 1959, СССР, борьба, системой...</td>\n",
       "      <td>83.500000</td>\n",
       "      <td>100.000000</td>\n",
       "      <td>50.000000</td>\n",
       "      <td>100.0</td>\n",
       "    </tr>\n",
       "  </tbody>\n",
       "</table>\n",
       "<p>5 rows × 27 columns</p>\n",
       "</div>"
      ],
      "text/plain": [
       "   user_id  item_id last_watch_dt  total_dur  watched_pct  target        age  \\\n",
       "0   310745    13373    2021-03-13       4485         98.0       1  age_35_44   \n",
       "1   841963     3095    2021-03-13         83          1.0       0  age_45_54   \n",
       "2   914523    13936    2021-03-13       5503         92.0       1        NaN   \n",
       "3   306374     3095    2021-03-13       2865         44.0       0        NaN   \n",
       "4   505923     3221    2021-03-13      12765        100.0       1  age_35_44   \n",
       "\n",
       "          income  sex  kids_flg  ... age_rating          studios  \\\n",
       "0  income_90_150    М       1.0  ...        0.0              NaN   \n",
       "1   income_20_40    М       0.0  ...       12.0              NaN   \n",
       "2            NaN  NaN       NaN  ...       12.0              NaN   \n",
       "3            NaN  NaN       NaN  ...       12.0              NaN   \n",
       "4   income_40_60    Ж       1.0  ...       12.0  Ленфильм, рентв   \n",
       "\n",
       "          directors                                             actors  \\\n",
       "0    Дункан МакНили  Брайан Адамс, Дональд Сазерленд, Хелен Хант, Т...   \n",
       "1       Алан Тейлор  Крис Хемсворт, Натали Портман, Том Хиддлстон, ...   \n",
       "2     Владимир Котт  Марина Неелова, Алиса Фрейндлих, Евгений Мирон...   \n",
       "3       Алан Тейлор  Крис Хемсворт, Натали Портман, Том Хиддлстон, ...   \n",
       "4  Александр Иванов  Андрей Абрикосов, Владимир Волчик, Долорес Сто...   \n",
       "\n",
       "                                         description  \\\n",
       "0  История приключений очаровательного и бесстраш...   \n",
       "1  Могучему Тору предстоит вновь сразиться за вос...   \n",
       "2  Пенсионерка Елена Михайловна (Марина Неёлова) ...   \n",
       "3  Могучему Тору предстоит вновь сразиться за вос...   \n",
       "4  Трехсерийный советский фильм, снятый по одноим...   \n",
       "\n",
       "                                            keywords  avg_item_age  \\\n",
       "0                      2011, соединенные штаты, джок     57.484848   \n",
       "1  супергерой, основанный на комическом, скандина...     57.122271   \n",
       "2                   2017, россия, карп, отмороженный           NaN   \n",
       "3  супергерой, основанный на комическом, скандина...           NaN   \n",
       "4  Поднятая, целина, 1959, СССР, борьба, системой...     83.500000   \n",
       "\n",
       "   avg_item_income avg_item_sex interations_count  \n",
       "0        54.857143    57.994624              98.0  \n",
       "1        57.241234    58.114607               1.0  \n",
       "2              NaN          NaN              92.0  \n",
       "3              NaN          NaN              44.0  \n",
       "4       100.000000    50.000000             100.0  \n",
       "\n",
       "[5 rows x 27 columns]"
      ]
     },
     "execution_count": 91,
     "metadata": {},
     "output_type": "execute_result"
    }
   ],
   "source": [
    "boost.head()"
   ]
  },
  {
   "cell_type": "code",
   "execution_count": 104,
   "metadata": {},
   "outputs": [],
   "source": [
    "valid_stage = valid_stage.merge(df_users, on='user_id', how='left')\n",
    "valid_stage = valid_stage.merge(df_items, on='item_id', how='left')"
   ]
  },
  {
   "cell_type": "code",
   "execution_count": 105,
   "metadata": {},
   "outputs": [
    {
     "data": {
      "text/html": [
       "<div>\n",
       "<style scoped>\n",
       "    .dataframe tbody tr th:only-of-type {\n",
       "        vertical-align: middle;\n",
       "    }\n",
       "\n",
       "    .dataframe tbody tr th {\n",
       "        vertical-align: top;\n",
       "    }\n",
       "\n",
       "    .dataframe thead th {\n",
       "        text-align: right;\n",
       "    }\n",
       "</style>\n",
       "<table border=\"1\" class=\"dataframe\">\n",
       "  <thead>\n",
       "    <tr style=\"text-align: right;\">\n",
       "      <th></th>\n",
       "      <th>user_id</th>\n",
       "      <th>item_id</th>\n",
       "      <th>last_watch_dt</th>\n",
       "      <th>total_dur</th>\n",
       "      <th>watched_pct</th>\n",
       "      <th>target</th>\n",
       "      <th>age</th>\n",
       "      <th>income</th>\n",
       "      <th>sex</th>\n",
       "      <th>kids_flg</th>\n",
       "      <th>...</th>\n",
       "      <th>release_year</th>\n",
       "      <th>genres</th>\n",
       "      <th>countries</th>\n",
       "      <th>for_kids</th>\n",
       "      <th>age_rating</th>\n",
       "      <th>studios</th>\n",
       "      <th>directors</th>\n",
       "      <th>actors</th>\n",
       "      <th>description</th>\n",
       "      <th>keywords</th>\n",
       "    </tr>\n",
       "  </thead>\n",
       "  <tbody>\n",
       "    <tr>\n",
       "      <th>0</th>\n",
       "      <td>686772</td>\n",
       "      <td>5693</td>\n",
       "      <td>2021-07-27</td>\n",
       "      <td>7078</td>\n",
       "      <td>100.0</td>\n",
       "      <td>1</td>\n",
       "      <td>NaN</td>\n",
       "      <td>NaN</td>\n",
       "      <td>NaN</td>\n",
       "      <td>NaN</td>\n",
       "      <td>...</td>\n",
       "      <td>2019.0</td>\n",
       "      <td>боевики, фантастика, триллеры, приключения</td>\n",
       "      <td>США</td>\n",
       "      <td>NaN</td>\n",
       "      <td>16.0</td>\n",
       "      <td>NaN</td>\n",
       "      <td>Роберт Родригес</td>\n",
       "      <td>Роза Салазар, Кристоф Вальц, Дженнифер Коннелл...</td>\n",
       "      <td>Действие фильма происходит через 300 лет после...</td>\n",
       "      <td>боевые искусства, охотник за головами, экстрем...</td>\n",
       "    </tr>\n",
       "    <tr>\n",
       "      <th>1</th>\n",
       "      <td>1090560</td>\n",
       "      <td>2720</td>\n",
       "      <td>2021-07-27</td>\n",
       "      <td>1778</td>\n",
       "      <td>1.0</td>\n",
       "      <td>0</td>\n",
       "      <td>age_55_64</td>\n",
       "      <td>income_20_40</td>\n",
       "      <td>Ж</td>\n",
       "      <td>0.0</td>\n",
       "      <td>...</td>\n",
       "      <td>2017.0</td>\n",
       "      <td>драмы</td>\n",
       "      <td>США</td>\n",
       "      <td>NaN</td>\n",
       "      <td>16.0</td>\n",
       "      <td>NaN</td>\n",
       "      <td>Майк Листо, Стивен ДеПол, Дэвид Стрейтон</td>\n",
       "      <td>Фредди Хаймор, Антония Томас, Хилл Харпер, Рич...</td>\n",
       "      <td>История молодого талантливого врача с синдромо...</td>\n",
       "      <td>медсестра, сан-франциско, калифорния, аутизм, ...</td>\n",
       "    </tr>\n",
       "    <tr>\n",
       "      <th>2</th>\n",
       "      <td>600461</td>\n",
       "      <td>4740</td>\n",
       "      <td>2021-07-27</td>\n",
       "      <td>3890</td>\n",
       "      <td>54.0</td>\n",
       "      <td>1</td>\n",
       "      <td>age_35_44</td>\n",
       "      <td>income_60_90</td>\n",
       "      <td>М</td>\n",
       "      <td>1.0</td>\n",
       "      <td>...</td>\n",
       "      <td>2021.0</td>\n",
       "      <td>документальное</td>\n",
       "      <td>Россия</td>\n",
       "      <td>NaN</td>\n",
       "      <td>16.0</td>\n",
       "      <td>NaN</td>\n",
       "      <td>Иван Проскуряков</td>\n",
       "      <td>Алексей Усольцев, Чулпан Хаматова, Агата Супер</td>\n",
       "      <td>Его имя носят проспект, университет и даже аст...</td>\n",
       "      <td>Сахаров, Сахарок, Сахар, Сахар сахаров, Сахаро...</td>\n",
       "    </tr>\n",
       "    <tr>\n",
       "      <th>3</th>\n",
       "      <td>960175</td>\n",
       "      <td>14215</td>\n",
       "      <td>2021-07-27</td>\n",
       "      <td>5036</td>\n",
       "      <td>93.0</td>\n",
       "      <td>1</td>\n",
       "      <td>age_35_44</td>\n",
       "      <td>income_20_40</td>\n",
       "      <td>Ж</td>\n",
       "      <td>1.0</td>\n",
       "      <td>...</td>\n",
       "      <td>2001.0</td>\n",
       "      <td>мультфильм, фэнтези, приключения, комедии</td>\n",
       "      <td>США</td>\n",
       "      <td>NaN</td>\n",
       "      <td>6.0</td>\n",
       "      <td>NaN</td>\n",
       "      <td>Эндрю Адамсон, Вики Дженсон</td>\n",
       "      <td>Джон Литгоу, Венсан Кассель, Питер Деннис, Кла...</td>\n",
       "      <td>Жил да был в сказочном государстве большой зел...</td>\n",
       "      <td>магия, освобождение, правитель, принц, замок, ...</td>\n",
       "    </tr>\n",
       "    <tr>\n",
       "      <th>4</th>\n",
       "      <td>454186</td>\n",
       "      <td>16166</td>\n",
       "      <td>2021-07-27</td>\n",
       "      <td>5722</td>\n",
       "      <td>91.0</td>\n",
       "      <td>1</td>\n",
       "      <td>age_25_34</td>\n",
       "      <td>income_60_90</td>\n",
       "      <td>М</td>\n",
       "      <td>1.0</td>\n",
       "      <td>...</td>\n",
       "      <td>2016.0</td>\n",
       "      <td>приключения, мультфильм, детективы, комедии</td>\n",
       "      <td>США</td>\n",
       "      <td>NaN</td>\n",
       "      <td>6.0</td>\n",
       "      <td>NaN</td>\n",
       "      <td>Байрон Ховард, Рич Мур, Джаред Буш</td>\n",
       "      <td>Джиннифер Гудвин, Джейсон Бейтман, Идрис Эльба...</td>\n",
       "      <td>Добро пожаловать в Зверополис — современный го...</td>\n",
       "      <td>аллегория, лев, бегемот, лиса, слон, овца, бел...</td>\n",
       "    </tr>\n",
       "  </tbody>\n",
       "</table>\n",
       "<p>5 rows × 23 columns</p>\n",
       "</div>"
      ],
      "text/plain": [
       "   user_id  item_id last_watch_dt  total_dur  watched_pct  target        age  \\\n",
       "0   686772     5693    2021-07-27       7078        100.0       1        NaN   \n",
       "1  1090560     2720    2021-07-27       1778          1.0       0  age_55_64   \n",
       "2   600461     4740    2021-07-27       3890         54.0       1  age_35_44   \n",
       "3   960175    14215    2021-07-27       5036         93.0       1  age_35_44   \n",
       "4   454186    16166    2021-07-27       5722         91.0       1  age_25_34   \n",
       "\n",
       "         income  sex  kids_flg  ... release_year  \\\n",
       "0           NaN  NaN       NaN  ...       2019.0   \n",
       "1  income_20_40    Ж       0.0  ...       2017.0   \n",
       "2  income_60_90    М       1.0  ...       2021.0   \n",
       "3  income_20_40    Ж       1.0  ...       2001.0   \n",
       "4  income_60_90    М       1.0  ...       2016.0   \n",
       "\n",
       "                                        genres countries  for_kids age_rating  \\\n",
       "0   боевики, фантастика, триллеры, приключения       США       NaN       16.0   \n",
       "1                                        драмы       США       NaN       16.0   \n",
       "2                               документальное    Россия       NaN       16.0   \n",
       "3    мультфильм, фэнтези, приключения, комедии       США       NaN        6.0   \n",
       "4  приключения, мультфильм, детективы, комедии       США       NaN        6.0   \n",
       "\n",
       "  studios                                 directors  \\\n",
       "0     NaN                           Роберт Родригес   \n",
       "1     NaN  Майк Листо, Стивен ДеПол, Дэвид Стрейтон   \n",
       "2     NaN                          Иван Проскуряков   \n",
       "3     NaN               Эндрю Адамсон, Вики Дженсон   \n",
       "4     NaN        Байрон Ховард, Рич Мур, Джаред Буш   \n",
       "\n",
       "                                              actors  \\\n",
       "0  Роза Салазар, Кристоф Вальц, Дженнифер Коннелл...   \n",
       "1  Фредди Хаймор, Антония Томас, Хилл Харпер, Рич...   \n",
       "2     Алексей Усольцев, Чулпан Хаматова, Агата Супер   \n",
       "3  Джон Литгоу, Венсан Кассель, Питер Деннис, Кла...   \n",
       "4  Джиннифер Гудвин, Джейсон Бейтман, Идрис Эльба...   \n",
       "\n",
       "                                         description  \\\n",
       "0  Действие фильма происходит через 300 лет после...   \n",
       "1  История молодого талантливого врача с синдромо...   \n",
       "2  Его имя носят проспект, университет и даже аст...   \n",
       "3  Жил да был в сказочном государстве большой зел...   \n",
       "4  Добро пожаловать в Зверополис — современный го...   \n",
       "\n",
       "                                            keywords  \n",
       "0  боевые искусства, охотник за головами, экстрем...  \n",
       "1  медсестра, сан-франциско, калифорния, аутизм, ...  \n",
       "2  Сахаров, Сахарок, Сахар, Сахар сахаров, Сахаро...  \n",
       "3  магия, освобождение, правитель, принц, замок, ...  \n",
       "4  аллегория, лев, бегемот, лиса, слон, овца, бел...  \n",
       "\n",
       "[5 rows x 23 columns]"
      ]
     },
     "execution_count": 105,
     "metadata": {},
     "output_type": "execute_result"
    }
   ],
   "source": [
    "valid_stage.head()"
   ]
  },
  {
   "cell_type": "code",
   "execution_count": 106,
   "metadata": {},
   "outputs": [],
   "source": [
    "valid_boost = make_interaction_features(valid_stage, features)"
   ]
  },
  {
   "cell_type": "markdown",
   "metadata": {},
   "source": [
    "\n",
    "### 3 Этап. Обучение финального ранкера (max 2 балла)\n",
    "Собрав все признаки из этапа 2, добавив скоры моделей из этапа 1 для каждой пары пользователь-айтем (где это возможно), пришло время обучать ранкер. В качестве ранкера можно использовать либо [xgboost](https://xgboost.readthedocs.io/en/stable/) или [catboost](https://catboost.ai/). Обучать можно как `Classfier`, так и `Ranker`, выбираем то, что лучше сработает. Обучение ранкера будет проходить на `valid_stage_1`, как  раз на которой мы валидировали модели, а тестировать на `test`, которую мы до сих пор не трогали.  Заметьте, что у нас в тесте есть холодные пользователи – те, кого не было в train и активные – те, кто был в train. Возможно их стоит обработать по отдельности (а может и нет).  \n",
    "(1 балл)\n",
    "\n",
    "После получения лучшей модели надо посмотреть на важность признаков и [shap values](https://shap.readthedocs.io/en/latest/index.html), чтобы:\n",
    "1. Интерпритировать признаки, которые вы собрали, насколько они полезные\n",
    "2. Проверить наличие ликов – если важность фичи в 100 раз больше, чем у всех остальных, то явно что-то не то  \n",
    "\n",
    "(1 балл)\n",
    "\n",
    "\n",
    "\n",
    "\n"
   ]
  },
  {
   "cell_type": "code",
   "execution_count": 107,
   "metadata": {},
   "outputs": [],
   "source": [
    "import xgboost as xgb\n",
    "from sklearn.model_selection import train_test_split\n",
    "\n",
    "features = [\n",
    "    'total_dur', 'age', \n",
    "    'income', 'sex', 'kids_flg', 'avg_item_age', \n",
    "    'avg_item_income', 'avg_item_sex', 'interations_count'\n",
    "]  \n",
    "\n",
    "X_valid = boost[features]\n",
    "y_valid = boost['target']\n",
    "\n",
    "\n",
    "X_valid = pd.get_dummies(X_valid)"
   ]
  },
  {
   "cell_type": "code",
   "execution_count": 97,
   "metadata": {},
   "outputs": [],
   "source": [
    "dtrain = xgb.DMatrix(data=X_valid, label=y_valid)\n",
    "\n",
    "params = {\n",
    "    'objective': 'binary:logistic', \n",
    "    'max_depth': 6,\n",
    "    'eta': 0.1,\n",
    "    'eval_metric': 'logloss'\n",
    "}\n",
    "\n",
    "bst = xgb.train(params, dtrain, num_boost_round=100)"
   ]
  },
  {
   "cell_type": "code",
   "execution_count": 109,
   "metadata": {},
   "outputs": [],
   "source": [
    "X_test = valid_boost[features]\n",
    "X_test = pd.get_dummies(X_test)\n",
    "\n",
    "X_test = X_test.reindex(columns=X_valid.columns, fill_value=0)\n",
    "\n",
    "dtest = xgb.DMatrix(data=X_test)\n",
    "predictions = bst.predict(dtest)"
   ]
  },
  {
   "cell_type": "code",
   "execution_count": 112,
   "metadata": {},
   "outputs": [
    {
     "data": {
      "image/png": "[encoded data removed]",
      "text/plain": [
       "<Figure size 800x950 with 2 Axes>"
      ]
     },
     "metadata": {},
     "output_type": "display_data"
    }
   ],
   "source": [
    "import shap\n",
    "\n",
    "explainer = shap.Explainer(bst)\n",
    "shap_values = explainer.shap_values(X_valid)\n",
    "\n",
    "shap.summary_plot(shap_values, X_valid)"
   ]
  },
  {
   "cell_type": "markdown",
   "metadata": {},
   "source": [
    "\n",
    "### 4 Этап. Инференс лучшего ранкера (max 3 балла)\n",
    "\n",
    "Теперь мы хотим построить рекомендации \"на завтра\", для этого нам нужно:\n",
    "\n",
    "1. Обучить модели первого уровня на всех (train+test) данных (0.5 балла)\n",
    "2. Для каждой модели первого уровня для каждого пользователя сгененировать N кандидатов (0.5 балла)\n",
    "3. \"Склеить\" всех кандидатов для каждого пользователя (дубли выкинуть), посчитать скоры от всех моделей (0.5 балла)\n",
    "4. Собрать фичи для ваших кандидатов (теперь можем считать признаки на всех данных) (0.5 балла)\n",
    "5. Проскорить всех кандидатов бустингом и оставить k лучших (0.5 балла)\n",
    "6. Посчитать разнообразие(Diversity) и построить график от Diversity(k) (0.5 балла)\n",
    "\n",
    "\n",
    "Все гиперпараметры (N, k) определяете только Вы!"
   ]
  },
  {
   "cell_type": "code",
   "execution_count": 127,
   "metadata": {},
   "outputs": [],
   "source": [
    "df_test[\"weight\"] = 1\n",
    "df_test[\"datetime\"] = df_test[\"last_watch_dt\"]\n",
    "interactions_test = df_test[[\"user_id\", \"item_id\", \"datetime\", \"weight\"]]"
   ]
  },
  {
   "cell_type": "code",
   "execution_count": 128,
   "metadata": {},
   "outputs": [],
   "source": [
    "big_interactions = pd.concat([interactions, interactions_test])"
   ]
  },
  {
   "cell_type": "code",
   "execution_count": 129,
   "metadata": {},
   "outputs": [],
   "source": [
    "big_dataset = Dataset.construct(\n",
    "    interactions_df=big_interactions,\n",
    ")"
   ]
  },
  {
   "cell_type": "code",
   "execution_count": null,
   "metadata": {},
   "outputs": [],
   "source": [
    "%%time\n",
    "sasrec.fit(big_dataset)"
   ]
  },
  {
   "cell_type": "code",
   "execution_count": null,
   "metadata": {},
   "outputs": [],
   "source": [
    "recs_sas = sasrec.recommend(\n",
    "    users=valid_stage_hot['user_id'].unique(),  \n",
    "    dataset=big_dataset,\n",
    "    k=10,\n",
    "    filter_viewed=True,\n",
    "    on_unsupported_targets=\"warn\"\n",
    ")\n",
    "recs_sas"
   ]
  },
  {
   "cell_type": "code",
   "execution_count": null,
   "metadata": {},
   "outputs": [],
   "source": [
    "eval_metrics(valid_stage_hot, recs_sas)"
   ]
  },
  {
   "cell_type": "code",
   "execution_count": null,
   "metadata": {},
   "outputs": [],
   "source": []
  }
 ],
 "metadata": {
  "kernelspec": {
   "display_name": "Python 3 (ipykernel)",
   "language": "python",
   "name": "python3"
  },
  "language_info": {
   "codemirror_mode": {
    "name": "ipython",
    "version": 3
   },
   "file_extension": ".py",
   "mimetype": "text/x-python",
   "name": "python",
   "nbconvert_exporter": "python",
   "pygments_lexer": "ipython3",
   "version": "3.11.11"
  },
  "widgets": {
   "application/vnd.jupyter.widget-state+json": {
    "state": {},
    "version_major": 2,
    "version_minor": 0
   }
  }
 },
 "nbformat": 4,
 "nbformat_minor": 4
}
