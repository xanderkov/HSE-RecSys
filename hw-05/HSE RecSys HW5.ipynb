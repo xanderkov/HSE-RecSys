{
 "cells": [
  {
   "cell_type": "markdown",
   "id": "42269b57",
   "metadata": {},
   "source": [
    "# ДЗ 5"
   ]
  },
  {
   "cell_type": "code",
   "execution_count": 1,
   "id": "1d441a63",
   "metadata": {},
   "outputs": [],
   "source": [
    "import pandas as pd\n",
    "import numpy as np\n",
    "\n",
    "import torch\n",
    "from rectools.dataset import Dataset\n",
    "\n",
    "from rectools import Columns\n",
    "from rectools.dataset import Dataset\n",
    "from rectools.models import SASRecModel, BERT4RecModel\n",
    "from rectools.dataset import Dataset, Interactions"
   ]
  },
  {
   "cell_type": "code",
   "execution_count": 2,
   "id": "739239ae",
   "metadata": {},
   "outputs": [
    {
     "name": "stdout",
     "output_type": "stream",
     "text": [
      "<class 'pandas.core.frame.DataFrame'>\n",
      "RangeIndex: 4842338 entries, 0 to 4842337\n",
      "Data columns (total 3 columns):\n",
      " #   Column     Dtype\n",
      "---  ------     -----\n",
      " 0   user_id    int64\n",
      " 1   item_id    int64\n",
      " 2   timestamp  int64\n",
      "dtypes: int64(3)\n",
      "memory usage: 110.8 MB\n"
     ]
    }
   ],
   "source": [
    "df_train = pd.read_csv('hse_train.csv')\n",
    "df_train.info()"
   ]
  },
  {
   "cell_type": "code",
   "execution_count": 3,
   "id": "c6e2a174",
   "metadata": {},
   "outputs": [
    {
     "name": "stdout",
     "output_type": "stream",
     "text": [
      "<class 'pandas.core.frame.DataFrame'>\n",
      "RangeIndex: 14039620 entries, 0 to 14039619\n",
      "Data columns (total 2 columns):\n",
      " #   Column   Dtype\n",
      "---  ------   -----\n",
      " 0   user_id  int64\n",
      " 1   items    int64\n",
      "dtypes: int64(2)\n",
      "memory usage: 214.2 MB\n"
     ]
    }
   ],
   "source": [
    "df_sub = pd.read_csv('sub0.csv')\n",
    "df_sub.info()"
   ]
  },
  {
   "cell_type": "code",
   "execution_count": 4,
   "id": "b0a81f27",
   "metadata": {},
   "outputs": [
    {
     "data": {
      "text/html": [
       "<div>\n",
       "<style scoped>\n",
       "    .dataframe tbody tr th:only-of-type {\n",
       "        vertical-align: middle;\n",
       "    }\n",
       "\n",
       "    .dataframe tbody tr th {\n",
       "        vertical-align: top;\n",
       "    }\n",
       "\n",
       "    .dataframe thead th {\n",
       "        text-align: right;\n",
       "    }\n",
       "</style>\n",
       "<table border=\"1\" class=\"dataframe\">\n",
       "  <thead>\n",
       "    <tr style=\"text-align: right;\">\n",
       "      <th></th>\n",
       "      <th>user_id</th>\n",
       "      <th>item_id</th>\n",
       "      <th>timestamp</th>\n",
       "    </tr>\n",
       "  </thead>\n",
       "  <tbody>\n",
       "    <tr>\n",
       "      <th>count</th>\n",
       "      <td>4.842338e+06</td>\n",
       "      <td>4.842338e+06</td>\n",
       "      <td>4.842338e+06</td>\n",
       "    </tr>\n",
       "    <tr>\n",
       "      <th>mean</th>\n",
       "      <td>3.514203e+05</td>\n",
       "      <td>9.009362e+04</td>\n",
       "      <td>1.511887e+09</td>\n",
       "    </tr>\n",
       "    <tr>\n",
       "      <th>std</th>\n",
       "      <td>2.023899e+05</td>\n",
       "      <td>5.216975e+04</td>\n",
       "      <td>1.998496e+05</td>\n",
       "    </tr>\n",
       "    <tr>\n",
       "      <th>min</th>\n",
       "      <td>0.000000e+00</td>\n",
       "      <td>0.000000e+00</td>\n",
       "      <td>1.511539e+09</td>\n",
       "    </tr>\n",
       "    <tr>\n",
       "      <th>25%</th>\n",
       "      <td>1.762372e+05</td>\n",
       "      <td>4.469100e+04</td>\n",
       "      <td>1.511705e+09</td>\n",
       "    </tr>\n",
       "    <tr>\n",
       "      <th>50%</th>\n",
       "      <td>3.514285e+05</td>\n",
       "      <td>9.000700e+04</td>\n",
       "      <td>1.511876e+09</td>\n",
       "    </tr>\n",
       "    <tr>\n",
       "      <th>75%</th>\n",
       "      <td>5.265050e+05</td>\n",
       "      <td>1.352680e+05</td>\n",
       "      <td>1.512050e+09</td>\n",
       "    </tr>\n",
       "    <tr>\n",
       "      <th>max</th>\n",
       "      <td>7.019800e+05</td>\n",
       "      <td>1.806590e+05</td>\n",
       "      <td>1.512259e+09</td>\n",
       "    </tr>\n",
       "  </tbody>\n",
       "</table>\n",
       "</div>"
      ],
      "text/plain": [
       "            user_id       item_id     timestamp\n",
       "count  4.842338e+06  4.842338e+06  4.842338e+06\n",
       "mean   3.514203e+05  9.009362e+04  1.511887e+09\n",
       "std    2.023899e+05  5.216975e+04  1.998496e+05\n",
       "min    0.000000e+00  0.000000e+00  1.511539e+09\n",
       "25%    1.762372e+05  4.469100e+04  1.511705e+09\n",
       "50%    3.514285e+05  9.000700e+04  1.511876e+09\n",
       "75%    5.265050e+05  1.352680e+05  1.512050e+09\n",
       "max    7.019800e+05  1.806590e+05  1.512259e+09"
      ]
     },
     "execution_count": 4,
     "metadata": {},
     "output_type": "execute_result"
    }
   ],
   "source": [
    "df_train.describe()"
   ]
  },
  {
   "cell_type": "code",
   "execution_count": 5,
   "id": "e95fb7ff",
   "metadata": {},
   "outputs": [
    {
     "data": {
      "text/html": [
       "<div>\n",
       "<style scoped>\n",
       "    .dataframe tbody tr th:only-of-type {\n",
       "        vertical-align: middle;\n",
       "    }\n",
       "\n",
       "    .dataframe tbody tr th {\n",
       "        vertical-align: top;\n",
       "    }\n",
       "\n",
       "    .dataframe thead th {\n",
       "        text-align: right;\n",
       "    }\n",
       "</style>\n",
       "<table border=\"1\" class=\"dataframe\">\n",
       "  <thead>\n",
       "    <tr style=\"text-align: right;\">\n",
       "      <th></th>\n",
       "      <th>user_id</th>\n",
       "      <th>item_id</th>\n",
       "      <th>timestamp</th>\n",
       "    </tr>\n",
       "  </thead>\n",
       "  <tbody>\n",
       "    <tr>\n",
       "      <th>0</th>\n",
       "      <td>258671</td>\n",
       "      <td>74254</td>\n",
       "      <td>1511701649</td>\n",
       "    </tr>\n",
       "    <tr>\n",
       "      <th>1</th>\n",
       "      <td>258671</td>\n",
       "      <td>115615</td>\n",
       "      <td>1511841435</td>\n",
       "    </tr>\n",
       "    <tr>\n",
       "      <th>2</th>\n",
       "      <td>258671</td>\n",
       "      <td>176624</td>\n",
       "      <td>1512105022</td>\n",
       "    </tr>\n",
       "    <tr>\n",
       "      <th>3</th>\n",
       "      <td>240498</td>\n",
       "      <td>45484</td>\n",
       "      <td>1511605442</td>\n",
       "    </tr>\n",
       "    <tr>\n",
       "      <th>4</th>\n",
       "      <td>240498</td>\n",
       "      <td>39504</td>\n",
       "      <td>1511756830</td>\n",
       "    </tr>\n",
       "  </tbody>\n",
       "</table>\n",
       "</div>"
      ],
      "text/plain": [
       "   user_id  item_id   timestamp\n",
       "0   258671    74254  1511701649\n",
       "1   258671   115615  1511841435\n",
       "2   258671   176624  1512105022\n",
       "3   240498    45484  1511605442\n",
       "4   240498    39504  1511756830"
      ]
     },
     "execution_count": 5,
     "metadata": {},
     "output_type": "execute_result"
    }
   ],
   "source": [
    "df_train.head()"
   ]
  },
  {
   "cell_type": "code",
   "execution_count": 6,
   "id": "28fc7b02",
   "metadata": {},
   "outputs": [
    {
     "data": {
      "text/html": [
       "<div>\n",
       "<style scoped>\n",
       "    .dataframe tbody tr th:only-of-type {\n",
       "        vertical-align: middle;\n",
       "    }\n",
       "\n",
       "    .dataframe tbody tr th {\n",
       "        vertical-align: top;\n",
       "    }\n",
       "\n",
       "    .dataframe thead th {\n",
       "        text-align: right;\n",
       "    }\n",
       "</style>\n",
       "<table border=\"1\" class=\"dataframe\">\n",
       "  <thead>\n",
       "    <tr style=\"text-align: right;\">\n",
       "      <th></th>\n",
       "      <th>user_id</th>\n",
       "      <th>items</th>\n",
       "    </tr>\n",
       "  </thead>\n",
       "  <tbody>\n",
       "    <tr>\n",
       "      <th>0</th>\n",
       "      <td>258671</td>\n",
       "      <td>1233</td>\n",
       "    </tr>\n",
       "    <tr>\n",
       "      <th>1</th>\n",
       "      <td>258671</td>\n",
       "      <td>119169</td>\n",
       "    </tr>\n",
       "    <tr>\n",
       "      <th>2</th>\n",
       "      <td>258671</td>\n",
       "      <td>131247</td>\n",
       "    </tr>\n",
       "    <tr>\n",
       "      <th>3</th>\n",
       "      <td>258671</td>\n",
       "      <td>105133</td>\n",
       "    </tr>\n",
       "    <tr>\n",
       "      <th>4</th>\n",
       "      <td>258671</td>\n",
       "      <td>180111</td>\n",
       "    </tr>\n",
       "  </tbody>\n",
       "</table>\n",
       "</div>"
      ],
      "text/plain": [
       "   user_id   items\n",
       "0   258671    1233\n",
       "1   258671  119169\n",
       "2   258671  131247\n",
       "3   258671  105133\n",
       "4   258671  180111"
      ]
     },
     "execution_count": 6,
     "metadata": {},
     "output_type": "execute_result"
    }
   ],
   "source": [
    "df_sub.head()"
   ]
  },
  {
   "cell_type": "markdown",
   "id": "f6e042f7",
   "metadata": {},
   "source": [
    "## Mose Popular"
   ]
  },
  {
   "cell_type": "code",
   "execution_count": 7,
   "id": "87b9d6ab",
   "metadata": {},
   "outputs": [],
   "source": [
    "def baseline_most_popular(train_df, top_n=10):\n",
    "    item_popularity = train_df['item_id'].value_counts().reset_index()\n",
    "    item_popularity.columns = ['item_id', 'count']\n",
    "  \n",
    "    top_items = item_popularity.sort_values('count', ascending=False).head(top_n)['item_id'].values\n",
    "    return list(top_items)\n",
    "\n",
    "top_10_items = baseline_most_popular(df_train, top_n=10)\n",
    "all_users = df_train['user_id'].unique()\n",
    "recommendations = {user: top_10_items for user in all_users}\n"
   ]
  },
  {
   "cell_type": "code",
   "execution_count": 11,
   "id": "aeabf667",
   "metadata": {},
   "outputs": [],
   "source": [
    "def prepare_submission(recommendations, sample_sub):\n",
    "    sub_data = []\n",
    "    for user, items in recommendations.items():\n",
    "        sub_data.append({'user_id': user, 'items': items})\n",
    "    submission = pd.DataFrame(sub_data)\n",
    "    if sample_sub is not None:\n",
    "        submission = submission[submission['user_id'].isin(sample_sub['user_id'])]\n",
    "    \n",
    "    return submission"
   ]
  },
  {
   "cell_type": "code",
   "execution_count": null,
   "id": "330e1153",
   "metadata": {},
   "outputs": [
    {
     "name": "stdout",
     "output_type": "stream",
     "text": [
      "Baseline submission file saved!\n"
     ]
    }
   ],
   "source": [
    "\n",
    "submission = prepare_submission(recommendations, df_sub)\n",
    "\n",
    "submission.to_csv('baseline_popularity_submission.csv', index=False)\n",
    "print(\"Baseline submission file saved!\")"
   ]
  },
  {
   "cell_type": "code",
   "execution_count": 23,
   "id": "80e35c37",
   "metadata": {},
   "outputs": [
    {
     "data": {
      "text/html": [
       "<div>\n",
       "<style scoped>\n",
       "    .dataframe tbody tr th:only-of-type {\n",
       "        vertical-align: middle;\n",
       "    }\n",
       "\n",
       "    .dataframe tbody tr th {\n",
       "        vertical-align: top;\n",
       "    }\n",
       "\n",
       "    .dataframe thead th {\n",
       "        text-align: right;\n",
       "    }\n",
       "</style>\n",
       "<table border=\"1\" class=\"dataframe\">\n",
       "  <thead>\n",
       "    <tr style=\"text-align: right;\">\n",
       "      <th></th>\n",
       "      <th>user_id</th>\n",
       "      <th>items</th>\n",
       "    </tr>\n",
       "  </thead>\n",
       "  <tbody>\n",
       "    <tr>\n",
       "      <th>0</th>\n",
       "      <td>258671</td>\n",
       "      <td>100454</td>\n",
       "    </tr>\n",
       "    <tr>\n",
       "      <th>1</th>\n",
       "      <td>240498</td>\n",
       "      <td>100454</td>\n",
       "    </tr>\n",
       "    <tr>\n",
       "      <th>2</th>\n",
       "      <td>512761</td>\n",
       "      <td>100454</td>\n",
       "    </tr>\n",
       "    <tr>\n",
       "      <th>3</th>\n",
       "      <td>259030</td>\n",
       "      <td>100454</td>\n",
       "    </tr>\n",
       "    <tr>\n",
       "      <th>4</th>\n",
       "      <td>584368</td>\n",
       "      <td>100454</td>\n",
       "    </tr>\n",
       "  </tbody>\n",
       "</table>\n",
       "</div>"
      ],
      "text/plain": [
       "   user_id   items\n",
       "0   258671  100454\n",
       "1   240498  100454\n",
       "2   512761  100454\n",
       "3   259030  100454\n",
       "4   584368  100454"
      ]
     },
     "execution_count": 23,
     "metadata": {},
     "output_type": "execute_result"
    }
   ],
   "source": [
    "submission.head()"
   ]
  },
  {
   "cell_type": "markdown",
   "id": "6a8fbd1a",
   "metadata": {},
   "source": [
    "## User Similiriatty"
   ]
  },
  {
   "cell_type": "code",
   "execution_count": 14,
   "id": "f3fe8fd2",
   "metadata": {},
   "outputs": [],
   "source": [
    "from scipy.sparse import csr_matrix, lil_matrix\n",
    "\n",
    "def baseline_user_similarity_sparse(train_df, top_n=10):\n",
    "    user_ids = train_df['user_id'].unique()\n",
    "    item_ids = train_df['item_id'].unique()\n",
    "    \n",
    "    user_to_idx = {user: idx for idx, user in enumerate(user_ids)}\n",
    "    item_to_idx = {item: idx for idx, item in enumerate(item_ids)}\n",
    "    idx_to_item = {idx: item for item, idx in item_to_idx.items()}\n",
    "    \n",
    "    num_users = len(user_ids)\n",
    "    num_items = len(item_ids)\n",
    "    user_item_matrix = lil_matrix((num_users, num_items), dtype=np.int8)\n",
    "    \n",
    "    for _, row in train_df.iterrows():\n",
    "        user_idx = user_to_idx[row['user_id']]\n",
    "        item_idx = item_to_idx[row['item_id']]\n",
    "        user_item_matrix[user_idx, item_idx] = 1  \n",
    "    \n",
    "    user_item_matrix_csr = user_item_matrix.tocsr()\n",
    "    \n",
    "    item_popularity = np.array(user_item_matrix_csr.sum(axis=0)).flatten()\n",
    "    \n",
    "    global_top_items = np.argsort(-item_popularity)[:top_n]\n",
    "    global_top_items = [idx_to_item[idx] for idx in global_top_items]\n",
    "    \n",
    "    user_recommendations = {}\n",
    "    for user in user_ids:\n",
    "        user_idx = user_to_idx[user]\n",
    "        \n",
    "        _, items_bought = user_item_matrix_csr[user_idx].nonzero()\n",
    "        \n",
    "        if len(items_bought) == 0:\n",
    "            user_recommendations[user] = global_top_items\n",
    "            continue\n",
    "        \n",
    "        bought_popularity = item_popularity[items_bought]\n",
    "        sorted_indices = np.argsort(-bought_popularity)\n",
    "        top_personal_items = items_bought[sorted_indices[:top_n]]\n",
    "        \n",
    "        recommended_items = [idx_to_item[idx] for idx in top_personal_items]\n",
    "        \n",
    "        if len(recommended_items) < top_n:\n",
    "            additional = [item for item in global_top_items \n",
    "                         if item not in recommended_items][:top_n - len(recommended_items)]\n",
    "            recommended_items.extend(additional)\n",
    "        \n",
    "        user_recommendations[user] = recommended_items\n",
    "    \n",
    "    return user_recommendations\n",
    "\n",
    "personal_recommendations = baseline_user_similarity_sparse(df_train, top_n=20)\n"
   ]
  },
  {
   "cell_type": "code",
   "execution_count": 18,
   "id": "89bfa704",
   "metadata": {},
   "outputs": [
    {
     "name": "stdout",
     "output_type": "stream",
     "text": [
      "Sparse matrix baseline submission file saved!\n"
     ]
    }
   ],
   "source": [
    "personal_submission = prepare_submission(personal_recommendations, df_sub)\n",
    "personal_submission.explode('items').reset_index(drop=True).to_csv('sparse_submission.csv', index=False)\n",
    "print(\"Sparse matrix baseline submission file saved!\")"
   ]
  },
  {
   "cell_type": "code",
   "execution_count": 17,
   "id": "93c4484f",
   "metadata": {},
   "outputs": [
    {
     "data": {
      "text/html": [
       "<div>\n",
       "<style scoped>\n",
       "    .dataframe tbody tr th:only-of-type {\n",
       "        vertical-align: middle;\n",
       "    }\n",
       "\n",
       "    .dataframe tbody tr th {\n",
       "        vertical-align: top;\n",
       "    }\n",
       "\n",
       "    .dataframe thead th {\n",
       "        text-align: right;\n",
       "    }\n",
       "</style>\n",
       "<table border=\"1\" class=\"dataframe\">\n",
       "  <thead>\n",
       "    <tr style=\"text-align: right;\">\n",
       "      <th></th>\n",
       "      <th>user_id</th>\n",
       "      <th>items</th>\n",
       "    </tr>\n",
       "  </thead>\n",
       "  <tbody>\n",
       "    <tr>\n",
       "      <th>0</th>\n",
       "      <td>258671</td>\n",
       "      <td>176624</td>\n",
       "    </tr>\n",
       "    <tr>\n",
       "      <th>1</th>\n",
       "      <td>258671</td>\n",
       "      <td>74254</td>\n",
       "    </tr>\n",
       "    <tr>\n",
       "      <th>2</th>\n",
       "      <td>258671</td>\n",
       "      <td>115615</td>\n",
       "    </tr>\n",
       "    <tr>\n",
       "      <th>3</th>\n",
       "      <td>258671</td>\n",
       "      <td>100454</td>\n",
       "    </tr>\n",
       "    <tr>\n",
       "      <th>4</th>\n",
       "      <td>258671</td>\n",
       "      <td>42316</td>\n",
       "    </tr>\n",
       "  </tbody>\n",
       "</table>\n",
       "</div>"
      ],
      "text/plain": [
       "   user_id   items\n",
       "0   258671  176624\n",
       "1   258671   74254\n",
       "2   258671  115615\n",
       "3   258671  100454\n",
       "4   258671   42316"
      ]
     },
     "execution_count": 17,
     "metadata": {},
     "output_type": "execute_result"
    }
   ],
   "source": [
    "personal_submission.explode('items').reset_index(drop=True).head()"
   ]
  },
  {
   "cell_type": "code",
   "execution_count": null,
   "id": "61ff6d67",
   "metadata": {},
   "outputs": [
    {
     "name": "stdout",
     "output_type": "stream",
     "text": [
      "<class 'pandas.core.frame.DataFrame'>\n",
      "RangeIndex: 701981 entries, 0 to 701980\n",
      "Data columns (total 2 columns):\n",
      " #   Column   Non-Null Count   Dtype \n",
      "---  ------   --------------   ----- \n",
      " 0   user_id  701981 non-null  int64 \n",
      " 1   items    701981 non-null  object\n",
      "dtypes: int64(1), object(1)\n",
      "memory usage: 10.7+ MB\n"
     ]
    }
   ],
   "source": [
    "personal_submission.info()"
   ]
  },
  {
   "cell_type": "markdown",
   "id": "1f1c82cc",
   "metadata": {},
   "source": [
    "## Sasrec"
   ]
  },
  {
   "cell_type": "code",
   "execution_count": 5,
   "id": "08278a0d",
   "metadata": {},
   "outputs": [],
   "source": [
    "df_train[\"weight\"] = 1.0\n",
    "\n",
    "interactions = Interactions(\n",
    "    df_train.rename(columns={\n",
    "        \"user_id\": Columns.User,\n",
    "        \"item_id\": Columns.Item,\n",
    "        \"timestamp\": Columns.Datetime,\n",
    "        \"weight\": Columns.Weight\n",
    "    })\n",
    ")\n",
    "\n",
    "dataset = Dataset.construct(interactions.df)"
   ]
  },
  {
   "cell_type": "code",
   "execution_count": 61,
   "id": "7bd6fef0",
   "metadata": {},
   "outputs": [
    {
     "name": "stderr",
     "output_type": "stream",
     "text": [
      "GPU available: True (cuda), used: True\n",
      "TPU available: False, using: 0 TPU cores\n",
      "HPU available: False, using: 0 HPUs\n"
     ]
    }
   ],
   "source": [
    "model_rec_v2 = SASRecModel(\n",
    "    session_max_len=20,\n",
    "    loss=\"softmax\",\n",
    "    n_factors=64,\n",
    "    batch_size=128,\n",
    "    deterministic=True,\n",
    "    epochs=3,\n",
    "    verbose=1,\n",
    ")"
   ]
  },
  {
   "cell_type": "code",
   "execution_count": 62,
   "id": "ead374b0",
   "metadata": {},
   "outputs": [
    {
     "name": "stderr",
     "output_type": "stream",
     "text": [
      "/home/xande/anaconda3/envs/hse-11/lib/python3.11/site-packages/rectools/dataset/identifiers.py:60: FutureWarning: unique with argument that is not not a Series, Index, ExtensionArray, or np.ndarray is deprecated and will raise in a future version.\n",
      "  unq_values = pd.unique(values)\n",
      "/home/xande/anaconda3/envs/hse-11/lib/python3.11/site-packages/rectools/models/nn/item_net.py:134: UserWarning: Ignoring `CatFeaturesItemNet` block because dataset doesn't contain item features.\n",
      "  warnings.warn(explanation)\n",
      "/home/xande/anaconda3/envs/hse-11/lib/python3.11/site-packages/pydantic/main.py:463: UserWarning: Pydantic serializer warnings:\n",
      "  PydanticSerializationUnexpectedValue(Expected `str` - serialized value may not be as expected [input_value=('rectools.models.nn.item...net.CatFeaturesItemNet'), input_type=tuple])\n",
      "  return self.__pydantic_serializer__.to_python(\n",
      "/home/xande/anaconda3/envs/hse-11/lib/python3.11/site-packages/pytorch_lightning/trainer/configuration_validator.py:70: You defined a `validation_step` but have no `val_dataloader`. Skipping val loop.\n",
      "LOCAL_RANK: 0 - CUDA_VISIBLE_DEVICES: [0]\n",
      "\n",
      "  | Name        | Type                     | Params | Mode \n",
      "-----------------------------------------------------------------\n",
      "0 | torch_model | TransformerTorchBackbone | 11.6 M | train\n",
      "-----------------------------------------------------------------\n",
      "11.6 M    Trainable params\n",
      "0         Non-trainable params\n",
      "11.6 M    Total params\n",
      "46.438    Total estimated model params size (MB)\n",
      "35        Modules in train mode\n",
      "0         Modules in eval mode\n",
      "/home/xande/anaconda3/envs/hse-11/lib/python3.11/site-packages/pytorch_lightning/trainer/connectors/data_connector.py:425: The 'train_dataloader' does not have many workers which may be a bottleneck. Consider increasing the value of the `num_workers` argument` to `num_workers=15` in the `DataLoader` to improve performance.\n"
     ]
    },
    {
     "data": {
      "application/vnd.jupyter.widget-view+json": {
       "model_id": "7dc483d80d9e4c37942d66ac98ca43fe",
       "version_major": 2,
       "version_minor": 0
      },
      "text/plain": [
       "Training: |          | 0/? [00:00<?, ?it/s]"
      ]
     },
     "metadata": {},
     "output_type": "display_data"
    },
    {
     "name": "stderr",
     "output_type": "stream",
     "text": [
      "`Trainer.fit` stopped: `max_epochs=3` reached.\n"
     ]
    },
    {
     "data": {
      "text/plain": [
       "<rectools.models.nn.transformers.sasrec.SASRecModel at 0x7f33421610d0>"
      ]
     },
     "execution_count": 62,
     "metadata": {},
     "output_type": "execute_result"
    }
   ],
   "source": [
    "model_rec_v2.fit(dataset)"
   ]
  },
  {
   "cell_type": "code",
   "execution_count": 34,
   "id": "ada140d8",
   "metadata": {},
   "outputs": [
    {
     "name": "stderr",
     "output_type": "stream",
     "text": [
      "GPU available: True (cuda), used: True\n",
      "TPU available: False, using: 0 TPU cores\n",
      "HPU available: False, using: 0 HPUs\n",
      "/home/xande/anaconda3/envs/hse-11/lib/python3.11/site-packages/rectools/models/nn/item_net.py:134: UserWarning: Ignoring `CatFeaturesItemNet` block because dataset doesn't contain item features.\n",
      "  warnings.warn(explanation)\n"
     ]
    }
   ],
   "source": [
    "model_sas = torch.load(\"sas_rec_model.pt\", weights_only=False)"
   ]
  },
  {
   "cell_type": "code",
   "execution_count": 65,
   "id": "800c6f5f",
   "metadata": {},
   "outputs": [
    {
     "name": "stderr",
     "output_type": "stream",
     "text": [
      "/home/xande/anaconda3/envs/hse-11/lib/python3.11/site-packages/rectools/models/nn/transformers/data_preparator.py:361: UserWarning: 1 target users were considered cold because of missing known items\n",
      "  warnings.warn(explanation)\n",
      "/home/xande/anaconda3/envs/hse-11/lib/python3.11/site-packages/rectools/models/base.py:695: UserWarning: \n",
      "                Model `<class 'rectools.models.nn.transformers.sasrec.SASRecModel'>` doesn't support recommendations for cold users,\n",
      "                but some of given users are cold: they are not in the `dataset.user_id_map`\n",
      "            \n",
      "  warnings.warn(explanation)\n"
     ]
    }
   ],
   "source": [
    "users = interactions.df[\"user_id\"].unique()\n",
    "recs = model_rec_v2.recommend(\n",
    "    users=df_train[\"user_id\"].unique(),  \n",
    "    dataset=dataset,\n",
    "    k=10,\n",
    "    filter_viewed=True,\n",
    "    on_unsupported_targets=\"warn\"\n",
    ")"
   ]
  },
  {
   "cell_type": "code",
   "execution_count": 66,
   "id": "07af22f1",
   "metadata": {},
   "outputs": [
    {
     "name": "stdout",
     "output_type": "stream",
     "text": [
      "SasRec file saved!\n"
     ]
    }
   ],
   "source": [
    "personal_submission = prepare_submission(recs, df_sub)\n",
    "personal_submission.to_csv('sasrec_submission_submission.csv', index=False)\n",
    "print(\"SasRec file saved!\")"
   ]
  },
  {
   "cell_type": "markdown",
   "id": "6bd6036e",
   "metadata": {},
   "source": [
    "## IAls"
   ]
  },
  {
   "cell_type": "code",
   "execution_count": 78,
   "id": "28384e98",
   "metadata": {},
   "outputs": [],
   "source": [
    "import pandas as pd\n",
    "import numpy as np\n",
    "import implicit\n",
    "from scipy.sparse import csr_matrix\n",
    "from collections import defaultdict\n",
    "from tqdm import tqdm\n",
    "\n",
    "def prepare_data(train_df):\n",
    "    user_ids = train_df['user_id'].unique()\n",
    "    item_ids = train_df['item_id'].unique()\n",
    "    \n",
    "    user_to_idx = {user: idx for idx, user in enumerate(user_ids)}\n",
    "    item_to_idx = {item: idx for idx, item in enumerate(item_ids)}\n",
    "    \n",
    "    rows = train_df['user_id'].map(user_to_idx)\n",
    "    cols = train_df['item_id'].map(item_to_idx)\n",
    "    values = np.ones(len(train_df)) \n",
    "    \n",
    "    user_item_matrix = csr_matrix((values, (rows, cols)), shape=(len(user_ids), len(item_ids)))\n",
    "    \n",
    "    return user_item_matrix, user_to_idx, item_to_idx, user_ids, item_ids\n",
    "\n",
    "def train_als(user_item_matrix, factors=64, iterations=15, regularization=0.01):\n",
    "    model = implicit.als.AlternatingLeastSquares(\n",
    "        factors=factors,\n",
    "        iterations=iterations,\n",
    "        regularization=regularization,\n",
    "        random_state=42\n",
    "    )\n",
    "    model.fit(user_item_matrix)\n",
    "    return model\n",
    "\n",
    "def generate_recommendations(model, user_item_matrix, user_ids, item_ids, n_recommendations=1):\n",
    "    user_to_recommendations = defaultdict(list)\n",
    "    item_id_list = np.array(item_ids)\n",
    "    \n",
    "    for user_id in tqdm(user_ids): \n",
    "        ids, scores = model.recommend(user_id, user_item_matrix[user_id], N=n_recommendations)\n",
    "        user_to_recommendations[user_id] = item_id_list[ids[0]]\n",
    "\n",
    "    return user_to_recommendations\n",
    "\n",
    "def prepare_submission(recommendations, submission_sample):\n",
    "    submission = pd.DataFrame({\n",
    "        'user_id': list(recommendations.keys()),\n",
    "        'items': [' '.join(map(str, items)) for items in recommendations.values()]\n",
    "    })\n",
    "    submission = submission.sort_values('user_id').reset_index(drop=True)\n",
    "    return submission"
   ]
  },
  {
   "cell_type": "code",
   "execution_count": 74,
   "id": "d76df760",
   "metadata": {},
   "outputs": [
    {
     "data": {
      "application/vnd.jupyter.widget-view+json": {
       "model_id": "db4b2c71ba0e490eba6acec2eb0b7815",
       "version_major": 2,
       "version_minor": 0
      },
      "text/plain": [
       "  0%|          | 0/15 [00:00<?, ?it/s]"
      ]
     },
     "metadata": {},
     "output_type": "display_data"
    }
   ],
   "source": [
    "user_item_matrix, user_to_idx, item_to_idx, user_ids, item_ids = prepare_data(df_train)\n",
    "\n",
    "model = train_als(user_item_matrix)"
   ]
  },
  {
   "cell_type": "code",
   "execution_count": 79,
   "id": "a6d3f621",
   "metadata": {},
   "outputs": [
    {
     "name": "stderr",
     "output_type": "stream",
     "text": [
      "100%|██████████| 701981/701981 [10:18<00:00, 1135.76it/s]\n"
     ]
    }
   ],
   "source": [
    "recommendations = generate_recommendations(model, user_item_matrix, user_ids, item_ids, 1)"
   ]
  },
  {
   "cell_type": "code",
   "execution_count": 27,
   "id": "4eb7c2cc",
   "metadata": {},
   "outputs": [],
   "source": [
    "def prepare_submission(recommendations, sample_sub):\n",
    "    sub_data = []\n",
    "    for user, items in recommendations.items():\n",
    "        sub_data.append({'user_id': user, 'items': items})\n",
    "    submission = pd.DataFrame(sub_data)\n",
    "    if sample_sub is not None:\n",
    "        submission = submission[submission['user_id'].isin(sample_sub['user_id'])]\n",
    "    \n",
    "    return submission"
   ]
  },
  {
   "cell_type": "code",
   "execution_count": 99,
   "id": "3936311c",
   "metadata": {},
   "outputs": [],
   "source": [
    "submission = prepare_submission(recommendations, df_sub)\n",
    "\n",
    "submission.to_csv('als_baseline.csv', index=False)"
   ]
  },
  {
   "cell_type": "code",
   "execution_count": 86,
   "id": "b70e50bd",
   "metadata": {},
   "outputs": [
    {
     "data": {
      "text/html": [
       "<div>\n",
       "<style scoped>\n",
       "    .dataframe tbody tr th:only-of-type {\n",
       "        vertical-align: middle;\n",
       "    }\n",
       "\n",
       "    .dataframe tbody tr th {\n",
       "        vertical-align: top;\n",
       "    }\n",
       "\n",
       "    .dataframe thead th {\n",
       "        text-align: right;\n",
       "    }\n",
       "</style>\n",
       "<table border=\"1\" class=\"dataframe\">\n",
       "  <thead>\n",
       "    <tr style=\"text-align: right;\">\n",
       "      <th></th>\n",
       "      <th>user_id</th>\n",
       "      <th>items</th>\n",
       "    </tr>\n",
       "  </thead>\n",
       "  <tbody>\n",
       "    <tr>\n",
       "      <th>0</th>\n",
       "      <td>0</td>\n",
       "      <td>0</td>\n",
       "    </tr>\n",
       "    <tr>\n",
       "      <th>1</th>\n",
       "      <td>1</td>\n",
       "      <td>1</td>\n",
       "    </tr>\n",
       "    <tr>\n",
       "      <th>2</th>\n",
       "      <td>2</td>\n",
       "      <td>2</td>\n",
       "    </tr>\n",
       "    <tr>\n",
       "      <th>3</th>\n",
       "      <td>3</td>\n",
       "      <td>3</td>\n",
       "    </tr>\n",
       "    <tr>\n",
       "      <th>4</th>\n",
       "      <td>4</td>\n",
       "      <td>4</td>\n",
       "    </tr>\n",
       "  </tbody>\n",
       "</table>\n",
       "</div>"
      ],
      "text/plain": [
       "   user_id  items\n",
       "0        0      0\n",
       "1        1      1\n",
       "2        2      2\n",
       "3        3      3\n",
       "4        4      4"
      ]
     },
     "execution_count": 86,
     "metadata": {},
     "output_type": "execute_result"
    }
   ],
   "source": [
    "submission.head()"
   ]
  },
  {
   "cell_type": "code",
   "execution_count": 89,
   "id": "faa958fc",
   "metadata": {},
   "outputs": [
    {
     "data": {
      "text/plain": [
       "40491"
      ]
     },
     "execution_count": 89,
     "metadata": {},
     "output_type": "execute_result"
    }
   ],
   "source": [
    "recommendations[258671]"
   ]
  },
  {
   "cell_type": "markdown",
   "id": "bfd3a9f4",
   "metadata": {},
   "source": [
    "## ImplicitKNN"
   ]
  },
  {
   "cell_type": "code",
   "execution_count": 18,
   "id": "735e4176",
   "metadata": {},
   "outputs": [
    {
     "data": {
      "text/plain": [
       "<rectools.models.implicit_knn.ImplicitItemKNNWrapperModel at 0x7f33f1e43950>"
      ]
     },
     "execution_count": 18,
     "metadata": {},
     "output_type": "execute_result"
    }
   ],
   "source": [
    "from rectools.models import ImplicitItemKNNWrapperModel\n",
    "from implicit.nearest_neighbours import TFIDFRecommender\n",
    "\n",
    "model = ImplicitItemKNNWrapperModel(TFIDFRecommender(K=10))\n",
    "model.fit(dataset)"
   ]
  },
  {
   "cell_type": "code",
   "execution_count": 19,
   "id": "f85798b4",
   "metadata": {},
   "outputs": [],
   "source": [
    "recos = model.recommend(\n",
    "    users=df_train[\"user_id\"].unique(),\n",
    "    dataset=dataset,\n",
    "    k=1,\n",
    "    filter_viewed=True,\n",
    ")"
   ]
  },
  {
   "cell_type": "code",
   "execution_count": 32,
   "id": "5bd5c3c1",
   "metadata": {},
   "outputs": [
    {
     "data": {
      "text/html": [
       "<div>\n",
       "<style scoped>\n",
       "    .dataframe tbody tr th:only-of-type {\n",
       "        vertical-align: middle;\n",
       "    }\n",
       "\n",
       "    .dataframe tbody tr th {\n",
       "        vertical-align: top;\n",
       "    }\n",
       "\n",
       "    .dataframe thead th {\n",
       "        text-align: right;\n",
       "    }\n",
       "</style>\n",
       "<table border=\"1\" class=\"dataframe\">\n",
       "  <thead>\n",
       "    <tr style=\"text-align: right;\">\n",
       "      <th></th>\n",
       "      <th>user_id</th>\n",
       "      <th>item_id</th>\n",
       "      <th>score</th>\n",
       "      <th>rank</th>\n",
       "    </tr>\n",
       "  </thead>\n",
       "  <tbody>\n",
       "    <tr>\n",
       "      <th>0</th>\n",
       "      <td>258671</td>\n",
       "      <td>88182</td>\n",
       "      <td>0.151825</td>\n",
       "      <td>1</td>\n",
       "    </tr>\n",
       "    <tr>\n",
       "      <th>1</th>\n",
       "      <td>240498</td>\n",
       "      <td>98991</td>\n",
       "      <td>0.376998</td>\n",
       "      <td>1</td>\n",
       "    </tr>\n",
       "    <tr>\n",
       "      <th>2</th>\n",
       "      <td>512761</td>\n",
       "      <td>43983</td>\n",
       "      <td>0.173695</td>\n",
       "      <td>1</td>\n",
       "    </tr>\n",
       "    <tr>\n",
       "      <th>3</th>\n",
       "      <td>259030</td>\n",
       "      <td>72204</td>\n",
       "      <td>0.127852</td>\n",
       "      <td>1</td>\n",
       "    </tr>\n",
       "    <tr>\n",
       "      <th>4</th>\n",
       "      <td>584368</td>\n",
       "      <td>87942</td>\n",
       "      <td>0.183311</td>\n",
       "      <td>1</td>\n",
       "    </tr>\n",
       "  </tbody>\n",
       "</table>\n",
       "</div>"
      ],
      "text/plain": [
       "   user_id  item_id     score  rank\n",
       "0   258671    88182  0.151825     1\n",
       "1   240498    98991  0.376998     1\n",
       "2   512761    43983  0.173695     1\n",
       "3   259030    72204  0.127852     1\n",
       "4   584368    87942  0.183311     1"
      ]
     },
     "execution_count": 32,
     "metadata": {},
     "output_type": "execute_result"
    }
   ],
   "source": [
    "recos.head()"
   ]
  },
  {
   "cell_type": "code",
   "execution_count": 48,
   "id": "95677d31",
   "metadata": {},
   "outputs": [],
   "source": [
    "def prepare_submission(recommendations, sample_sub):\n",
    "    submission = recommendations[['user_id', 'item_id']].rename(columns={'item_id': 'items'})\n",
    "    if sample_sub is not None:\n",
    "        submission = submission[submission['user_id'].isin(sample_sub['user_id'])]\n",
    "    \n",
    "    return submission"
   ]
  },
  {
   "cell_type": "code",
   "execution_count": 49,
   "id": "5b37c8a7",
   "metadata": {},
   "outputs": [],
   "source": [
    "personal_submission = prepare_submission(recos, df_sub)"
   ]
  },
  {
   "cell_type": "code",
   "execution_count": 50,
   "id": "edb65221",
   "metadata": {},
   "outputs": [
    {
     "data": {
      "text/html": [
       "<div>\n",
       "<style scoped>\n",
       "    .dataframe tbody tr th:only-of-type {\n",
       "        vertical-align: middle;\n",
       "    }\n",
       "\n",
       "    .dataframe tbody tr th {\n",
       "        vertical-align: top;\n",
       "    }\n",
       "\n",
       "    .dataframe thead th {\n",
       "        text-align: right;\n",
       "    }\n",
       "</style>\n",
       "<table border=\"1\" class=\"dataframe\">\n",
       "  <thead>\n",
       "    <tr style=\"text-align: right;\">\n",
       "      <th></th>\n",
       "      <th>user_id</th>\n",
       "      <th>items</th>\n",
       "    </tr>\n",
       "  </thead>\n",
       "  <tbody>\n",
       "    <tr>\n",
       "      <th>0</th>\n",
       "      <td>258671</td>\n",
       "      <td>88182</td>\n",
       "    </tr>\n",
       "    <tr>\n",
       "      <th>1</th>\n",
       "      <td>240498</td>\n",
       "      <td>98991</td>\n",
       "    </tr>\n",
       "    <tr>\n",
       "      <th>2</th>\n",
       "      <td>512761</td>\n",
       "      <td>43983</td>\n",
       "    </tr>\n",
       "    <tr>\n",
       "      <th>3</th>\n",
       "      <td>259030</td>\n",
       "      <td>72204</td>\n",
       "    </tr>\n",
       "    <tr>\n",
       "      <th>4</th>\n",
       "      <td>584368</td>\n",
       "      <td>87942</td>\n",
       "    </tr>\n",
       "  </tbody>\n",
       "</table>\n",
       "</div>"
      ],
      "text/plain": [
       "   user_id  items\n",
       "0   258671  88182\n",
       "1   240498  98991\n",
       "2   512761  43983\n",
       "3   259030  72204\n",
       "4   584368  87942"
      ]
     },
     "execution_count": 50,
     "metadata": {},
     "output_type": "execute_result"
    }
   ],
   "source": [
    "personal_submission.head()"
   ]
  },
  {
   "cell_type": "code",
   "execution_count": 51,
   "id": "c3114b8c",
   "metadata": {},
   "outputs": [
    {
     "name": "stdout",
     "output_type": "stream",
     "text": [
      "KNN file saved!\n"
     ]
    }
   ],
   "source": [
    "personal_submission.to_csv('knn_submission_submission.csv', index=False)\n",
    "print(\"KNN file saved!\")"
   ]
  },
  {
   "cell_type": "code",
   "execution_count": null,
   "id": "9655511b",
   "metadata": {},
   "outputs": [],
   "source": []
  }
 ],
 "metadata": {
  "kernelspec": {
   "display_name": "hse-11",
   "language": "python",
   "name": "python3"
  },
  "language_info": {
   "codemirror_mode": {
    "name": "ipython",
    "version": 3
   },
   "file_extension": ".py",
   "mimetype": "text/x-python",
   "name": "python",
   "nbconvert_exporter": "python",
   "pygments_lexer": "ipython3",
   "version": "3.11.11"
  }
 },
 "nbformat": 4,
 "nbformat_minor": 5
}
