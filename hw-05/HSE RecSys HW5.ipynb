{
 "cells": [
  {
   "cell_type": "markdown",
   "id": "42269b57",
   "metadata": {},
   "source": [
    "# ДЗ 5"
   ]
  },
  {
   "cell_type": "code",
   "execution_count": null,
   "id": "1d441a63",
   "metadata": {},
   "outputs": [],
   "source": [
    "import pandas as pd\n",
    "import numpy as np\n",
    "import scipy.stats as sts\n",
    "import scipy.sparse as sp\n",
    "from itertools import islice, cycle\n",
    "from implicit.nearest_neighbours import CosineRecommender\n",
    "from implicit.cpu.bpr import BayesianPersonalizedRanking\n",
    "from implicit.cpu.als import AlternatingLeastSquares\n",
    "from implicit.cpu.lmf import LogisticMatrixFactorization\n",
    "\n",
    "import os\n",
    "import torch\n",
    "import warnings\n",
    "import threadpoolctl\n",
    "import re\n",
    "from pathlib import Path\n",
    "from rectools.dataset import Dataset\n",
    "\n",
    "from rectools import Columns\n",
    "from rectools.dataset import Dataset\n",
    "from rectools.models import SASRecModel, BERT4RecModel\n",
    "from rectools.visuals import MetricsApp\n",
    "from rectools.dataset import Dataset, Interactions\n",
    "\n"
   ]
  },
  {
   "cell_type": "code",
   "execution_count": 2,
   "id": "739239ae",
   "metadata": {},
   "outputs": [
    {
     "name": "stdout",
     "output_type": "stream",
     "text": [
      "<class 'pandas.core.frame.DataFrame'>\n",
      "RangeIndex: 4842338 entries, 0 to 4842337\n",
      "Data columns (total 3 columns):\n",
      " #   Column     Dtype\n",
      "---  ------     -----\n",
      " 0   user_id    int64\n",
      " 1   item_id    int64\n",
      " 2   timestamp  int64\n",
      "dtypes: int64(3)\n",
      "memory usage: 110.8 MB\n"
     ]
    }
   ],
   "source": [
    "df_train = pd.read_csv('hse_train.csv')\n",
    "df_train.info()"
   ]
  },
  {
   "cell_type": "code",
   "execution_count": 3,
   "id": "c6e2a174",
   "metadata": {},
   "outputs": [
    {
     "name": "stdout",
     "output_type": "stream",
     "text": [
      "<class 'pandas.core.frame.DataFrame'>\n",
      "RangeIndex: 14039620 entries, 0 to 14039619\n",
      "Data columns (total 2 columns):\n",
      " #   Column   Dtype\n",
      "---  ------   -----\n",
      " 0   user_id  int64\n",
      " 1   items    int64\n",
      "dtypes: int64(2)\n",
      "memory usage: 214.2 MB\n"
     ]
    }
   ],
   "source": [
    "df_sub = pd.read_csv('sub0.csv')\n",
    "df_sub.info()"
   ]
  },
  {
   "cell_type": "code",
   "execution_count": 4,
   "id": "b0a81f27",
   "metadata": {},
   "outputs": [
    {
     "data": {
      "text/html": [
       "<div>\n",
       "<style scoped>\n",
       "    .dataframe tbody tr th:only-of-type {\n",
       "        vertical-align: middle;\n",
       "    }\n",
       "\n",
       "    .dataframe tbody tr th {\n",
       "        vertical-align: top;\n",
       "    }\n",
       "\n",
       "    .dataframe thead th {\n",
       "        text-align: right;\n",
       "    }\n",
       "</style>\n",
       "<table border=\"1\" class=\"dataframe\">\n",
       "  <thead>\n",
       "    <tr style=\"text-align: right;\">\n",
       "      <th></th>\n",
       "      <th>user_id</th>\n",
       "      <th>item_id</th>\n",
       "      <th>timestamp</th>\n",
       "    </tr>\n",
       "  </thead>\n",
       "  <tbody>\n",
       "    <tr>\n",
       "      <th>count</th>\n",
       "      <td>4.842338e+06</td>\n",
       "      <td>4.842338e+06</td>\n",
       "      <td>4.842338e+06</td>\n",
       "    </tr>\n",
       "    <tr>\n",
       "      <th>mean</th>\n",
       "      <td>3.514203e+05</td>\n",
       "      <td>9.009362e+04</td>\n",
       "      <td>1.511887e+09</td>\n",
       "    </tr>\n",
       "    <tr>\n",
       "      <th>std</th>\n",
       "      <td>2.023899e+05</td>\n",
       "      <td>5.216975e+04</td>\n",
       "      <td>1.998496e+05</td>\n",
       "    </tr>\n",
       "    <tr>\n",
       "      <th>min</th>\n",
       "      <td>0.000000e+00</td>\n",
       "      <td>0.000000e+00</td>\n",
       "      <td>1.511539e+09</td>\n",
       "    </tr>\n",
       "    <tr>\n",
       "      <th>25%</th>\n",
       "      <td>1.762372e+05</td>\n",
       "      <td>4.469100e+04</td>\n",
       "      <td>1.511705e+09</td>\n",
       "    </tr>\n",
       "    <tr>\n",
       "      <th>50%</th>\n",
       "      <td>3.514285e+05</td>\n",
       "      <td>9.000700e+04</td>\n",
       "      <td>1.511876e+09</td>\n",
       "    </tr>\n",
       "    <tr>\n",
       "      <th>75%</th>\n",
       "      <td>5.265050e+05</td>\n",
       "      <td>1.352680e+05</td>\n",
       "      <td>1.512050e+09</td>\n",
       "    </tr>\n",
       "    <tr>\n",
       "      <th>max</th>\n",
       "      <td>7.019800e+05</td>\n",
       "      <td>1.806590e+05</td>\n",
       "      <td>1.512259e+09</td>\n",
       "    </tr>\n",
       "  </tbody>\n",
       "</table>\n",
       "</div>"
      ],
      "text/plain": [
       "            user_id       item_id     timestamp\n",
       "count  4.842338e+06  4.842338e+06  4.842338e+06\n",
       "mean   3.514203e+05  9.009362e+04  1.511887e+09\n",
       "std    2.023899e+05  5.216975e+04  1.998496e+05\n",
       "min    0.000000e+00  0.000000e+00  1.511539e+09\n",
       "25%    1.762372e+05  4.469100e+04  1.511705e+09\n",
       "50%    3.514285e+05  9.000700e+04  1.511876e+09\n",
       "75%    5.265050e+05  1.352680e+05  1.512050e+09\n",
       "max    7.019800e+05  1.806590e+05  1.512259e+09"
      ]
     },
     "execution_count": 4,
     "metadata": {},
     "output_type": "execute_result"
    }
   ],
   "source": [
    "df_train.describe()"
   ]
  },
  {
   "cell_type": "code",
   "execution_count": 5,
   "id": "e95fb7ff",
   "metadata": {},
   "outputs": [
    {
     "data": {
      "text/html": [
       "<div>\n",
       "<style scoped>\n",
       "    .dataframe tbody tr th:only-of-type {\n",
       "        vertical-align: middle;\n",
       "    }\n",
       "\n",
       "    .dataframe tbody tr th {\n",
       "        vertical-align: top;\n",
       "    }\n",
       "\n",
       "    .dataframe thead th {\n",
       "        text-align: right;\n",
       "    }\n",
       "</style>\n",
       "<table border=\"1\" class=\"dataframe\">\n",
       "  <thead>\n",
       "    <tr style=\"text-align: right;\">\n",
       "      <th></th>\n",
       "      <th>user_id</th>\n",
       "      <th>item_id</th>\n",
       "      <th>timestamp</th>\n",
       "    </tr>\n",
       "  </thead>\n",
       "  <tbody>\n",
       "    <tr>\n",
       "      <th>0</th>\n",
       "      <td>258671</td>\n",
       "      <td>74254</td>\n",
       "      <td>1511701649</td>\n",
       "    </tr>\n",
       "    <tr>\n",
       "      <th>1</th>\n",
       "      <td>258671</td>\n",
       "      <td>115615</td>\n",
       "      <td>1511841435</td>\n",
       "    </tr>\n",
       "    <tr>\n",
       "      <th>2</th>\n",
       "      <td>258671</td>\n",
       "      <td>176624</td>\n",
       "      <td>1512105022</td>\n",
       "    </tr>\n",
       "    <tr>\n",
       "      <th>3</th>\n",
       "      <td>240498</td>\n",
       "      <td>45484</td>\n",
       "      <td>1511605442</td>\n",
       "    </tr>\n",
       "    <tr>\n",
       "      <th>4</th>\n",
       "      <td>240498</td>\n",
       "      <td>39504</td>\n",
       "      <td>1511756830</td>\n",
       "    </tr>\n",
       "  </tbody>\n",
       "</table>\n",
       "</div>"
      ],
      "text/plain": [
       "   user_id  item_id   timestamp\n",
       "0   258671    74254  1511701649\n",
       "1   258671   115615  1511841435\n",
       "2   258671   176624  1512105022\n",
       "3   240498    45484  1511605442\n",
       "4   240498    39504  1511756830"
      ]
     },
     "execution_count": 5,
     "metadata": {},
     "output_type": "execute_result"
    }
   ],
   "source": [
    "df_train.head()"
   ]
  },
  {
   "cell_type": "code",
   "execution_count": 6,
   "id": "28fc7b02",
   "metadata": {},
   "outputs": [
    {
     "data": {
      "text/html": [
       "<div>\n",
       "<style scoped>\n",
       "    .dataframe tbody tr th:only-of-type {\n",
       "        vertical-align: middle;\n",
       "    }\n",
       "\n",
       "    .dataframe tbody tr th {\n",
       "        vertical-align: top;\n",
       "    }\n",
       "\n",
       "    .dataframe thead th {\n",
       "        text-align: right;\n",
       "    }\n",
       "</style>\n",
       "<table border=\"1\" class=\"dataframe\">\n",
       "  <thead>\n",
       "    <tr style=\"text-align: right;\">\n",
       "      <th></th>\n",
       "      <th>user_id</th>\n",
       "      <th>items</th>\n",
       "    </tr>\n",
       "  </thead>\n",
       "  <tbody>\n",
       "    <tr>\n",
       "      <th>0</th>\n",
       "      <td>258671</td>\n",
       "      <td>1233</td>\n",
       "    </tr>\n",
       "    <tr>\n",
       "      <th>1</th>\n",
       "      <td>258671</td>\n",
       "      <td>119169</td>\n",
       "    </tr>\n",
       "    <tr>\n",
       "      <th>2</th>\n",
       "      <td>258671</td>\n",
       "      <td>131247</td>\n",
       "    </tr>\n",
       "    <tr>\n",
       "      <th>3</th>\n",
       "      <td>258671</td>\n",
       "      <td>105133</td>\n",
       "    </tr>\n",
       "    <tr>\n",
       "      <th>4</th>\n",
       "      <td>258671</td>\n",
       "      <td>180111</td>\n",
       "    </tr>\n",
       "  </tbody>\n",
       "</table>\n",
       "</div>"
      ],
      "text/plain": [
       "   user_id   items\n",
       "0   258671    1233\n",
       "1   258671  119169\n",
       "2   258671  131247\n",
       "3   258671  105133\n",
       "4   258671  180111"
      ]
     },
     "execution_count": 6,
     "metadata": {},
     "output_type": "execute_result"
    }
   ],
   "source": [
    "df_sub.head()"
   ]
  },
  {
   "cell_type": "code",
   "execution_count": 27,
   "id": "87b9d6ab",
   "metadata": {},
   "outputs": [],
   "source": [
    "def baseline_most_popular(train_df, top_n=10):\n",
    "    item_popularity = train_df['item_id'].value_counts().reset_index()\n",
    "    item_popularity.columns = ['item_id', 'count']\n",
    "  \n",
    "    top_items = item_popularity.sort_values('count', ascending=False).head(top_n)['item_id'].values\n",
    "    return list(top_items)\n",
    "\n",
    "top_10_items = baseline_most_popular(df_train, top_n=10)\n",
    "all_users = df_train['user_id'].unique()\n",
    "recommendations = {user: top_10_items for user in all_users}\n"
   ]
  },
  {
   "cell_type": "code",
   "execution_count": 7,
   "id": "aeabf667",
   "metadata": {},
   "outputs": [],
   "source": [
    "def prepare_submission(recommendations, sample_sub):\n",
    "    sub_data = []\n",
    "    for user, items in recommendations.items():\n",
    "        sub_data.append({'user_id': user, 'items': items[0]})\n",
    "    submission = pd.DataFrame(sub_data)\n",
    "    if sample_sub is not None:\n",
    "        submission = submission[submission['user_id'].isin(sample_sub['user_id'])]\n",
    "    \n",
    "    return submission"
   ]
  },
  {
   "cell_type": "code",
   "execution_count": null,
   "id": "330e1153",
   "metadata": {},
   "outputs": [
    {
     "name": "stdout",
     "output_type": "stream",
     "text": [
      "Baseline submission file saved!\n"
     ]
    }
   ],
   "source": [
    "\n",
    "submission = prepare_submission(recommendations, df_sub)\n",
    "\n",
    "submission.to_csv('baseline_popularity_submission.csv', index=False)\n",
    "print(\"Baseline submission file saved!\")"
   ]
  },
  {
   "cell_type": "code",
   "execution_count": 23,
   "id": "80e35c37",
   "metadata": {},
   "outputs": [
    {
     "data": {
      "text/html": [
       "<div>\n",
       "<style scoped>\n",
       "    .dataframe tbody tr th:only-of-type {\n",
       "        vertical-align: middle;\n",
       "    }\n",
       "\n",
       "    .dataframe tbody tr th {\n",
       "        vertical-align: top;\n",
       "    }\n",
       "\n",
       "    .dataframe thead th {\n",
       "        text-align: right;\n",
       "    }\n",
       "</style>\n",
       "<table border=\"1\" class=\"dataframe\">\n",
       "  <thead>\n",
       "    <tr style=\"text-align: right;\">\n",
       "      <th></th>\n",
       "      <th>user_id</th>\n",
       "      <th>items</th>\n",
       "    </tr>\n",
       "  </thead>\n",
       "  <tbody>\n",
       "    <tr>\n",
       "      <th>0</th>\n",
       "      <td>258671</td>\n",
       "      <td>100454</td>\n",
       "    </tr>\n",
       "    <tr>\n",
       "      <th>1</th>\n",
       "      <td>240498</td>\n",
       "      <td>100454</td>\n",
       "    </tr>\n",
       "    <tr>\n",
       "      <th>2</th>\n",
       "      <td>512761</td>\n",
       "      <td>100454</td>\n",
       "    </tr>\n",
       "    <tr>\n",
       "      <th>3</th>\n",
       "      <td>259030</td>\n",
       "      <td>100454</td>\n",
       "    </tr>\n",
       "    <tr>\n",
       "      <th>4</th>\n",
       "      <td>584368</td>\n",
       "      <td>100454</td>\n",
       "    </tr>\n",
       "  </tbody>\n",
       "</table>\n",
       "</div>"
      ],
      "text/plain": [
       "   user_id   items\n",
       "0   258671  100454\n",
       "1   240498  100454\n",
       "2   512761  100454\n",
       "3   259030  100454\n",
       "4   584368  100454"
      ]
     },
     "execution_count": 23,
     "metadata": {},
     "output_type": "execute_result"
    }
   ],
   "source": [
    "submission.head()"
   ]
  },
  {
   "cell_type": "code",
   "execution_count": 28,
   "id": "f3fe8fd2",
   "metadata": {},
   "outputs": [],
   "source": [
    "from scipy.sparse import csr_matrix, lil_matrix\n",
    "\n",
    "def baseline_user_similarity_sparse(train_df, top_n=10):\n",
    "    user_ids = train_df['user_id'].unique()\n",
    "    item_ids = train_df['item_id'].unique()\n",
    "    \n",
    "    user_to_idx = {user: idx for idx, user in enumerate(user_ids)}\n",
    "    item_to_idx = {item: idx for idx, item in enumerate(item_ids)}\n",
    "    idx_to_item = {idx: item for item, idx in item_to_idx.items()}\n",
    "    \n",
    "    num_users = len(user_ids)\n",
    "    num_items = len(item_ids)\n",
    "    user_item_matrix = lil_matrix((num_users, num_items), dtype=np.int8)\n",
    "    \n",
    "    for _, row in train_df.iterrows():\n",
    "        user_idx = user_to_idx[row['user_id']]\n",
    "        item_idx = item_to_idx[row['item_id']]\n",
    "        user_item_matrix[user_idx, item_idx] = 1  \n",
    "    \n",
    "    user_item_matrix_csr = user_item_matrix.tocsr()\n",
    "    \n",
    "    item_popularity = np.array(user_item_matrix_csr.sum(axis=0)).flatten()\n",
    "    \n",
    "    global_top_items = np.argsort(-item_popularity)[:top_n]\n",
    "    global_top_items = [idx_to_item[idx] for idx in global_top_items]\n",
    "    \n",
    "    user_recommendations = {}\n",
    "    for user in user_ids:\n",
    "        user_idx = user_to_idx[user]\n",
    "        \n",
    "        _, items_bought = user_item_matrix_csr[user_idx].nonzero()\n",
    "        \n",
    "        if len(items_bought) == 0:\n",
    "            user_recommendations[user] = global_top_items\n",
    "            continue\n",
    "        \n",
    "        bought_popularity = item_popularity[items_bought]\n",
    "        sorted_indices = np.argsort(-bought_popularity)\n",
    "        top_personal_items = items_bought[sorted_indices[:top_n]]\n",
    "        \n",
    "        recommended_items = [idx_to_item[idx] for idx in top_personal_items]\n",
    "        \n",
    "        if len(recommended_items) < top_n:\n",
    "            additional = [item for item in global_top_items \n",
    "                         if item not in recommended_items][:top_n - len(recommended_items)]\n",
    "            recommended_items.extend(additional)\n",
    "        \n",
    "        user_recommendations[user] = recommended_items[0]\n",
    "    \n",
    "    return user_recommendations\n",
    "\n",
    "personal_recommendations = baseline_user_similarity_sparse(df_train, top_n=10)\n"
   ]
  },
  {
   "cell_type": "code",
   "execution_count": 29,
   "id": "89bfa704",
   "metadata": {},
   "outputs": [
    {
     "name": "stdout",
     "output_type": "stream",
     "text": [
      "Sparse matrix baseline submission file saved!\n"
     ]
    }
   ],
   "source": [
    "personal_submission = prepare_submission(personal_recommendations, df_sub)\n",
    "personal_submission.to_csv('baseline_sparse_submission.csv', index=False)\n",
    "print(\"Sparse matrix baseline submission file saved!\")"
   ]
  },
  {
   "cell_type": "code",
   "execution_count": 30,
   "id": "93c4484f",
   "metadata": {},
   "outputs": [
    {
     "data": {
      "text/html": [
       "<div>\n",
       "<style scoped>\n",
       "    .dataframe tbody tr th:only-of-type {\n",
       "        vertical-align: middle;\n",
       "    }\n",
       "\n",
       "    .dataframe tbody tr th {\n",
       "        vertical-align: top;\n",
       "    }\n",
       "\n",
       "    .dataframe thead th {\n",
       "        text-align: right;\n",
       "    }\n",
       "</style>\n",
       "<table border=\"1\" class=\"dataframe\">\n",
       "  <thead>\n",
       "    <tr style=\"text-align: right;\">\n",
       "      <th></th>\n",
       "      <th>user_id</th>\n",
       "      <th>items</th>\n",
       "    </tr>\n",
       "  </thead>\n",
       "  <tbody>\n",
       "    <tr>\n",
       "      <th>0</th>\n",
       "      <td>258671</td>\n",
       "      <td>176624</td>\n",
       "    </tr>\n",
       "    <tr>\n",
       "      <th>1</th>\n",
       "      <td>240498</td>\n",
       "      <td>45484</td>\n",
       "    </tr>\n",
       "    <tr>\n",
       "      <th>2</th>\n",
       "      <td>512761</td>\n",
       "      <td>163625</td>\n",
       "    </tr>\n",
       "    <tr>\n",
       "      <th>3</th>\n",
       "      <td>259030</td>\n",
       "      <td>114262</td>\n",
       "    </tr>\n",
       "    <tr>\n",
       "      <th>4</th>\n",
       "      <td>584368</td>\n",
       "      <td>97674</td>\n",
       "    </tr>\n",
       "  </tbody>\n",
       "</table>\n",
       "</div>"
      ],
      "text/plain": [
       "   user_id   items\n",
       "0   258671  176624\n",
       "1   240498   45484\n",
       "2   512761  163625\n",
       "3   259030  114262\n",
       "4   584368   97674"
      ]
     },
     "execution_count": 30,
     "metadata": {},
     "output_type": "execute_result"
    }
   ],
   "source": [
    "personal_submission.head()"
   ]
  },
  {
   "cell_type": "code",
   "execution_count": null,
   "id": "61ff6d67",
   "metadata": {},
   "outputs": [
    {
     "name": "stdout",
     "output_type": "stream",
     "text": [
      "<class 'pandas.core.frame.DataFrame'>\n",
      "RangeIndex: 701981 entries, 0 to 701980\n",
      "Data columns (total 2 columns):\n",
      " #   Column   Non-Null Count   Dtype \n",
      "---  ------   --------------   ----- \n",
      " 0   user_id  701981 non-null  int64 \n",
      " 1   items    701981 non-null  object\n",
      "dtypes: int64(1), object(1)\n",
      "memory usage: 10.7+ MB\n"
     ]
    }
   ],
   "source": [
    "personal_submission.info()"
   ]
  },
  {
   "cell_type": "code",
   "execution_count": 10,
   "id": "08278a0d",
   "metadata": {},
   "outputs": [],
   "source": [
    "df_train[\"weight\"] = 1.0\n",
    "\n",
    "interactions = Interactions(\n",
    "    df_train.rename(columns={\n",
    "        \"user_id\": Columns.User,\n",
    "        \"item_id\": Columns.Item,\n",
    "        \"timestamp\": Columns.Datetime,\n",
    "        \"weight\": Columns.Weight\n",
    "    })\n",
    ")\n",
    "\n",
    "dataset = Dataset.construct(interactions.df)"
   ]
  },
  {
   "cell_type": "code",
   "execution_count": null,
   "id": "6e236d89",
   "metadata": {},
   "outputs": [
    {
     "name": "stderr",
     "output_type": "stream",
     "text": [
      "GPU available: True (cuda), used: True\n",
      "TPU available: False, using: 0 TPU cores\n",
      "HPU available: False, using: 0 HPUs\n"
     ]
    }
   ],
   "source": [
    "model = SASRecModel(\n",
    "    session_max_len=20,\n",
    "    loss=\"softmax\",\n",
    "    n_factors=64,\n",
    "    lr=0.001,\n",
    "    batch_size=128,\n",
    "    deterministic=True,\n",
    "    epochs=1,\n",
    "    verbose=1,\n",
    ")"
   ]
  },
  {
   "cell_type": "code",
   "execution_count": 44,
   "id": "6e6701b3",
   "metadata": {},
   "outputs": [],
   "source": [
    "DEVICE = torch.device(\"cuda\")"
   ]
  },
  {
   "cell_type": "code",
   "execution_count": 41,
   "id": "a208a6cd",
   "metadata": {},
   "outputs": [
    {
     "data": {
      "text/plain": [
       "0"
      ]
     },
     "execution_count": 41,
     "metadata": {},
     "output_type": "execute_result"
    }
   ],
   "source": [
    "torch.cuda.current_device()"
   ]
  },
  {
   "cell_type": "code",
   "execution_count": 21,
   "id": "ead374b0",
   "metadata": {},
   "outputs": [
    {
     "name": "stderr",
     "output_type": "stream",
     "text": [
      "/home/xande/anaconda3/envs/hse-11/lib/python3.11/site-packages/rectools/dataset/identifiers.py:60: FutureWarning: unique with argument that is not not a Series, Index, ExtensionArray, or np.ndarray is deprecated and will raise in a future version.\n",
      "  unq_values = pd.unique(values)\n",
      "/home/xande/anaconda3/envs/hse-11/lib/python3.11/site-packages/rectools/models/nn/item_net.py:134: UserWarning: Ignoring `CatFeaturesItemNet` block because dataset doesn't contain item features.\n",
      "  warnings.warn(explanation)\n",
      "/home/xande/anaconda3/envs/hse-11/lib/python3.11/site-packages/pydantic/main.py:463: UserWarning: Pydantic serializer warnings:\n",
      "  PydanticSerializationUnexpectedValue(Expected `str` - serialized value may not be as expected [input_value=('rectools.models.nn.item...net.CatFeaturesItemNet'), input_type=tuple])\n",
      "  return self.__pydantic_serializer__.to_python(\n",
      "/home/xande/anaconda3/envs/hse-11/lib/python3.11/site-packages/pytorch_lightning/trainer/configuration_validator.py:70: You defined a `validation_step` but have no `val_dataloader`. Skipping val loop.\n",
      "LOCAL_RANK: 0 - CUDA_VISIBLE_DEVICES: [0]\n",
      "\n",
      "  | Name        | Type                     | Params | Mode \n",
      "-----------------------------------------------------------------\n",
      "0 | torch_model | TransformerTorchBackbone | 11.6 M | train\n",
      "-----------------------------------------------------------------\n",
      "11.6 M    Trainable params\n",
      "0         Non-trainable params\n",
      "11.6 M    Total params\n",
      "46.438    Total estimated model params size (MB)\n",
      "35        Modules in train mode\n",
      "0         Modules in eval mode\n",
      "/home/xande/anaconda3/envs/hse-11/lib/python3.11/site-packages/pytorch_lightning/trainer/connectors/data_connector.py:425: The 'train_dataloader' does not have many workers which may be a bottleneck. Consider increasing the value of the `num_workers` argument` to `num_workers=15` in the `DataLoader` to improve performance.\n"
     ]
    },
    {
     "data": {
      "application/vnd.jupyter.widget-view+json": {
       "model_id": "0f44fe29ac4f4892969172edd285fb1a",
       "version_major": 2,
       "version_minor": 0
      },
      "text/plain": [
       "Training: |          | 0/? [00:00<?, ?it/s]"
      ]
     },
     "metadata": {},
     "output_type": "display_data"
    },
    {
     "name": "stderr",
     "output_type": "stream",
     "text": [
      "`Trainer.fit` stopped: `max_epochs=1` reached.\n"
     ]
    },
    {
     "data": {
      "text/plain": [
       "<rectools.models.nn.transformers.sasrec.SASRecModel at 0x7f321199f510>"
      ]
     },
     "execution_count": 21,
     "metadata": {},
     "output_type": "execute_result"
    }
   ],
   "source": [
    "model.fit(dataset)"
   ]
  },
  {
   "cell_type": "code",
   "execution_count": 27,
   "id": "7568071a",
   "metadata": {},
   "outputs": [],
   "source": [
    "torch.save(model, \"sas_rec_model.pt\")"
   ]
  },
  {
   "cell_type": "code",
   "execution_count": 32,
   "id": "0a86b8d9",
   "metadata": {},
   "outputs": [
    {
     "data": {
      "text/html": [
       "<div>\n",
       "<style scoped>\n",
       "    .dataframe tbody tr th:only-of-type {\n",
       "        vertical-align: middle;\n",
       "    }\n",
       "\n",
       "    .dataframe tbody tr th {\n",
       "        vertical-align: top;\n",
       "    }\n",
       "\n",
       "    .dataframe thead th {\n",
       "        text-align: right;\n",
       "    }\n",
       "</style>\n",
       "<table border=\"1\" class=\"dataframe\">\n",
       "  <thead>\n",
       "    <tr style=\"text-align: right;\">\n",
       "      <th></th>\n",
       "      <th>user_id</th>\n",
       "      <th>item_id</th>\n",
       "      <th>timestamp</th>\n",
       "      <th>weight</th>\n",
       "    </tr>\n",
       "  </thead>\n",
       "  <tbody>\n",
       "    <tr>\n",
       "      <th>0</th>\n",
       "      <td>258671</td>\n",
       "      <td>74254</td>\n",
       "      <td>1511701649</td>\n",
       "      <td>1.0</td>\n",
       "    </tr>\n",
       "    <tr>\n",
       "      <th>1</th>\n",
       "      <td>258671</td>\n",
       "      <td>115615</td>\n",
       "      <td>1511841435</td>\n",
       "      <td>1.0</td>\n",
       "    </tr>\n",
       "    <tr>\n",
       "      <th>2</th>\n",
       "      <td>258671</td>\n",
       "      <td>176624</td>\n",
       "      <td>1512105022</td>\n",
       "      <td>1.0</td>\n",
       "    </tr>\n",
       "    <tr>\n",
       "      <th>3</th>\n",
       "      <td>240498</td>\n",
       "      <td>45484</td>\n",
       "      <td>1511605442</td>\n",
       "      <td>1.0</td>\n",
       "    </tr>\n",
       "    <tr>\n",
       "      <th>4</th>\n",
       "      <td>240498</td>\n",
       "      <td>39504</td>\n",
       "      <td>1511756830</td>\n",
       "      <td>1.0</td>\n",
       "    </tr>\n",
       "  </tbody>\n",
       "</table>\n",
       "</div>"
      ],
      "text/plain": [
       "   user_id  item_id   timestamp  weight\n",
       "0   258671    74254  1511701649     1.0\n",
       "1   258671   115615  1511841435     1.0\n",
       "2   258671   176624  1512105022     1.0\n",
       "3   240498    45484  1511605442     1.0\n",
       "4   240498    39504  1511756830     1.0"
      ]
     },
     "execution_count": 32,
     "metadata": {},
     "output_type": "execute_result"
    }
   ],
   "source": [
    "df_train.head()"
   ]
  },
  {
   "cell_type": "code",
   "execution_count": 48,
   "id": "800c6f5f",
   "metadata": {},
   "outputs": [
    {
     "ename": "NotFittedError",
     "evalue": "SASRecModel isn't fitted, call method `fit` first.",
     "output_type": "error",
     "traceback": [
      "\u001b[31m---------------------------------------------------------------------------\u001b[39m",
      "\u001b[31mNotFittedError\u001b[39m                            Traceback (most recent call last)",
      "\u001b[36mCell\u001b[39m\u001b[36m \u001b[39m\u001b[32mIn[48]\u001b[39m\u001b[32m, line 1\u001b[39m\n\u001b[32m----> \u001b[39m\u001b[32m1\u001b[39m recs = \u001b[43mmodel\u001b[49m\u001b[43m.\u001b[49m\u001b[43mrecommend\u001b[49m\u001b[43m(\u001b[49m\n\u001b[32m      2\u001b[39m \u001b[43m    \u001b[49m\u001b[43musers\u001b[49m\u001b[43m=\u001b[49m\u001b[43mdf_train\u001b[49m\u001b[43m[\u001b[49m\u001b[33;43m\"\u001b[39;49m\u001b[33;43muser_id\u001b[39;49m\u001b[33;43m\"\u001b[39;49m\u001b[43m]\u001b[49m\u001b[43m.\u001b[49m\u001b[43munique\u001b[49m\u001b[43m(\u001b[49m\u001b[43m)\u001b[49m\u001b[43m,\u001b[49m\u001b[43m  \u001b[49m\n\u001b[32m      3\u001b[39m \u001b[43m    \u001b[49m\u001b[43mdataset\u001b[49m\u001b[43m=\u001b[49m\u001b[43mdataset\u001b[49m\u001b[43m,\u001b[49m\n\u001b[32m      4\u001b[39m \u001b[43m    \u001b[49m\u001b[43mk\u001b[49m\u001b[43m=\u001b[49m\u001b[32;43m3\u001b[39;49m\u001b[43m,\u001b[49m\n\u001b[32m      5\u001b[39m \u001b[43m    \u001b[49m\u001b[43mfilter_viewed\u001b[49m\u001b[43m=\u001b[49m\u001b[38;5;28;43;01mTrue\u001b[39;49;00m\u001b[43m,\u001b[49m\n\u001b[32m      6\u001b[39m \u001b[43m    \u001b[49m\u001b[43mon_unsupported_targets\u001b[49m\u001b[43m=\u001b[49m\u001b[33;43m\"\u001b[39;49m\u001b[33;43mwarn\u001b[39;49m\u001b[33;43m\"\u001b[39;49m\n\u001b[32m      7\u001b[39m \u001b[43m)\u001b[49m\n",
      "\u001b[36mFile \u001b[39m\u001b[32m~/anaconda3/envs/hse-11/lib/python3.11/site-packages/rectools/models/base.py:433\u001b[39m, in \u001b[36mModelBase.recommend\u001b[39m\u001b[34m(self, users, dataset, k, filter_viewed, items_to_recommend, add_rank_col, on_unsupported_targets)\u001b[39m\n\u001b[32m    368\u001b[39m \u001b[38;5;28;01mdef\u001b[39;00m\u001b[38;5;250m \u001b[39m\u001b[34mrecommend\u001b[39m(\n\u001b[32m    369\u001b[39m     \u001b[38;5;28mself\u001b[39m,\n\u001b[32m    370\u001b[39m     users: ExternalIds,\n\u001b[32m   (...)\u001b[39m\u001b[32m    376\u001b[39m     on_unsupported_targets: ErrorBehaviour = \u001b[33m\"\u001b[39m\u001b[33mraise\u001b[39m\u001b[33m\"\u001b[39m,\n\u001b[32m    377\u001b[39m ) -> pd.DataFrame:\n\u001b[32m    378\u001b[39m \u001b[38;5;250m    \u001b[39m\u001b[33mr\u001b[39m\u001b[33;03m\"\"\"\u001b[39;00m\n\u001b[32m    379\u001b[39m \u001b[33;03m    Recommend items for users.\u001b[39;00m\n\u001b[32m    380\u001b[39m \n\u001b[32m   (...)\u001b[39m\u001b[32m    431\u001b[39m \u001b[33;03m        `on_unsupported_targets` is set to \"raise\".\u001b[39;00m\n\u001b[32m    432\u001b[39m \u001b[33;03m    \"\"\"\u001b[39;00m\n\u001b[32m--> \u001b[39m\u001b[32m433\u001b[39m     \u001b[38;5;28;43mself\u001b[39;49m\u001b[43m.\u001b[49m\u001b[43m_check_is_fitted\u001b[49m\u001b[43m(\u001b[49m\u001b[43m)\u001b[49m\n\u001b[32m    434\u001b[39m     \u001b[38;5;28mself\u001b[39m._check_k(k)\n\u001b[32m    435\u001b[39m     \u001b[38;5;66;03m# We are going to lose original dataset object. Save dtype for later\u001b[39;00m\n",
      "\u001b[36mFile \u001b[39m\u001b[32m~/anaconda3/envs/hse-11/lib/python3.11/site-packages/rectools/models/base.py:617\u001b[39m, in \u001b[36mModelBase._check_is_fitted\u001b[39m\u001b[34m(self)\u001b[39m\n\u001b[32m    615\u001b[39m \u001b[38;5;28;01mdef\u001b[39;00m\u001b[38;5;250m \u001b[39m\u001b[34m_check_is_fitted\u001b[39m(\u001b[38;5;28mself\u001b[39m) -> \u001b[38;5;28;01mNone\u001b[39;00m:\n\u001b[32m    616\u001b[39m     \u001b[38;5;28;01mif\u001b[39;00m \u001b[38;5;129;01mnot\u001b[39;00m \u001b[38;5;28mself\u001b[39m.is_fitted:\n\u001b[32m--> \u001b[39m\u001b[32m617\u001b[39m         \u001b[38;5;28;01mraise\u001b[39;00m NotFittedError(\u001b[38;5;28mself\u001b[39m.\u001b[34m__class__\u001b[39m.\u001b[34m__name__\u001b[39m)\n",
      "\u001b[31mNotFittedError\u001b[39m: SASRecModel isn't fitted, call method `fit` first."
     ]
    }
   ],
   "source": [
    "recs = model.recommend(\n",
    "    users=df_train[\"user_id\"].unique(),  \n",
    "    dataset=dataset,\n",
    "    k=3,\n",
    "    filter_viewed=True,\n",
    "    on_unsupported_targets=\"warn\"\n",
    ")"
   ]
  },
  {
   "cell_type": "code",
   "execution_count": null,
   "id": "b76cdbe6",
   "metadata": {},
   "outputs": [],
   "source": [
    "df_sasrec = recs.to_pandas()\n",
    "df_sasrec.head()"
   ]
  },
  {
   "cell_type": "code",
   "execution_count": null,
   "id": "92a8dff3",
   "metadata": {},
   "outputs": [],
   "source": [
    "recs.to_pandas().to_csv(\"sasrec_submission.csv\", index=False)"
   ]
  },
  {
   "cell_type": "code",
   "execution_count": null,
   "id": "07af22f1",
   "metadata": {},
   "outputs": [],
   "source": [
    "personal_submission = prepare_submission(df_sasrec, df_sub)\n",
    "personal_submission.to_csv('sasrec_submission_submission.csv', index=False)\n",
    "print(\"SasRec file saved!\")"
   ]
  },
  {
   "cell_type": "code",
   "execution_count": null,
   "id": "0d263bab",
   "metadata": {},
   "outputs": [],
   "source": []
  }
 ],
 "metadata": {
  "kernelspec": {
   "display_name": "hse-11",
   "language": "python",
   "name": "python3"
  },
  "language_info": {
   "codemirror_mode": {
    "name": "ipython",
    "version": 3
   },
   "file_extension": ".py",
   "mimetype": "text/x-python",
   "name": "python",
   "nbconvert_exporter": "python",
   "pygments_lexer": "ipython3",
   "version": "3.11.11"
  }
 },
 "nbformat": 4,
 "nbformat_minor": 5
}
