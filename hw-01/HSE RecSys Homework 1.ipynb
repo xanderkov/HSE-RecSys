{
 "cells": [
  {
   "cell_type": "markdown",
   "id": "c865b610-e175-4e9f-be2f-995e43e45332",
   "metadata": {
    "id": "c865b610-e175-4e9f-be2f-995e43e45332"
   },
   "source": [
    "## ДЗ №1. Метрики и простейшие алгоритмы рекомендаций"
   ]
  },
  {
   "cell_type": "markdown",
   "id": "16ff81db-dc65-4d89-8c79-d4e2a6e71879",
   "metadata": {
    "id": "16ff81db-dc65-4d89-8c79-d4e2a6e71879"
   },
   "source": [
    "## Общая информация\n",
    "**Дата выдачи: 4 февраля 2025**\n",
    "\n",
    "**Дедлайн: 12 февраля 2025 23:59 MSK**"
   ]
  },
  {
   "cell_type": "code",
   "execution_count": 1,
   "id": "e5fbada3-40bc-4748-9897-1c0e15d7892a",
   "metadata": {
    "id": "e5fbada3-40bc-4748-9897-1c0e15d7892a",
    "tags": []
   },
   "outputs": [
    {
     "name": "stderr",
     "output_type": "stream",
     "text": [
      "/Users/akovel/anaconda3/lib/python3.11/site-packages/pandas/core/arrays/masked.py:60: UserWarning: Pandas requires version '1.3.6' or newer of 'bottleneck' (version '1.3.5' currently installed).\n",
      "  from pandas.core import (\n"
     ]
    }
   ],
   "source": [
    "import pandas as pd\n",
    "import numpy as np\n",
    "from matplotlib import pyplot as plt\n",
    "from tqdm.auto import tqdm\n",
    "from typing import List, Optional\n",
    "from metric_tests import run_tests\n",
    "\n",
    "%matplotlib inline"
   ]
  },
  {
   "cell_type": "markdown",
   "id": "4098f8b8-a49a-4a66-92e2-e75c7acc4988",
   "metadata": {
    "id": "4098f8b8-a49a-4a66-92e2-e75c7acc4988"
   },
   "source": [
    "## О задании\n",
    "\n",
    "В этой работе мы посмотрим на то, как работают самые простые модели для рекомендаций. Как правило, они не требуют построения специальных моделей, но даже так оказываются полезны в качестве бейзлайна. Попробуем сделать предсказания с помощью EASE. Это тоже довольно простой подход, но не стоит забывать, что сложные модели могут оказаться не лучшим выбором в условиях большого количества данных. Посчитаем метрики, построим графики и подумаем, насколько хорошо эти модели вообще решают поставленную задачу.\n",
    "\n",
    "Мы будем работать с датасетом по рекомендации фильмов от Kion MTS, который был дан для соревнования. Сперва нужно его предобработать, эта часть повторяет то, что было на семинаре. \n",
    "\n",
    "Датасет необходимо скачать: https://ods.ai/competitions/competition-recsys-21/data\n",
    "\n",
    "Оттуда нужны файлы `interactions.csv` и `items.csv`\n",
    "\n",
    "Каждое задание весит **1 балл**, если выполнено полностью и без ошибок, **0 баллов** ставится при наличии хотя бы 1 ошибки. Максимальная оценка - **10 баллов**. Шаблоны функций и классов можно менять по своему усмотрению."
   ]
  },
  {
   "cell_type": "code",
   "execution_count": 2,
   "id": "02af9415-838f-446e-80ed-f6083cc9cb27",
   "metadata": {
    "colab": {
     "base_uri": "https://localhost:8080/",
     "height": 206
    },
    "id": "02af9415-838f-446e-80ed-f6083cc9cb27",
    "outputId": "38e0880c-09b1-4b18-9477-6fc6d0ca0990",
    "tags": []
   },
   "outputs": [
    {
     "data": {
      "text/html": [
       "<div>\n",
       "<style scoped>\n",
       "    .dataframe tbody tr th:only-of-type {\n",
       "        vertical-align: middle;\n",
       "    }\n",
       "\n",
       "    .dataframe tbody tr th {\n",
       "        vertical-align: top;\n",
       "    }\n",
       "\n",
       "    .dataframe thead th {\n",
       "        text-align: right;\n",
       "    }\n",
       "</style>\n",
       "<table border=\"1\" class=\"dataframe\">\n",
       "  <thead>\n",
       "    <tr style=\"text-align: right;\">\n",
       "      <th></th>\n",
       "      <th>user_id</th>\n",
       "      <th>item_id</th>\n",
       "      <th>last_watch_dt</th>\n",
       "      <th>total_dur</th>\n",
       "      <th>watched_pct</th>\n",
       "    </tr>\n",
       "  </thead>\n",
       "  <tbody>\n",
       "    <tr>\n",
       "      <th>0</th>\n",
       "      <td>176549</td>\n",
       "      <td>9506</td>\n",
       "      <td>2021-05-11</td>\n",
       "      <td>4250</td>\n",
       "      <td>72.0</td>\n",
       "    </tr>\n",
       "    <tr>\n",
       "      <th>1</th>\n",
       "      <td>699317</td>\n",
       "      <td>1659</td>\n",
       "      <td>2021-05-29</td>\n",
       "      <td>8317</td>\n",
       "      <td>100.0</td>\n",
       "    </tr>\n",
       "    <tr>\n",
       "      <th>2</th>\n",
       "      <td>656683</td>\n",
       "      <td>7107</td>\n",
       "      <td>2021-05-09</td>\n",
       "      <td>10</td>\n",
       "      <td>0.0</td>\n",
       "    </tr>\n",
       "    <tr>\n",
       "      <th>3</th>\n",
       "      <td>864613</td>\n",
       "      <td>7638</td>\n",
       "      <td>2021-07-05</td>\n",
       "      <td>14483</td>\n",
       "      <td>100.0</td>\n",
       "    </tr>\n",
       "    <tr>\n",
       "      <th>4</th>\n",
       "      <td>964868</td>\n",
       "      <td>9506</td>\n",
       "      <td>2021-04-30</td>\n",
       "      <td>6725</td>\n",
       "      <td>100.0</td>\n",
       "    </tr>\n",
       "  </tbody>\n",
       "</table>\n",
       "</div>"
      ],
      "text/plain": [
       "   user_id  item_id last_watch_dt  total_dur  watched_pct\n",
       "0   176549     9506    2021-05-11       4250         72.0\n",
       "1   699317     1659    2021-05-29       8317        100.0\n",
       "2   656683     7107    2021-05-09         10          0.0\n",
       "3   864613     7638    2021-07-05      14483        100.0\n",
       "4   964868     9506    2021-04-30       6725        100.0"
      ]
     },
     "execution_count": 2,
     "metadata": {},
     "output_type": "execute_result"
    }
   ],
   "source": [
    "df = pd.read_csv('data/interactions.csv').iloc[:-1]\n",
    "df.head()"
   ]
  },
  {
   "cell_type": "code",
   "execution_count": 3,
   "id": "78153b4e-975b-4493-95e7-e503f7c68757",
   "metadata": {
    "colab": {
     "base_uri": "https://localhost:8080/",
     "height": 206
    },
    "id": "78153b4e-975b-4493-95e7-e503f7c68757",
    "outputId": "d4cdad47-aca2-4140-bf48-511b57b6ca9e",
    "tags": []
   },
   "outputs": [
    {
     "data": {
      "text/html": [
       "<div>\n",
       "<style scoped>\n",
       "    .dataframe tbody tr th:only-of-type {\n",
       "        vertical-align: middle;\n",
       "    }\n",
       "\n",
       "    .dataframe tbody tr th {\n",
       "        vertical-align: top;\n",
       "    }\n",
       "\n",
       "    .dataframe thead th {\n",
       "        text-align: right;\n",
       "    }\n",
       "</style>\n",
       "<table border=\"1\" class=\"dataframe\">\n",
       "  <thead>\n",
       "    <tr style=\"text-align: right;\">\n",
       "      <th></th>\n",
       "      <th>user_id</th>\n",
       "      <th>item_id</th>\n",
       "      <th>last_watch_dt</th>\n",
       "      <th>total_dur</th>\n",
       "      <th>watched_pct</th>\n",
       "    </tr>\n",
       "  </thead>\n",
       "  <tbody>\n",
       "    <tr>\n",
       "      <th>2736703</th>\n",
       "      <td>388382</td>\n",
       "      <td>16166</td>\n",
       "      <td>149</td>\n",
       "      <td>11813</td>\n",
       "      <td>100.0</td>\n",
       "    </tr>\n",
       "    <tr>\n",
       "      <th>4249315</th>\n",
       "      <td>1018589</td>\n",
       "      <td>3363</td>\n",
       "      <td>104</td>\n",
       "      <td>13715</td>\n",
       "      <td>100.0</td>\n",
       "    </tr>\n",
       "    <tr>\n",
       "      <th>1504534</th>\n",
       "      <td>756208</td>\n",
       "      <td>7731</td>\n",
       "      <td>54</td>\n",
       "      <td>5517</td>\n",
       "      <td>90.0</td>\n",
       "    </tr>\n",
       "    <tr>\n",
       "      <th>3063271</th>\n",
       "      <td>750922</td>\n",
       "      <td>11312</td>\n",
       "      <td>12</td>\n",
       "      <td>873</td>\n",
       "      <td>13.0</td>\n",
       "    </tr>\n",
       "    <tr>\n",
       "      <th>2636200</th>\n",
       "      <td>45400</td>\n",
       "      <td>4151</td>\n",
       "      <td>128</td>\n",
       "      <td>1586</td>\n",
       "      <td>13.0</td>\n",
       "    </tr>\n",
       "  </tbody>\n",
       "</table>\n",
       "</div>"
      ],
      "text/plain": [
       "         user_id  item_id  last_watch_dt  total_dur  watched_pct\n",
       "2736703   388382    16166            149      11813        100.0\n",
       "4249315  1018589     3363            104      13715        100.0\n",
       "1504534   756208     7731             54       5517         90.0\n",
       "3063271   750922    11312             12        873         13.0\n",
       "2636200    45400     4151            128       1586         13.0"
      ]
     },
     "execution_count": 3,
     "metadata": {},
     "output_type": "execute_result"
    }
   ],
   "source": [
    "df['last_watch_dt'] = (pd.to_datetime(df['last_watch_dt']) - pd.to_datetime(df['last_watch_dt']).min())\n",
    "df['last_watch_dt'] = df.last_watch_dt.apply(lambda x: int(str(x).split()[0]))\n",
    "df.sample(5)"
   ]
  },
  {
   "cell_type": "markdown",
   "id": "DnuIUsrRj0Tk",
   "metadata": {
    "id": "DnuIUsrRj0Tk"
   },
   "source": [
    "Сделаем разбиение по времени"
   ]
  },
  {
   "cell_type": "code",
   "execution_count": 4,
   "id": "1a0df672-7a64-4ba7-aea2-9aed9c13ecb6",
   "metadata": {
    "colab": {
     "base_uri": "https://localhost:8080/",
     "height": 447
    },
    "id": "1a0df672-7a64-4ba7-aea2-9aed9c13ecb6",
    "outputId": "6991b14a-91a5-4f3a-8f28-c5914132839a",
    "tags": []
   },
   "outputs": [
    {
     "data": {
      "text/plain": [
       "<Axes: >"
      ]
     },
     "execution_count": 4,
     "metadata": {},
     "output_type": "execute_result"
    },
    {
     "data": {
      "image/png": "[encoded data removed]",
      "text/plain": [
       "<Figure size 640x480 with 1 Axes>"
      ]
     },
     "metadata": {},
     "output_type": "display_data"
    }
   ],
   "source": [
    "df.last_watch_dt.hist(bins=50)"
   ]
  },
  {
   "cell_type": "code",
   "execution_count": 5,
   "id": "1017b62e-68ce-4bfb-b44f-9e1b391aa08b",
   "metadata": {
    "colab": {
     "base_uri": "https://localhost:8080/"
    },
    "id": "1017b62e-68ce-4bfb-b44f-9e1b391aa08b",
    "outputId": "730db660-a2f0-4f12-f54c-b794f299a41b",
    "tags": []
   },
   "outputs": [
    {
     "name": "stdout",
     "output_type": "stream",
     "text": [
      "число людей и там и там:  134670\n",
      "число людей всего: 880449\n"
     ]
    }
   ],
   "source": [
    "train_df = df.loc[(df.last_watch_dt < 160-7)].copy()\n",
    "test_df = df.loc[(df.last_watch_dt >= 160-7)].copy()\n",
    "\n",
    "train_users = train_df.user_id.unique()\n",
    "test_users = test_df.user_id.unique()\n",
    "\n",
    "all_included = np.intersect1d(train_users, test_users)\n",
    "\n",
    "print('число людей и там и там: ', all_included.shape[0])\n",
    "print('число людей всего:', train_users.shape[0])"
   ]
  },
  {
   "cell_type": "code",
   "execution_count": 6,
   "id": "8f30d288-bdd7-4304-81ef-61c3b9b75ac9",
   "metadata": {
    "colab": {
     "base_uri": "https://localhost:8080/"
    },
    "id": "8f30d288-bdd7-4304-81ef-61c3b9b75ac9",
    "outputId": "56b765fb-2bfb-47e1-bf06-c594bde79921",
    "tags": []
   },
   "outputs": [
    {
     "data": {
      "text/plain": [
       "0.37768022181146027"
      ]
     },
     "execution_count": 6,
     "metadata": {},
     "output_type": "execute_result"
    }
   ],
   "source": [
    "len(set(test_users) - set(train_users)) / len(test_users)"
   ]
  },
  {
   "cell_type": "markdown",
   "id": "de1eb6f2-f78c-4403-aebd-a0561a049360",
   "metadata": {
    "id": "de1eb6f2-f78c-4403-aebd-a0561a049360"
   },
   "source": [
    "И переведём всё к соединённому датасету:"
   ]
  },
  {
   "cell_type": "code",
   "execution_count": 7,
   "id": "3686c2f1-9a9b-4684-b3d3-06c891252549",
   "metadata": {
    "id": "3686c2f1-9a9b-4684-b3d3-06c891252549",
    "tags": []
   },
   "outputs": [],
   "source": [
    "n_users = 10000\n",
    "\n",
    "all_included = np.random.choice(all_included, size=n_users, replace=False)\n",
    "\n",
    "train_df = train_df.loc[train_df.user_id.isin(all_included)].copy()\n",
    "test_df = test_df.loc[test_df.user_id.isin(all_included)].copy()\n",
    "\n",
    "assert train_df.last_watch_dt.max() < test_df.last_watch_dt.min()\n",
    "assert train_df.user_id.nunique() == n_users\n",
    "assert test_df.user_id.nunique() == n_users"
   ]
  },
  {
   "cell_type": "code",
   "execution_count": 8,
   "id": "1c995549-bc88-4af3-a8ce-ca19baa30ee2",
   "metadata": {
    "colab": {
     "base_uri": "https://localhost:8080/",
     "height": 206
    },
    "id": "1c995549-bc88-4af3-a8ce-ca19baa30ee2",
    "outputId": "b0e5cd25-3f51-457a-808f-ccd23a4c677d",
    "tags": []
   },
   "outputs": [
    {
     "data": {
      "text/html": [
       "<div>\n",
       "<style scoped>\n",
       "    .dataframe tbody tr th:only-of-type {\n",
       "        vertical-align: middle;\n",
       "    }\n",
       "\n",
       "    .dataframe tbody tr th {\n",
       "        vertical-align: top;\n",
       "    }\n",
       "\n",
       "    .dataframe thead th {\n",
       "        text-align: right;\n",
       "    }\n",
       "</style>\n",
       "<table border=\"1\" class=\"dataframe\">\n",
       "  <thead>\n",
       "    <tr style=\"text-align: right;\">\n",
       "      <th></th>\n",
       "      <th>user_id</th>\n",
       "      <th>item_id</th>\n",
       "      <th>last_watch_dt</th>\n",
       "      <th>total_dur</th>\n",
       "      <th>watched_pct</th>\n",
       "    </tr>\n",
       "  </thead>\n",
       "  <tbody>\n",
       "    <tr>\n",
       "      <th>28</th>\n",
       "      <td>81786</td>\n",
       "      <td>2616</td>\n",
       "      <td>133</td>\n",
       "      <td>41422</td>\n",
       "      <td>90.0</td>\n",
       "    </tr>\n",
       "    <tr>\n",
       "      <th>119</th>\n",
       "      <td>10543</td>\n",
       "      <td>821</td>\n",
       "      <td>64</td>\n",
       "      <td>112</td>\n",
       "      <td>0.0</td>\n",
       "    </tr>\n",
       "    <tr>\n",
       "      <th>278</th>\n",
       "      <td>963902</td>\n",
       "      <td>9996</td>\n",
       "      <td>82</td>\n",
       "      <td>3268</td>\n",
       "      <td>10.0</td>\n",
       "    </tr>\n",
       "    <tr>\n",
       "      <th>338</th>\n",
       "      <td>1023844</td>\n",
       "      <td>14359</td>\n",
       "      <td>105</td>\n",
       "      <td>6652</td>\n",
       "      <td>100.0</td>\n",
       "    </tr>\n",
       "    <tr>\n",
       "      <th>481</th>\n",
       "      <td>1023516</td>\n",
       "      <td>9585</td>\n",
       "      <td>149</td>\n",
       "      <td>14</td>\n",
       "      <td>0.0</td>\n",
       "    </tr>\n",
       "  </tbody>\n",
       "</table>\n",
       "</div>"
      ],
      "text/plain": [
       "     user_id  item_id  last_watch_dt  total_dur  watched_pct\n",
       "28     81786     2616            133      41422         90.0\n",
       "119    10543      821             64        112          0.0\n",
       "278   963902     9996             82       3268         10.0\n",
       "338  1023844    14359            105       6652        100.0\n",
       "481  1023516     9585            149         14          0.0"
      ]
     },
     "execution_count": 8,
     "metadata": {},
     "output_type": "execute_result"
    }
   ],
   "source": [
    "train_df.head()"
   ]
  },
  {
   "cell_type": "code",
   "execution_count": 9,
   "id": "4a1e9f17-02e9-4c7f-aa54-4a331b7244b2",
   "metadata": {
    "colab": {
     "base_uri": "https://localhost:8080/",
     "height": 206
    },
    "id": "4a1e9f17-02e9-4c7f-aa54-4a331b7244b2",
    "outputId": "6210ca52-f2a5-4594-d20f-8e17a3a27046",
    "tags": []
   },
   "outputs": [
    {
     "name": "stderr",
     "output_type": "stream",
     "text": [
      "/var/folders/zz/gp2ff22x0kd0hxvd61_3_hc00000gn/T/ipykernel_77779/1105526701.py:1: DeprecationWarning: DataFrameGroupBy.apply operated on the grouping columns. This behavior is deprecated, and in a future version of pandas the grouping columns will be excluded from the operation. Either pass `include_groups=False` to exclude the groupings or explicitly select the grouping columns after groupby to silence this warning.\n",
      "  train_grouped = train_df.groupby('user_id').apply(\n",
      "/var/folders/zz/gp2ff22x0kd0hxvd61_3_hc00000gn/T/ipykernel_77779/1105526701.py:7: DeprecationWarning: DataFrameGroupBy.apply operated on the grouping columns. This behavior is deprecated, and in a future version of pandas the grouping columns will be excluded from the operation. Either pass `include_groups=False` to exclude the groupings or explicitly select the grouping columns after groupby to silence this warning.\n",
      "  test_grouped = test_df.groupby('user_id').apply(\n"
     ]
    },
    {
     "data": {
      "text/html": [
       "<div>\n",
       "<style scoped>\n",
       "    .dataframe tbody tr th:only-of-type {\n",
       "        vertical-align: middle;\n",
       "    }\n",
       "\n",
       "    .dataframe tbody tr th {\n",
       "        vertical-align: top;\n",
       "    }\n",
       "\n",
       "    .dataframe thead th {\n",
       "        text-align: right;\n",
       "    }\n",
       "</style>\n",
       "<table border=\"1\" class=\"dataframe\">\n",
       "  <thead>\n",
       "    <tr style=\"text-align: right;\">\n",
       "      <th></th>\n",
       "      <th>user_id</th>\n",
       "      <th>train_interactions</th>\n",
       "    </tr>\n",
       "  </thead>\n",
       "  <tbody>\n",
       "    <tr>\n",
       "      <th>0</th>\n",
       "      <td>47</td>\n",
       "      <td>[(13361, 138), (13865, 138), (7401, 142), (129...</td>\n",
       "    </tr>\n",
       "    <tr>\n",
       "      <th>1</th>\n",
       "      <td>272</td>\n",
       "      <td>[(12869, 40), (11310, 112)]</td>\n",
       "    </tr>\n",
       "    <tr>\n",
       "      <th>2</th>\n",
       "      <td>513</td>\n",
       "      <td>[(12173, 31), (3940, 35), (8980, 42), (5847, 4...</td>\n",
       "    </tr>\n",
       "    <tr>\n",
       "      <th>3</th>\n",
       "      <td>681</td>\n",
       "      <td>[(9728, 112), (4533, 116), (13789, 116), (1470...</td>\n",
       "    </tr>\n",
       "    <tr>\n",
       "      <th>4</th>\n",
       "      <td>764</td>\n",
       "      <td>[(11115, 49), (15404, 49), (16361, 49), (12770...</td>\n",
       "    </tr>\n",
       "  </tbody>\n",
       "</table>\n",
       "</div>"
      ],
      "text/plain": [
       "   user_id                                 train_interactions\n",
       "0       47  [(13361, 138), (13865, 138), (7401, 142), (129...\n",
       "1      272                        [(12869, 40), (11310, 112)]\n",
       "2      513  [(12173, 31), (3940, 35), (8980, 42), (5847, 4...\n",
       "3      681  [(9728, 112), (4533, 116), (13789, 116), (1470...\n",
       "4      764  [(11115, 49), (15404, 49), (16361, 49), (12770..."
      ]
     },
     "execution_count": 9,
     "metadata": {},
     "output_type": "execute_result"
    }
   ],
   "source": [
    "train_grouped = train_df.groupby('user_id').apply(\n",
    "    lambda x: [(t1, t2) for t1, t2 in sorted(zip(x.item_id,\n",
    "                                                 x.last_watch_dt), key=lambda x: x[1])]\n",
    ").reset_index()\n",
    "train_grouped.rename({0:'train_interactions'}, axis=1, inplace=True)\n",
    "\n",
    "test_grouped = test_df.groupby('user_id').apply(\n",
    "    lambda x: [(t1, t2) for t1, t2 in sorted(zip(x.item_id,\n",
    "                                                         x.last_watch_dt), key=lambda x: x[1])]\n",
    ").reset_index()\n",
    "test_grouped.rename({0:'test_interactions'}, axis=1, inplace=True)\n",
    "\n",
    "train_grouped.head()"
   ]
  },
  {
   "cell_type": "code",
   "execution_count": 10,
   "id": "594ade13-ff8b-4ded-9c73-00ea48be4bd9",
   "metadata": {
    "colab": {
     "base_uri": "https://localhost:8080/",
     "height": 206
    },
    "id": "594ade13-ff8b-4ded-9c73-00ea48be4bd9",
    "outputId": "1e4c65ad-171a-497e-f65d-0af5bd96c90d",
    "tags": []
   },
   "outputs": [
    {
     "data": {
      "text/html": [
       "<div>\n",
       "<style scoped>\n",
       "    .dataframe tbody tr th:only-of-type {\n",
       "        vertical-align: middle;\n",
       "    }\n",
       "\n",
       "    .dataframe tbody tr th {\n",
       "        vertical-align: top;\n",
       "    }\n",
       "\n",
       "    .dataframe thead th {\n",
       "        text-align: right;\n",
       "    }\n",
       "</style>\n",
       "<table border=\"1\" class=\"dataframe\">\n",
       "  <thead>\n",
       "    <tr style=\"text-align: right;\">\n",
       "      <th></th>\n",
       "      <th>user_id</th>\n",
       "      <th>train_interactions</th>\n",
       "      <th>test_interactions</th>\n",
       "    </tr>\n",
       "  </thead>\n",
       "  <tbody>\n",
       "    <tr>\n",
       "      <th>0</th>\n",
       "      <td>47</td>\n",
       "      <td>[(13361, 138), (13865, 138), (7401, 142), (129...</td>\n",
       "      <td>[(14488, 160)]</td>\n",
       "    </tr>\n",
       "    <tr>\n",
       "      <th>1</th>\n",
       "      <td>272</td>\n",
       "      <td>[(12869, 40), (11310, 112)]</td>\n",
       "      <td>[(5398, 156), (9728, 156), (6561, 156), (15214...</td>\n",
       "    </tr>\n",
       "    <tr>\n",
       "      <th>2</th>\n",
       "      <td>513</td>\n",
       "      <td>[(12173, 31), (3940, 35), (8980, 42), (5847, 4...</td>\n",
       "      <td>[(1916, 159)]</td>\n",
       "    </tr>\n",
       "    <tr>\n",
       "      <th>3</th>\n",
       "      <td>681</td>\n",
       "      <td>[(9728, 112), (4533, 116), (13789, 116), (1470...</td>\n",
       "      <td>[(7389, 154), (8617, 154)]</td>\n",
       "    </tr>\n",
       "    <tr>\n",
       "      <th>4</th>\n",
       "      <td>764</td>\n",
       "      <td>[(11115, 49), (15404, 49), (16361, 49), (12770...</td>\n",
       "      <td>[(4000, 159)]</td>\n",
       "    </tr>\n",
       "  </tbody>\n",
       "</table>\n",
       "</div>"
      ],
      "text/plain": [
       "   user_id                                 train_interactions  \\\n",
       "0       47  [(13361, 138), (13865, 138), (7401, 142), (129...   \n",
       "1      272                        [(12869, 40), (11310, 112)]   \n",
       "2      513  [(12173, 31), (3940, 35), (8980, 42), (5847, 4...   \n",
       "3      681  [(9728, 112), (4533, 116), (13789, 116), (1470...   \n",
       "4      764  [(11115, 49), (15404, 49), (16361, 49), (12770...   \n",
       "\n",
       "                                   test_interactions  \n",
       "0                                     [(14488, 160)]  \n",
       "1  [(5398, 156), (9728, 156), (6561, 156), (15214...  \n",
       "2                                      [(1916, 159)]  \n",
       "3                         [(7389, 154), (8617, 154)]  \n",
       "4                                      [(4000, 159)]  "
      ]
     },
     "execution_count": 10,
     "metadata": {},
     "output_type": "execute_result"
    }
   ],
   "source": [
    "joined = train_grouped.merge(test_grouped)\n",
    "joined.head()"
   ]
  },
  {
   "cell_type": "code",
   "execution_count": 11,
   "id": "dd2ee6a6-914c-4f2d-91c8-c80bde97d84e",
   "metadata": {
    "colab": {
     "base_uri": "https://localhost:8080/",
     "height": 293
    },
    "id": "dd2ee6a6-914c-4f2d-91c8-c80bde97d84e",
    "outputId": "27bc3f05-b1b4-4bf8-de05-04ea850a7c28",
    "tags": []
   },
   "outputs": [
    {
     "data": {
      "text/html": [
       "<div>\n",
       "<style scoped>\n",
       "    .dataframe tbody tr th:only-of-type {\n",
       "        vertical-align: middle;\n",
       "    }\n",
       "\n",
       "    .dataframe tbody tr th {\n",
       "        vertical-align: top;\n",
       "    }\n",
       "\n",
       "    .dataframe thead th {\n",
       "        text-align: right;\n",
       "    }\n",
       "</style>\n",
       "<table border=\"1\" class=\"dataframe\">\n",
       "  <thead>\n",
       "    <tr style=\"text-align: right;\">\n",
       "      <th></th>\n",
       "      <th>user_id</th>\n",
       "      <th>train_interactions</th>\n",
       "      <th>test_interactions</th>\n",
       "      <th>random_recs</th>\n",
       "    </tr>\n",
       "  </thead>\n",
       "  <tbody>\n",
       "    <tr>\n",
       "      <th>0</th>\n",
       "      <td>47</td>\n",
       "      <td>[(13361, 138), (13865, 138), (7401, 142), (129...</td>\n",
       "      <td>[(14488, 160)]</td>\n",
       "      <td>[15744, 922, 12119]</td>\n",
       "    </tr>\n",
       "    <tr>\n",
       "      <th>1</th>\n",
       "      <td>272</td>\n",
       "      <td>[(12869, 40), (11310, 112)]</td>\n",
       "      <td>[(5398, 156), (9728, 156), (6561, 156), (15214...</td>\n",
       "      <td>[15744, 922, 12119]</td>\n",
       "    </tr>\n",
       "    <tr>\n",
       "      <th>2</th>\n",
       "      <td>513</td>\n",
       "      <td>[(12173, 31), (3940, 35), (8980, 42), (5847, 4...</td>\n",
       "      <td>[(1916, 159)]</td>\n",
       "      <td>[15744, 922, 12119]</td>\n",
       "    </tr>\n",
       "    <tr>\n",
       "      <th>3</th>\n",
       "      <td>681</td>\n",
       "      <td>[(9728, 112), (4533, 116), (13789, 116), (1470...</td>\n",
       "      <td>[(7389, 154), (8617, 154)]</td>\n",
       "      <td>[15744, 922, 12119]</td>\n",
       "    </tr>\n",
       "    <tr>\n",
       "      <th>4</th>\n",
       "      <td>764</td>\n",
       "      <td>[(11115, 49), (15404, 49), (16361, 49), (12770...</td>\n",
       "      <td>[(4000, 159)]</td>\n",
       "      <td>[15744, 922, 12119]</td>\n",
       "    </tr>\n",
       "  </tbody>\n",
       "</table>\n",
       "</div>"
      ],
      "text/plain": [
       "   user_id                                 train_interactions  \\\n",
       "0       47  [(13361, 138), (13865, 138), (7401, 142), (129...   \n",
       "1      272                        [(12869, 40), (11310, 112)]   \n",
       "2      513  [(12173, 31), (3940, 35), (8980, 42), (5847, 4...   \n",
       "3      681  [(9728, 112), (4533, 116), (13789, 116), (1470...   \n",
       "4      764  [(11115, 49), (15404, 49), (16361, 49), (12770...   \n",
       "\n",
       "                                   test_interactions          random_recs  \n",
       "0                                     [(14488, 160)]  [15744, 922, 12119]  \n",
       "1  [(5398, 156), (9728, 156), (6561, 156), (15214...  [15744, 922, 12119]  \n",
       "2                                      [(1916, 159)]  [15744, 922, 12119]  \n",
       "3                         [(7389, 154), (8617, 154)]  [15744, 922, 12119]  \n",
       "4                                      [(4000, 159)]  [15744, 922, 12119]  "
      ]
     },
     "execution_count": 11,
     "metadata": {},
     "output_type": "execute_result"
    }
   ],
   "source": [
    "np.random.seed(777)\n",
    "\n",
    "class Random:\n",
    "\n",
    "    def __init__(self):\n",
    "\n",
    "        self.trained = False\n",
    "\n",
    "    def fit(self, df, col='train_interactions'):\n",
    "\n",
    "        items = set()\n",
    "        for _, row in df.iterrows():\n",
    "            for item, _ in row[col]:\n",
    "                items.add(item)\n",
    "\n",
    "        self.items = list(items)\n",
    "        self.trained = True\n",
    "\n",
    "    def predict(self, df, topn=10):\n",
    "        assert self.trained\n",
    "        return [np.random.choice(self.items, replace=False, size=topn)]*len(df)\n",
    "\n",
    "\n",
    "random = Random()\n",
    "random.fit(joined)\n",
    "\n",
    "joined['random_recs'] = random.predict(joined, topn=3)\n",
    "joined.head()"
   ]
  },
  {
   "cell_type": "markdown",
   "id": "30934f45-28dc-41d3-9263-e93ca0dabb1b",
   "metadata": {
    "id": "30934f45-28dc-41d3-9263-e93ca0dabb1b"
   },
   "source": [
    "**Задание №1. Метрики и бейзлайны**\n",
    "\n",
    "Добавьте реализацию метрик AP, RR, HR, их усреднённые версии по $U$ мы посчитаем ниже, если следовать коду с семинара, поэтому формулы немного отличаются. За имплементацию с циклами балл будет снижаться, векторизуйте! ( ͡° ͜ʖ ͡°)"
   ]
  },
  {
   "cell_type": "markdown",
   "id": "mgj_xY1Vc5b8",
   "metadata": {
    "id": "mgj_xY1Vc5b8"
   },
   "source": [
    "$$\n",
    "AP_u@k = \\frac{1}{\\min(k, n_u)} \\sum_{i=1}^k r_u(i) p_u@i\n",
    "$$\n",
    "$$\n",
    "p_u@k = \\dfrac{1}{k}\\sum_{j=1}^k r_u(j)\n",
    "$$\n",
    "$$\n",
    "RR@k = \\dfrac{1}{\\text{rank}_i@k}\n",
    "$$\n",
    "$$\n",
    "HR@k = [\\exists \\ y_i = 1 \\ \\text{among k preds}]\n",
    "$$\n",
    "\n",
    "\n",
    "*   $n_u$ - число айтемов, с которыми взаимодействовал юзер $u$\n",
    "*   $y_i$ - релевантно ли $i$-ое предсказание, $y_i \\in \\{0,1\\}$\n",
    "* $\\text{rank}_i@k$ - позиция первого релеваннтого айтема среди первых $k$ предсказаний\n",
    "* HR@k - среди первых $k$ предсказаний есть хотя бы одно релевантное\n",
    "\n",
    "Считайте, что если `topn` не задано, то берётся всегда $n_u$. "
   ]
  },
  {
   "cell_type": "code",
   "execution_count": 42,
   "id": "60c1459f-7341-416f-94c7-55f30253e217",
   "metadata": {
    "id": "60c1459f-7341-416f-94c7-55f30253e217",
    "tags": []
   },
   "outputs": [],
   "source": [
    "def ap_metric(\n",
    "    gt_items: List[int],\n",
    "    predictions: List[int],\n",
    "    topn: Optional[int]=None\n",
    "):\n",
    "    if topn is not None:\n",
    "        predictions = predictions[:topn]    \n",
    "    n_u = len(gt_items)\n",
    "    if n_u == 0:\n",
    "        return 0.0\n",
    "\n",
    "    relevant = np.isin(predictions, gt_items)\n",
    "    cumulative_relevant = np.cumsum(relevant)\n",
    "    p_u = cumulative_relevant / np.arange(1, len(predictions) + 1)\n",
    "    ap = (1 / min(len(predictions), n_u)) * np.sum(relevant[:len(predictions)] * p_u)\n",
    "\n",
    "    return ap\n",
    "\n",
    "def rr_metric(\n",
    "    gt_items: List[int],\n",
    "    predictions: List[int],\n",
    "    topn: Optional[int]=None\n",
    "):\n",
    "    predictions = np.array(predictions)\n",
    "\n",
    "    if topn is not None:\n",
    "        predictions = predictions[:topn]    \n",
    "    relevant_mask = np.isin(predictions, gt_items)    \n",
    "    first_relevant_index = np.where(relevant_mask)[0]\n",
    "    if first_relevant_index.size == 0:\n",
    "        return 0.0\n",
    "    \n",
    "    rank = first_relevant_index[0] + 1\n",
    "    return 1.0 / rank\n",
    "\n",
    "def hr_metric(\n",
    "    gt_items: List[int],\n",
    "    predictions: List[int],\n",
    "    topn: Optional[int]=None\n",
    "):\n",
    "    if topn is not None:\n",
    "        predictions = predictions[:topn]\n",
    "    hit = np.any(np.isin(predictions, gt_items))\n",
    "    return 1.0 if hit else 0.0\n"
   ]
  },
  {
   "cell_type": "markdown",
   "id": "k83GlXGhMt6P",
   "metadata": {
    "id": "k83GlXGhMt6P"
   },
   "source": [
    "Для вашего удобства в файле `metric_tests.py` есть тесты, но хардкодить их, разумеется, не стоит. "
   ]
  },
  {
   "cell_type": "code",
   "execution_count": 43,
   "id": "xtqG_ri3MSO2",
   "metadata": {
    "id": "xtqG_ri3MSO2",
    "tags": []
   },
   "outputs": [],
   "source": [
    "run_tests(ap_metric, rr_metric, hr_metric)"
   ]
  },
  {
   "cell_type": "markdown",
   "id": "di3dR9-mM34j",
   "metadata": {
    "id": "di3dR9-mM34j"
   },
   "source": [
    "В следующей ячейке код, который считает и усредняет метрики по юзерам. Он взят с семинара, при желании можно его тоже модифицировать, например, векторизовать. "
   ]
  },
  {
   "cell_type": "code",
   "execution_count": 44,
   "id": "YHz9p4SOg6eN",
   "metadata": {
    "id": "YHz9p4SOg6eN",
    "tags": []
   },
   "outputs": [],
   "source": [
    "def evaluate_recommender(df, model_preds, gt_col='test_interactions'):\n",
    "\n",
    "    metric_values = []\n",
    "\n",
    "    for idx, row in df.iterrows():\n",
    "        gt_items = [x[0] for x in row[gt_col]]\n",
    "        predictions = row[model_preds]\n",
    "\n",
    "        ap = ap_metric(gt_items, predictions)\n",
    "        rr = rr_metric(gt_items, predictions)\n",
    "        hr = hr_metric(gt_items, predictions)\n",
    "\n",
    "        metric_values.append((ap, rr, hr))\n",
    "\n",
    "    return {'map': np.mean([x[0] for x in metric_values]),\n",
    "            'mrr': np.mean([x[1] for x in metric_values]),\n",
    "            'hr': np.mean([x[2] for x in metric_values])}"
   ]
  },
  {
   "cell_type": "markdown",
   "id": "HHwUiR0BNOqB",
   "metadata": {
    "id": "HHwUiR0BNOqB"
   },
   "source": [
    "Если вы всё сделали правильно, рандомные предсказания должны дать хоть какое-то качество, но не очень большое."
   ]
  },
  {
   "cell_type": "code",
   "execution_count": 45,
   "id": "107b24e3-00d0-4466-be0f-3377d34c83a0",
   "metadata": {
    "id": "107b24e3-00d0-4466-be0f-3377d34c83a0",
    "tags": []
   },
   "outputs": [
    {
     "data": {
      "text/plain": [
       "{'map': 0.0, 'mrr': 0.0, 'hr': 0.0}"
      ]
     },
     "execution_count": 45,
     "metadata": {},
     "output_type": "execute_result"
    }
   ],
   "source": [
    "evaluate_recommender(joined, model_preds='random_recs')"
   ]
  },
  {
   "cell_type": "code",
   "execution_count": 46,
   "id": "ac8d261e-1b5f-4894-93db-eb9eb414bfd1",
   "metadata": {
    "colab": {
     "base_uri": "https://localhost:8080/",
     "height": 379
    },
    "id": "ac8d261e-1b5f-4894-93db-eb9eb414bfd1",
    "outputId": "808e1eec-48d3-40f8-809f-a51c3b3b7fd6",
    "tags": []
   },
   "outputs": [
    {
     "data": {
      "text/html": [
       "<div>\n",
       "<style scoped>\n",
       "    .dataframe tbody tr th:only-of-type {\n",
       "        vertical-align: middle;\n",
       "    }\n",
       "\n",
       "    .dataframe tbody tr th {\n",
       "        vertical-align: top;\n",
       "    }\n",
       "\n",
       "    .dataframe thead th {\n",
       "        text-align: right;\n",
       "    }\n",
       "</style>\n",
       "<table border=\"1\" class=\"dataframe\">\n",
       "  <thead>\n",
       "    <tr style=\"text-align: right;\">\n",
       "      <th></th>\n",
       "      <th>user_id</th>\n",
       "      <th>train_interactions</th>\n",
       "      <th>test_interactions</th>\n",
       "      <th>random_recs</th>\n",
       "      <th>toppopular_recs</th>\n",
       "    </tr>\n",
       "  </thead>\n",
       "  <tbody>\n",
       "    <tr>\n",
       "      <th>0</th>\n",
       "      <td>47</td>\n",
       "      <td>[(13361, 138), (13865, 138), (7401, 142), (129...</td>\n",
       "      <td>[(14488, 160)]</td>\n",
       "      <td>[15744, 922, 12119]</td>\n",
       "      <td>[10440, 15297, 9728, 13865, 3734, 4151, 4880, ...</td>\n",
       "    </tr>\n",
       "    <tr>\n",
       "      <th>1</th>\n",
       "      <td>272</td>\n",
       "      <td>[(12869, 40), (11310, 112)]</td>\n",
       "      <td>[(5398, 156), (9728, 156), (6561, 156), (15214...</td>\n",
       "      <td>[15744, 922, 12119]</td>\n",
       "      <td>[10440, 15297, 9728, 13865, 3734, 4151, 4880, ...</td>\n",
       "    </tr>\n",
       "    <tr>\n",
       "      <th>2</th>\n",
       "      <td>513</td>\n",
       "      <td>[(12173, 31), (3940, 35), (8980, 42), (5847, 4...</td>\n",
       "      <td>[(1916, 159)]</td>\n",
       "      <td>[15744, 922, 12119]</td>\n",
       "      <td>[10440, 15297, 9728, 13865, 3734, 4151, 4880, ...</td>\n",
       "    </tr>\n",
       "    <tr>\n",
       "      <th>3</th>\n",
       "      <td>681</td>\n",
       "      <td>[(9728, 112), (4533, 116), (13789, 116), (1470...</td>\n",
       "      <td>[(7389, 154), (8617, 154)]</td>\n",
       "      <td>[15744, 922, 12119]</td>\n",
       "      <td>[10440, 15297, 9728, 13865, 3734, 4151, 4880, ...</td>\n",
       "    </tr>\n",
       "    <tr>\n",
       "      <th>4</th>\n",
       "      <td>764</td>\n",
       "      <td>[(11115, 49), (15404, 49), (16361, 49), (12770...</td>\n",
       "      <td>[(4000, 159)]</td>\n",
       "      <td>[15744, 922, 12119]</td>\n",
       "      <td>[10440, 15297, 9728, 13865, 3734, 4151, 4880, ...</td>\n",
       "    </tr>\n",
       "  </tbody>\n",
       "</table>\n",
       "</div>"
      ],
      "text/plain": [
       "   user_id                                 train_interactions  \\\n",
       "0       47  [(13361, 138), (13865, 138), (7401, 142), (129...   \n",
       "1      272                        [(12869, 40), (11310, 112)]   \n",
       "2      513  [(12173, 31), (3940, 35), (8980, 42), (5847, 4...   \n",
       "3      681  [(9728, 112), (4533, 116), (13789, 116), (1470...   \n",
       "4      764  [(11115, 49), (15404, 49), (16361, 49), (12770...   \n",
       "\n",
       "                                   test_interactions          random_recs  \\\n",
       "0                                     [(14488, 160)]  [15744, 922, 12119]   \n",
       "1  [(5398, 156), (9728, 156), (6561, 156), (15214...  [15744, 922, 12119]   \n",
       "2                                      [(1916, 159)]  [15744, 922, 12119]   \n",
       "3                         [(7389, 154), (8617, 154)]  [15744, 922, 12119]   \n",
       "4                                      [(4000, 159)]  [15744, 922, 12119]   \n",
       "\n",
       "                                     toppopular_recs  \n",
       "0  [10440, 15297, 9728, 13865, 3734, 4151, 4880, ...  \n",
       "1  [10440, 15297, 9728, 13865, 3734, 4151, 4880, ...  \n",
       "2  [10440, 15297, 9728, 13865, 3734, 4151, 4880, ...  \n",
       "3  [10440, 15297, 9728, 13865, 3734, 4151, 4880, ...  \n",
       "4  [10440, 15297, 9728, 13865, 3734, 4151, 4880, ...  "
      ]
     },
     "execution_count": 46,
     "metadata": {},
     "output_type": "execute_result"
    }
   ],
   "source": [
    "class TopPopular:\n",
    "\n",
    "    def __init__(self):\n",
    "\n",
    "        self.trained = False\n",
    "\n",
    "    def fit(self, df, col='train_interactions'):\n",
    "\n",
    "        counts = {}\n",
    "        for _, row in df.iterrows():\n",
    "            for item, _ in row[col]:\n",
    "                if item in counts:\n",
    "                    counts[item] += 1\n",
    "                else:\n",
    "                    counts[item] = 1\n",
    "\n",
    "        counts = sorted(counts.items(), key=lambda x: x[1], reverse=True)\n",
    "\n",
    "        self.recommenations = [x[0] for x in counts]\n",
    "        self.trained = True\n",
    "\n",
    "    def predict(self, df, topn=10)  -> List[np.ndarray]:\n",
    "\n",
    "        assert self.trained\n",
    "        return [self.recommenations[:topn]]*len(df)\n",
    "\n",
    "\n",
    "toppop = TopPopular()\n",
    "toppop.fit(joined)\n",
    "\n",
    "joined['toppopular_recs'] = toppop.predict(joined)\n",
    "joined.head()"
   ]
  },
  {
   "cell_type": "markdown",
   "id": "U6Yovxc4NbdO",
   "metadata": {
    "id": "U6Yovxc4NbdO"
   },
   "source": [
    "Самые популярные предсказания должны показать более высокое качество."
   ]
  },
  {
   "cell_type": "code",
   "execution_count": 47,
   "id": "dfd3c545-53f8-46a4-89b9-4cf61475599a",
   "metadata": {
    "id": "dfd3c545-53f8-46a4-89b9-4cf61475599a",
    "tags": []
   },
   "outputs": [
    {
     "data": {
      "text/plain": [
       "{'map': 0.06666990641534391, 'mrr': 0.11944630952380954, 'hr': 0.2691}"
      ]
     },
     "execution_count": 47,
     "metadata": {},
     "output_type": "execute_result"
    }
   ],
   "source": [
    "evaluate_recommender(joined, model_preds='toppopular_recs')"
   ]
  },
  {
   "cell_type": "markdown",
   "id": "dcf7944e-962d-4206-8cfe-afa5162512b3",
   "metadata": {
    "id": "dcf7944e-962d-4206-8cfe-afa5162512b3"
   },
   "source": [
    "**Задание №2. Рекомендации в окне**\n",
    "\n",
    "Здесь необходимо переделать метод рекомендации по популярности так, что популярность считается только за какое-то более свежее временное окно. Под окном подразумевается какой-то временной промежуток, например, ближайший месяц. Соответственно, всё что за его пределами, не учитывается."
   ]
  },
  {
   "cell_type": "code",
   "execution_count": 72,
   "id": "4a01f209-5f6a-4643-9d1d-5fcec5598f28",
   "metadata": {
    "id": "4a01f209-5f6a-4643-9d1d-5fcec5598f28",
    "tags": []
   },
   "outputs": [
    {
     "data": {
      "text/html": [
       "<div>\n",
       "<style scoped>\n",
       "    .dataframe tbody tr th:only-of-type {\n",
       "        vertical-align: middle;\n",
       "    }\n",
       "\n",
       "    .dataframe tbody tr th {\n",
       "        vertical-align: top;\n",
       "    }\n",
       "\n",
       "    .dataframe thead th {\n",
       "        text-align: right;\n",
       "    }\n",
       "</style>\n",
       "<table border=\"1\" class=\"dataframe\">\n",
       "  <thead>\n",
       "    <tr style=\"text-align: right;\">\n",
       "      <th></th>\n",
       "      <th>user_id</th>\n",
       "      <th>train_interactions</th>\n",
       "      <th>test_interactions</th>\n",
       "      <th>random_recs</th>\n",
       "      <th>toppopular_recs</th>\n",
       "      <th>toppopularweighted_recs</th>\n",
       "    </tr>\n",
       "  </thead>\n",
       "  <tbody>\n",
       "    <tr>\n",
       "      <th>0</th>\n",
       "      <td>47</td>\n",
       "      <td>[(13361, 138), (13865, 138), (7401, 142), (129...</td>\n",
       "      <td>[(14488, 160)]</td>\n",
       "      <td>[15744, 922, 12119]</td>\n",
       "      <td>[10440, 15297, 9728, 13865, 3734, 4151, 4880, ...</td>\n",
       "      <td>[9728, 4151, 4880, 2657, 142, 7571, 9996, 7102...</td>\n",
       "    </tr>\n",
       "    <tr>\n",
       "      <th>1</th>\n",
       "      <td>272</td>\n",
       "      <td>[(12869, 40), (11310, 112)]</td>\n",
       "      <td>[(5398, 156), (9728, 156), (6561, 156), (15214...</td>\n",
       "      <td>[15744, 922, 12119]</td>\n",
       "      <td>[10440, 15297, 9728, 13865, 3734, 4151, 4880, ...</td>\n",
       "      <td>[9728, 4151, 4880, 2657, 142, 7571, 9996, 7102...</td>\n",
       "    </tr>\n",
       "    <tr>\n",
       "      <th>2</th>\n",
       "      <td>513</td>\n",
       "      <td>[(12173, 31), (3940, 35), (8980, 42), (5847, 4...</td>\n",
       "      <td>[(1916, 159)]</td>\n",
       "      <td>[15744, 922, 12119]</td>\n",
       "      <td>[10440, 15297, 9728, 13865, 3734, 4151, 4880, ...</td>\n",
       "      <td>[9728, 4151, 4880, 2657, 142, 7571, 9996, 7102...</td>\n",
       "    </tr>\n",
       "    <tr>\n",
       "      <th>3</th>\n",
       "      <td>681</td>\n",
       "      <td>[(9728, 112), (4533, 116), (13789, 116), (1470...</td>\n",
       "      <td>[(7389, 154), (8617, 154)]</td>\n",
       "      <td>[15744, 922, 12119]</td>\n",
       "      <td>[10440, 15297, 9728, 13865, 3734, 4151, 4880, ...</td>\n",
       "      <td>[9728, 4151, 4880, 2657, 142, 7571, 9996, 7102...</td>\n",
       "    </tr>\n",
       "    <tr>\n",
       "      <th>4</th>\n",
       "      <td>764</td>\n",
       "      <td>[(11115, 49), (15404, 49), (16361, 49), (12770...</td>\n",
       "      <td>[(4000, 159)]</td>\n",
       "      <td>[15744, 922, 12119]</td>\n",
       "      <td>[10440, 15297, 9728, 13865, 3734, 4151, 4880, ...</td>\n",
       "      <td>[9728, 4151, 4880, 2657, 142, 7571, 9996, 7102...</td>\n",
       "    </tr>\n",
       "  </tbody>\n",
       "</table>\n",
       "</div>"
      ],
      "text/plain": [
       "   user_id                                 train_interactions  \\\n",
       "0       47  [(13361, 138), (13865, 138), (7401, 142), (129...   \n",
       "1      272                        [(12869, 40), (11310, 112)]   \n",
       "2      513  [(12173, 31), (3940, 35), (8980, 42), (5847, 4...   \n",
       "3      681  [(9728, 112), (4533, 116), (13789, 116), (1470...   \n",
       "4      764  [(11115, 49), (15404, 49), (16361, 49), (12770...   \n",
       "\n",
       "                                   test_interactions          random_recs  \\\n",
       "0                                     [(14488, 160)]  [15744, 922, 12119]   \n",
       "1  [(5398, 156), (9728, 156), (6561, 156), (15214...  [15744, 922, 12119]   \n",
       "2                                      [(1916, 159)]  [15744, 922, 12119]   \n",
       "3                         [(7389, 154), (8617, 154)]  [15744, 922, 12119]   \n",
       "4                                      [(4000, 159)]  [15744, 922, 12119]   \n",
       "\n",
       "                                     toppopular_recs  \\\n",
       "0  [10440, 15297, 9728, 13865, 3734, 4151, 4880, ...   \n",
       "1  [10440, 15297, 9728, 13865, 3734, 4151, 4880, ...   \n",
       "2  [10440, 15297, 9728, 13865, 3734, 4151, 4880, ...   \n",
       "3  [10440, 15297, 9728, 13865, 3734, 4151, 4880, ...   \n",
       "4  [10440, 15297, 9728, 13865, 3734, 4151, 4880, ...   \n",
       "\n",
       "                             toppopularweighted_recs  \n",
       "0  [9728, 4151, 4880, 2657, 142, 7571, 9996, 7102...  \n",
       "1  [9728, 4151, 4880, 2657, 142, 7571, 9996, 7102...  \n",
       "2  [9728, 4151, 4880, 2657, 142, 7571, 9996, 7102...  \n",
       "3  [9728, 4151, 4880, 2657, 142, 7571, 9996, 7102...  \n",
       "4  [9728, 4151, 4880, 2657, 142, 7571, 9996, 7102...  "
      ]
     },
     "execution_count": 72,
     "metadata": {},
     "output_type": "execute_result"
    }
   ],
   "source": [
    "from collections import defaultdict\n",
    "\n",
    "class TopPopularWeighted(TopPopular):\n",
    "\n",
    "    def __init__(self, min_window=2):\n",
    "        super().__init__()\n",
    "        self.min_window = min_window\n",
    "        self.trained = False\n",
    "        self.recommenations = []\n",
    "        self.item_weights = defaultdict(int)\n",
    "\n",
    "\n",
    "    def fit(self, df, col='train_interactions'):\n",
    "        interaction_counts = df[col].apply(lambda x: len(x))\n",
    "        filtered_interactions = interaction_counts[interaction_counts >= self.min_window]\n",
    "        for _, row in df.iterrows():\n",
    "            items = row[col]  \n",
    "            weight = len(items) \n",
    "            for item, _ in items:\n",
    "                if item in filtered_interactions.index:\n",
    "                    self.item_weights[item] += weight \n",
    "        self.item_weights = dict(self.item_weights)\n",
    "        self.recommenations = sorted(self.item_weights.items(), key=lambda x: x[1], reverse=True)\n",
    "        self.trained = True\n",
    "\n",
    "    def predict(self, df, top_n=10):\n",
    "        assert self.trained\n",
    "        return [[item for item, weight in  self.recommenations[:top_n]]]*len(df)\n",
    "    \n",
    "toppopweighted = TopPopularWeighted()\n",
    "toppopweighted.fit(joined)\n",
    "\n",
    "joined['toppopularweighted_recs'] = toppopweighted.predict(joined)\n",
    "joined.head()"
   ]
  },
  {
   "cell_type": "markdown",
   "id": "YKmJId7cOWh6",
   "metadata": {
    "id": "YKmJId7cOWh6"
   },
   "source": [
    "Теперь постройте графики зависимости значений трёх метрик (AP@k, RR@k, HR@k) от размера окна. "
   ]
  },
  {
   "cell_type": "code",
   "execution_count": 73,
   "id": "7f9a80b8-2dcd-4ace-b78f-244b32839d4f",
   "metadata": {
    "tags": []
   },
   "outputs": [
    {
     "data": {
      "text/plain": [
       "{'map': 0.044243040028974556, 'mrr': 0.09051365079365079, 'hr': 0.1639}"
      ]
     },
     "execution_count": 73,
     "metadata": {},
     "output_type": "execute_result"
    }
   ],
   "source": [
    "evaluate_recommender(joined, model_preds='toppopularweighted_recs')"
   ]
  },
  {
   "cell_type": "code",
   "execution_count": 74,
   "id": "mdxBytDB8gkm",
   "metadata": {
    "id": "mdxBytDB8gkm",
    "tags": []
   },
   "outputs": [
    {
     "data": {
      "image/png": "[encoded data removed]",
      "text/plain": [
       "<Figure size 1200x600 with 1 Axes>"
      ]
     },
     "metadata": {},
     "output_type": "display_data"
    }
   ],
   "source": [
    "window_sizes = range(1, 21)\n",
    "ap_scores = []\n",
    "rr_scores = []\n",
    "hr_scores = []\n",
    "\n",
    "\n",
    "for window_size in window_sizes:    \n",
    "    toppopweighted = TopPopularWeighted(min_window=window_size)\n",
    "    toppopweighted.fit(joined)\n",
    "\n",
    "    joined['toppopularweighted_recs'] = toppopweighted.predict(joined)\n",
    "    \n",
    "    metrics = evaluate_recommender(joined, model_preds='toppopularweighted_recs')\n",
    "    \n",
    "    ap_scores.append(metrics['map'])\n",
    "    rr_scores.append(metrics['mrr'])\n",
    "    hr_scores.append(metrics['hr'])\n",
    "\n",
    "plt.figure(figsize=(12, 6))\n",
    "plt.plot(window_sizes, ap_scores, label='AP@k', marker='o')\n",
    "plt.plot(window_sizes, rr_scores, label='RR@k', marker='o')\n",
    "plt.plot(window_sizes, hr_scores, label='HR@k', marker='o')\n",
    "\n",
    "plt.title('Метрики в зависимости от размера окна')\n",
    "plt.xlabel('Размер окна k')\n",
    "plt.ylabel('Значение метрики')\n",
    "plt.xticks(window_sizes)\n",
    "plt.grid()\n",
    "plt.legend()\n",
    "plt.show()"
   ]
  },
  {
   "cell_type": "markdown",
   "id": "b_0ke9aD9nkO",
   "metadata": {
    "id": "b_0ke9aD9nkO"
   },
   "source": [
    "Подумайте и ответьте, как размер окна влияет на качество рекомендаций. Какое значение наилучшее, есть ли у этого разумное объяснение?\n",
    "\n",
    "**Ответ:** Окно должно работать с актуалоьностью пользовательского настроения. Если взять очень большое окно, то уже в модель могут попасть не актуальные данные. То есть надо брать разумно небольшое окно. На данном графике это 10"
   ]
  },
  {
   "cell_type": "markdown",
   "id": "1a112ae1-d5f3-4150-8df3-9155240a557a",
   "metadata": {
    "id": "1a112ae1-d5f3-4150-8df3-9155240a557a"
   },
   "source": [
    "**Задание №3. Метрики и k.**\n",
    "\n",
    "Постройте зависимость значений MAP@K, MRR@K, HR@K для метода рекомендации по популярности. Возьмите какие-нибудь k, например, от 1 до 100, переберите значения и покажите на линейном графике. "
   ]
  },
  {
   "cell_type": "code",
   "execution_count": 75,
   "id": "URxM6rRVP6Nu",
   "metadata": {
    "id": "URxM6rRVP6Nu",
    "tags": []
   },
   "outputs": [],
   "source": [
    "joined['toppopular_recs'] = toppop.predict(joined, topn=100)"
   ]
  },
  {
   "cell_type": "code",
   "execution_count": 79,
   "id": "f4687ead-a7fa-4407-83f2-17c465d80f67",
   "metadata": {
    "id": "f4687ead-a7fa-4407-83f2-17c465d80f67",
    "tags": []
   },
   "outputs": [
    {
     "data": {
      "image/png": "[encoded data removed]",
      "text/plain": [
       "<Figure size 1200x600 with 1 Axes>"
      ]
     },
     "metadata": {},
     "output_type": "display_data"
    }
   ],
   "source": [
    "ap_scores = []\n",
    "rr_scores = []\n",
    "hr_scores = []\n",
    "\n",
    "topns = range(1, 101)\n",
    "\n",
    "for top_n in topns:    \n",
    "\n",
    "    joined['toppopular_recs'] = toppop.predict(joined, topn=top_n)\n",
    "    \n",
    "    metrics = evaluate_recommender(joined, model_preds='toppopular_recs')\n",
    "    \n",
    "    ap_scores.append(metrics['map'])\n",
    "    rr_scores.append(metrics['mrr'])\n",
    "    hr_scores.append(metrics['hr'])\n",
    "\n",
    "plt.figure(figsize=(12, 6))\n",
    "plt.plot(topns, ap_scores, label='AP@k', marker='o')\n",
    "plt.plot(topns, rr_scores, label='RR@k', marker='o')\n",
    "plt.plot(topns, hr_scores, label='HR@k', marker='o')\n",
    "\n",
    "plt.title('Метрики в зависимости от topn')\n",
    "plt.xlabel('Размер topn')\n",
    "plt.ylabel('Значение метрики')\n",
    "plt.xticks(topns)\n",
    "plt.grid()\n",
    "plt.legend()\n",
    "plt.show()"
   ]
  },
  {
   "cell_type": "markdown",
   "id": "e5696df8-243a-42a0-9bf4-44aac7474dd7",
   "metadata": {
    "id": "e5696df8-243a-42a0-9bf4-44aac7474dd7"
   },
   "source": [
    "Хорошенько подумайте и ответьте на вопросы ниже.\n",
    "\n",
    "3.1 Какие из метрик являются монотонными функциями по top-K? Объясните, почему они являются монотонными? \\\n",
    "**Ответ:** RR, AP. MAP - занижается при увелечении top-K, в какой-то момент просто не может расти. RR - ожидает первый реливантый, логично, что при росте top-K не будет расти\n",
    "\n",
    "3.2 Объясните по каждой метрике, как можно интерпретировать ее график? То есть, что можно сказать про связь изменения метрики c возможными пользовательскими сценариями, например,скроллингом ленты новостей. \\\n",
    "**Ответ:** Хитрейт показывает, что чем дольше будет пользователь крутить, тем больше вероятнсоть, что ему понравится. AP - показывает интерес пользователя, что в какой-то момент из-за смешенности рекомендаций, не получится идеально долго попадать в интересы. Hitrate - просто показывает, когда попалась качественная рекомендация, с каой скоростью.\n",
    "\n",
    "3.3 Как вы думаете, почему графики выглядят именно так? Должны ли они возрастать/убывать, от чего это может зависеть? (Тут вам может помочь дополнительный анализ данных)\\\n",
    "**Ответ:** Так, как мы подбираем самые популярные (которые нравятся большинству), то графики вполне логичны. Какое-то время будут интересные рекомендации в топе, потом может отличатся сильно от вкусов пользователя."
   ]
  },
  {
   "cell_type": "markdown",
   "id": "ab1e75f8-c9bb-4d59-9d57-9934161aa4c7",
   "metadata": {
    "id": "ab1e75f8-c9bb-4d59-9d57-9934161aa4c7"
   },
   "source": [
    "**Задание №4. Интерпретация рейтингов**\n",
    "\n",
    "Возьмите названия фильмов/сериалов из `items.csv`, выделите 5 различных сценариев изменения популярности у фильмов, аргументируйте (например, графиком или статистикой) и проинтерпретируейте их (почему популярность для этого фильма меняется так). Обратите внимание, что надо найти именно разные паттерны изменения вероятностей. "
   ]
  },
  {
   "cell_type": "code",
   "execution_count": 83,
   "id": "59205c4a-1779-4678-a79e-f7b7548f6988",
   "metadata": {
    "colab": {
     "base_uri": "https://localhost:8080/",
     "height": 206
    },
    "id": "59205c4a-1779-4678-a79e-f7b7548f6988",
    "outputId": "4210096a-7b1e-432e-e29e-cc6f6bd7d3cc",
    "tags": []
   },
   "outputs": [
    {
     "data": {
      "text/html": [
       "<div>\n",
       "<style scoped>\n",
       "    .dataframe tbody tr th:only-of-type {\n",
       "        vertical-align: middle;\n",
       "    }\n",
       "\n",
       "    .dataframe tbody tr th {\n",
       "        vertical-align: top;\n",
       "    }\n",
       "\n",
       "    .dataframe thead th {\n",
       "        text-align: right;\n",
       "    }\n",
       "</style>\n",
       "<table border=\"1\" class=\"dataframe\">\n",
       "  <thead>\n",
       "    <tr style=\"text-align: right;\">\n",
       "      <th></th>\n",
       "      <th>item_id</th>\n",
       "      <th>title</th>\n",
       "    </tr>\n",
       "  </thead>\n",
       "  <tbody>\n",
       "    <tr>\n",
       "      <th>0</th>\n",
       "      <td>10711</td>\n",
       "      <td>Поговори с ней</td>\n",
       "    </tr>\n",
       "    <tr>\n",
       "      <th>1</th>\n",
       "      <td>2508</td>\n",
       "      <td>Голые перцы</td>\n",
       "    </tr>\n",
       "    <tr>\n",
       "      <th>2</th>\n",
       "      <td>10716</td>\n",
       "      <td>Тактическая сила</td>\n",
       "    </tr>\n",
       "    <tr>\n",
       "      <th>3</th>\n",
       "      <td>7868</td>\n",
       "      <td>45 лет</td>\n",
       "    </tr>\n",
       "    <tr>\n",
       "      <th>4</th>\n",
       "      <td>16268</td>\n",
       "      <td>Все решает мгновение</td>\n",
       "    </tr>\n",
       "  </tbody>\n",
       "</table>\n",
       "</div>"
      ],
      "text/plain": [
       "   item_id                 title\n",
       "0    10711        Поговори с ней\n",
       "1     2508           Голые перцы\n",
       "2    10716      Тактическая сила\n",
       "3     7868                45 лет\n",
       "4    16268  Все решает мгновение"
      ]
     },
     "execution_count": 83,
     "metadata": {},
     "output_type": "execute_result"
    }
   ],
   "source": [
    "items = pd.read_csv('data/items.csv')[['item_id','title']].copy()\n",
    "items.head()"
   ]
  },
  {
   "cell_type": "markdown",
   "id": "d5d18d06-ef56-45ef-a738-72150b094898",
   "metadata": {
    "id": "d5d18d06-ef56-45ef-a738-72150b094898"
   },
   "source": [
    "Пример:"
   ]
  },
  {
   "cell_type": "code",
   "execution_count": 84,
   "id": "bbf556fe-21d5-4210-b699-7090fa2fa178",
   "metadata": {
    "colab": {
     "base_uri": "https://localhost:8080/",
     "height": 465
    },
    "id": "bbf556fe-21d5-4210-b699-7090fa2fa178",
    "outputId": "eb2242ca-5bf9-4125-e597-cbc96412df4e",
    "tags": []
   },
   "outputs": [
    {
     "name": "stdout",
     "output_type": "stream",
     "text": [
      "1917\n"
     ]
    },
    {
     "data": {
      "text/plain": [
       "<Axes: >"
      ]
     },
     "execution_count": 84,
     "metadata": {},
     "output_type": "execute_result"
    },
    {
     "data": {
      "image/png": "[encoded data removed]",
      "text/plain": [
       "<Figure size 640x480 with 1 Axes>"
      ]
     },
     "metadata": {},
     "output_type": "display_data"
    }
   ],
   "source": [
    "popular_items = df.item_id.value_counts()[:300].index.tolist()\n",
    "sampled_id = np.random.choice(popular_items)\n",
    "\n",
    "# это для примера, хотя выцеплять случаи по одному может быть не лучшей идеей\n",
    "sampled_id = 3402\n",
    "\n",
    "interactions = df.loc[df.item_id==sampled_id].copy()\n",
    "name = items.loc[items.item_id==sampled_id].title.values[0]\n",
    "print(name)\n",
    "interactions.last_watch_dt.hist()"
   ]
  },
  {
   "cell_type": "markdown",
   "id": "bf72e854-0b21-4891-ba5c-acbca999c3f1",
   "metadata": {
    "id": "bf72e854-0b21-4891-ba5c-acbca999c3f1"
   },
   "source": [
    "Фильм 1917 какое-то время набирал популярность, потом видим резкое падение (кстати, с какой даты?). Возможно, это связано с ограничением доступности этого фильма для части пользователей, периодом проката фильма / рекламной кампании или другой причиной. "
   ]
  },
  {
   "cell_type": "markdown",
   "id": "eb5ae2d4-8ddc-4593-b7a2-2cb5e8276e16",
   "metadata": {
    "id": "eb5ae2d4-8ddc-4593-b7a2-2cb5e8276e16"
   },
   "source": [
    "Добавьте 5 своих примеров ниже. Опишите, как вы их искали. "
   ]
  },
  {
   "cell_type": "code",
   "execution_count": 90,
   "id": "0499caaa-79b8-4eba-abca-0086e14c6aa9",
   "metadata": {
    "tags": []
   },
   "outputs": [
    {
     "data": {
      "text/plain": [
       "[9728, 4495, 3784, 7582, 7310]"
      ]
     },
     "execution_count": 90,
     "metadata": {},
     "output_type": "execute_result"
    }
   ],
   "source": [
    "joined['toppopularweighted_recs'][0][:-5]"
   ]
  },
  {
   "cell_type": "code",
   "execution_count": 93,
   "id": "4144946a-39be-4049-b1f8-6f087d144bed",
   "metadata": {
    "id": "4144946a-39be-4049-b1f8-6f087d144bed",
    "tags": []
   },
   "outputs": [
    {
     "name": "stdout",
     "output_type": "stream",
     "text": [
      "Гнев человеческий\n"
     ]
    },
    {
     "data": {
      "text/plain": [
       "<Axes: >"
      ]
     },
     "execution_count": 93,
     "metadata": {},
     "output_type": "execute_result"
    },
    {
     "data": {
      "image/png": "[encoded data removed]",
      "text/plain": [
       "<Figure size 640x480 with 1 Axes>"
      ]
     },
     "metadata": {},
     "output_type": "display_data"
    }
   ],
   "source": [
    "sampled_id = 9728\n",
    "\n",
    "interactions = df.loc[df.item_id==sampled_id].copy()\n",
    "name = items.loc[items.item_id==sampled_id].title.values[0]\n",
    "print(name)\n",
    "interactions.last_watch_dt.hist()"
   ]
  },
  {
   "cell_type": "code",
   "execution_count": 94,
   "id": "0a4f1a1b-8401-4b73-95d9-79f64b46e4e3",
   "metadata": {
    "tags": []
   },
   "outputs": [
    {
     "name": "stdout",
     "output_type": "stream",
     "text": [
      "Пальмира\n"
     ]
    },
    {
     "data": {
      "text/plain": [
       "<Axes: >"
      ]
     },
     "execution_count": 94,
     "metadata": {},
     "output_type": "execute_result"
    },
    {
     "data": {
      "image/png": "[encoded data removed]",
      "text/plain": [
       "<Figure size 640x480 with 1 Axes>"
      ]
     },
     "metadata": {},
     "output_type": "display_data"
    }
   ],
   "source": [
    "sampled_id = 4495\n",
    "\n",
    "interactions = df.loc[df.item_id==sampled_id].copy()\n",
    "name = items.loc[items.item_id==sampled_id].title.values[0]\n",
    "print(name)\n",
    "interactions.last_watch_dt.hist()"
   ]
  },
  {
   "cell_type": "code",
   "execution_count": 95,
   "id": "a6fba181-55a1-4de6-921a-f9599f7130ee",
   "metadata": {
    "tags": []
   },
   "outputs": [
    {
     "name": "stdout",
     "output_type": "stream",
     "text": [
      "Маленький воин\n"
     ]
    },
    {
     "data": {
      "text/plain": [
       "<Axes: >"
      ]
     },
     "execution_count": 95,
     "metadata": {},
     "output_type": "execute_result"
    },
    {
     "data": {
      "image/png": "[encoded data removed]",
      "text/plain": [
       "<Figure size 640x480 with 1 Axes>"
      ]
     },
     "metadata": {},
     "output_type": "display_data"
    }
   ],
   "source": [
    "sampled_id = 3784\n",
    "\n",
    "interactions = df.loc[df.item_id==sampled_id].copy()\n",
    "name = items.loc[items.item_id==sampled_id].title.values[0]\n",
    "print(name)\n",
    "interactions.last_watch_dt.hist()"
   ]
  },
  {
   "cell_type": "code",
   "execution_count": 96,
   "id": "b12f691c-8dc0-4501-ab4e-7cbfb85450b0",
   "metadata": {
    "tags": []
   },
   "outputs": [
    {
     "name": "stdout",
     "output_type": "stream",
     "text": [
      "Холодное сердце II\n"
     ]
    },
    {
     "data": {
      "text/plain": [
       "<Axes: >"
      ]
     },
     "execution_count": 96,
     "metadata": {},
     "output_type": "execute_result"
    },
    {
     "data": {
      "image/png": "[encoded data removed]",
      "text/plain": [
       "<Figure size 640x480 with 1 Axes>"
      ]
     },
     "metadata": {},
     "output_type": "display_data"
    }
   ],
   "source": [
    "sampled_id = 7582\n",
    "\n",
    "interactions = df.loc[df.item_id==sampled_id].copy()\n",
    "name = items.loc[items.item_id==sampled_id].title.values[0]\n",
    "print(name)\n",
    "interactions.last_watch_dt.hist()"
   ]
  },
  {
   "cell_type": "code",
   "execution_count": 97,
   "id": "c0f7bb31-4a21-44ee-add3-2521c399e5a8",
   "metadata": {
    "tags": []
   },
   "outputs": [
    {
     "name": "stdout",
     "output_type": "stream",
     "text": [
      "Гадкий я 2\n"
     ]
    },
    {
     "data": {
      "text/plain": [
       "<Axes: >"
      ]
     },
     "execution_count": 97,
     "metadata": {},
     "output_type": "execute_result"
    },
    {
     "data": {
      "image/png": "[encoded data removed]",
      "text/plain": [
       "<Figure size 640x480 with 1 Axes>"
      ]
     },
     "metadata": {},
     "output_type": "display_data"
    }
   ],
   "source": [
    "sampled_id = 7310\n",
    "\n",
    "interactions = df.loc[df.item_id==sampled_id].copy()\n",
    "name = items.loc[items.item_id==sampled_id].title.values[0]\n",
    "print(name)\n",
    "interactions.last_watch_dt.hist()"
   ]
  },
  {
   "cell_type": "markdown",
   "id": "d6a44015-bf54-4540-90a2-cd38782f499a",
   "metadata": {
    "tags": []
   },
   "source": [
    "Привел 5 графиков, которые просто взял из популярных. И кстати, почти из них все отражают разный интерес публики.\n",
    "\n",
    "1. Гнев человеческий --- обладал очень сильной рекламой, и просто висел долго в топе на площадках. При этом виден постепенный рост популярности, так как фильм не супер-пупер блокбастер, и не сразу имел большой интерес у публики\n",
    "2. Пальмира --- видно из абсолютных чисел, что не совсем популярный фильм. Видимо просто посмотрели на выходе и забыли\n",
    "3. Маленький воин --- аналогично с Пальмирой\n",
    "4. Холодное сердце II --- премьера не была внутри сервиса. И просто набирал популярность, как мультик убивалка времени\n",
    "5. Гадкия я 2 --- также премьера была не на сервисе. И просто видимо показали пользователям, что он есть на сервисе. И все сразу стали включать детям."
   ]
  },
  {
   "cell_type": "markdown",
   "id": "7597d4c1-68c8-4187-92ee-79cb44a84de8",
   "metadata": {
    "id": "7597d4c1-68c8-4187-92ee-79cb44a84de8"
   },
   "source": [
    "**Задание №5. User-item encoding**\n",
    "\n",
    "Теперь, создайте матрицу интеракций user-item по примеру из семинара. Вам нужно в итоге получить разреженную матрицу (sparse matrix), в которой в качестве строк будут пользователи, в качестве колонок - айтемы. Не забудьте перекодировать пользователей и айтемы через энкодер. В отличие от семинара, оставьте в матрице только юзеров и айтемы, которые встречались в матрице > 4 раз."
   ]
  },
  {
   "cell_type": "markdown",
   "id": "4ee1dd61-2f92-420d-96ce-3185dd80cb81",
   "metadata": {
    "id": "4ee1dd61-2f92-420d-96ce-3185dd80cb81"
   },
   "source": [
    "Важно: когда вы отфильтруете юзеров на встречаемость > 4 раз, вы удалите какие-то айтемы, которые теперь станут встречаться меньше 5 раз. Поэтому у вас перестанет выполняться второе условие на минимальное число интеракций с айтемом. Тогда вам надо опять отфильтровать айтемы на встречаемость, но это снова может нарушить условие для юзеров. В таком случае, вам надо написать итеративный алгоритм до сходимости, пока требования не будут выполняться в обеих колонках. "
   ]
  },
  {
   "cell_type": "code",
   "execution_count": 104,
   "id": "1c4a5a4a-eabf-4145-b081-53881e5ce9c1",
   "metadata": {
    "id": "1c4a5a4a-eabf-4145-b081-53881e5ce9c1",
    "tags": []
   },
   "outputs": [],
   "source": [
    "def filter_column(df, min_freq):\n",
    "    \"\"\"\n",
    "    Filter dataframe, excluding least active users and least popular items.\n",
    "    Return a copy of the dataframe with at least min_freq entries\n",
    "    in both users and items.\n",
    "    \"\"\"\n",
    "    user_counts = df['user_id'].value_counts()\n",
    "    item_counts = df['item_id'].value_counts()\n",
    "    \n",
    "    active_users = user_counts[user_counts > min_freq].index\n",
    "    popular_items = item_counts[item_counts > min_freq].index\n",
    "    \n",
    "    filtered_df = df[(df['user_id'].isin(active_users)) & (df['item_id'].isin(popular_items))]\n",
    "    \n",
    "    return filtered_df\n",
    "\n",
    "def filter_dataframe(df, cols, min_freq=5):\n",
    "    \"\"\"\n",
    "    Filter dataframe by given columns until each of them satisfies\n",
    "    min_freq condition, guaranteed by filter_columns. Return a copy\n",
    "    of the dataframe.\n",
    "    \"\"\"\n",
    "    filtered_df = df.copy()\n",
    "    \n",
    "    while True:\n",
    "        new_filtered_df = filter_column(filtered_df, min_freq)\n",
    "        \n",
    "        if new_filtered_df.shape[0] == filtered_df.shape[0]:\n",
    "            break\n",
    "        \n",
    "        filtered_df = new_filtered_df\n",
    "    \n",
    "    return filtered_df\n"
   ]
  },
  {
   "cell_type": "code",
   "execution_count": 168,
   "id": "3d513df0-327d-4b49-a4ae-f28ac70ec9be",
   "metadata": {
    "tags": []
   },
   "outputs": [],
   "source": [
    "filtered_train = filter_dataframe(df, ['user_id', 'item_id'], min_freq=4)"
   ]
  },
  {
   "cell_type": "code",
   "execution_count": 169,
   "id": "a02c1fe8-2068-43d2-9851-edd67b5866c2",
   "metadata": {
    "colab": {
     "base_uri": "https://localhost:8080/",
     "height": 373
    },
    "id": "a02c1fe8-2068-43d2-9851-edd67b5866c2",
    "outputId": "0bcbad24-be0f-4b47-8d98-ea72f7ebe2e9",
    "tags": []
   },
   "outputs": [
    {
     "data": {
      "text/html": [
       "<div>\n",
       "<style scoped>\n",
       "    .dataframe tbody tr th:only-of-type {\n",
       "        vertical-align: middle;\n",
       "    }\n",
       "\n",
       "    .dataframe tbody tr th {\n",
       "        vertical-align: top;\n",
       "    }\n",
       "\n",
       "    .dataframe thead th {\n",
       "        text-align: right;\n",
       "    }\n",
       "</style>\n",
       "<table border=\"1\" class=\"dataframe\">\n",
       "  <thead>\n",
       "    <tr style=\"text-align: right;\">\n",
       "      <th></th>\n",
       "      <th>user_id</th>\n",
       "      <th>item_id</th>\n",
       "      <th>last_watch_dt</th>\n",
       "      <th>total_dur</th>\n",
       "      <th>watched_pct</th>\n",
       "    </tr>\n",
       "  </thead>\n",
       "  <tbody>\n",
       "    <tr>\n",
       "      <th>1274769</th>\n",
       "      <td>70603</td>\n",
       "      <td>1707</td>\n",
       "      <td>133</td>\n",
       "      <td>8</td>\n",
       "      <td>0.0</td>\n",
       "    </tr>\n",
       "    <tr>\n",
       "      <th>2081884</th>\n",
       "      <td>98118</td>\n",
       "      <td>88</td>\n",
       "      <td>111</td>\n",
       "      <td>5909</td>\n",
       "      <td>96.0</td>\n",
       "    </tr>\n",
       "    <tr>\n",
       "      <th>5195711</th>\n",
       "      <td>11026</td>\n",
       "      <td>1995</td>\n",
       "      <td>158</td>\n",
       "      <td>2910</td>\n",
       "      <td>45.0</td>\n",
       "    </tr>\n",
       "    <tr>\n",
       "      <th>3812345</th>\n",
       "      <td>204516</td>\n",
       "      <td>76</td>\n",
       "      <td>162</td>\n",
       "      <td>882</td>\n",
       "      <td>15.0</td>\n",
       "    </tr>\n",
       "    <tr>\n",
       "      <th>988033</th>\n",
       "      <td>48265</td>\n",
       "      <td>1019</td>\n",
       "      <td>87</td>\n",
       "      <td>444</td>\n",
       "      <td>8.0</td>\n",
       "    </tr>\n",
       "  </tbody>\n",
       "</table>\n",
       "</div>"
      ],
      "text/plain": [
       "         user_id  item_id  last_watch_dt  total_dur  watched_pct\n",
       "1274769    70603     1707            133          8          0.0\n",
       "2081884    98118       88            111       5909         96.0\n",
       "5195711    11026     1995            158       2910         45.0\n",
       "3812345   204516       76            162        882         15.0\n",
       "988033     48265     1019             87        444          8.0"
      ]
     },
     "execution_count": 169,
     "metadata": {},
     "output_type": "execute_result"
    }
   ],
   "source": [
    "def df_encode(df):\n",
    "    item2id = {k:v for v, k in enumerate(df.item_id.unique())}\n",
    "    user2id = {k:v for v, k in enumerate(df.user_id.unique())}\n",
    "\n",
    "    id2item = {k:v for v, k in item2id.items()}\n",
    "    id2user = {k:v for v, k in user2id.items()}\n",
    "\n",
    "    df['user_id'] = df.user_id.apply(lambda x: user2id[x])\n",
    "    df['item_id'] = df.item_id.apply(lambda x: item2id[x])\n",
    "    return df\n",
    "\n",
    "filtered_train = df_encode(filtered_train)\n",
    "filtered_train.sample(5)"
   ]
  },
  {
   "cell_type": "code",
   "execution_count": 170,
   "id": "7885eccf-c1ad-4341-a699-315ebdfc51ae",
   "metadata": {
    "tags": []
   },
   "outputs": [],
   "source": [
    "item2id = {k:v for v, k in enumerate(filtered_train.item_id.unique())}\n",
    "user2id = {k:v for v, k in enumerate(filtered_train.user_id.unique())}"
   ]
  },
  {
   "cell_type": "code",
   "execution_count": 171,
   "id": "d701834d-7bac-4b47-a57b-824f9fcaaa78",
   "metadata": {
    "tags": []
   },
   "outputs": [],
   "source": [
    "train_df_f = filtered_train"
   ]
  },
  {
   "cell_type": "code",
   "execution_count": 172,
   "id": "cb0760a7-5667-41a5-b47e-12f297ed3d1e",
   "metadata": {
    "colab": {
     "base_uri": "https://localhost:8080/"
    },
    "id": "cb0760a7-5667-41a5-b47e-12f297ed3d1e",
    "outputId": "678f4947-3a6f-4605-bfaf-8a352b2098ab",
    "tags": []
   },
   "outputs": [
    {
     "data": {
      "text/plain": [
       "<302205x10031 sparse matrix of type '<class 'numpy.float64'>'\n",
       "\twith 4278492 stored elements in COOrdinate format>"
      ]
     },
     "execution_count": 172,
     "metadata": {},
     "output_type": "execute_result"
    }
   ],
   "source": [
    "from scipy import sparse as sps\n",
    "\n",
    "matrix = sps.coo_matrix(\n",
    "    (np.ones(train_df_f.shape[0]), (train_df_f['user_id'], train_df_f['item_id'])),\n",
    "    shape=(len(user2id), len(item2id)),\n",
    ")\n",
    "matrix"
   ]
  },
  {
   "cell_type": "markdown",
   "id": "CsAJ72grYlLZ",
   "metadata": {
    "id": "CsAJ72grYlLZ"
   },
   "source": [
    "**Задание №6. Интеракции и частота**\n",
    "\n",
    "Постройте график зависимости количества айтемов и юзеров от значений (порогов) фильтров на встречаемость в матрице интеракций. То есть, нужно выполнить задание №5 для нескольких значений `min_freq` и построить график зависимости числа оставшихся айтемов и юзеров от этого параметра. "
   ]
  },
  {
   "cell_type": "code",
   "execution_count": 129,
   "id": "G-UH_tXBYm9p",
   "metadata": {
    "id": "G-UH_tXBYm9p",
    "tags": []
   },
   "outputs": [],
   "source": [
    "min_freq_values = range(1, 10)\n",
    "user_counts = []\n",
    "item_counts = []\n",
    "\n",
    "for i in range(1, 10):\n",
    "    filtered_train = filter_dataframe(df, ['user_id', 'item_id'], min_freq=i)\n",
    "    unique_users = filtered_train['user_id'].nunique()\n",
    "    unique_items = filtered_train['item_id'].nunique()    \n",
    "    user_counts.append(unique_users)\n",
    "    item_counts.append(unique_items)"
   ]
  },
  {
   "cell_type": "code",
   "execution_count": 132,
   "id": "0ec1366f-36db-402b-b48f-86ea8b9fac7c",
   "metadata": {
    "tags": []
   },
   "outputs": [
    {
     "data": {
      "image/png": "[encoded data removed]",
      "text/plain": [
       "<Figure size 1200x600 with 1 Axes>"
      ]
     },
     "metadata": {},
     "output_type": "display_data"
    }
   ],
   "source": [
    "plt.figure(figsize=(12, 6))\n",
    "plt.plot(min_freq_values, user_counts, marker='o', label='Количество пользователей')\n",
    "plt.plot(min_freq_values, item_counts, marker='v', label='Количество айтемов')\n",
    "\n",
    "plt.title('Количество пользователей и айтемов в зависимости от min_freq')\n",
    "plt.xlabel('min_freq')\n",
    "plt.ylabel('Количество')\n",
    "plt.xticks(min_freq_values)\n",
    "plt.legend()\n",
    "plt.grid()\n",
    "plt.yscale('log')\n",
    "plt.show()"
   ]
  },
  {
   "cell_type": "markdown",
   "id": "d388eb41-094d-4317-9ae6-391a5b014a92",
   "metadata": {
    "id": "d388eb41-094d-4317-9ae6-391a5b014a92"
   },
   "source": [
    "**Задание №7. EASE**\n",
    "\n",
    "Реализуйте EASE, постройте рекомендации для юзеров. Сравните все имплементированные ранее метрики качества с `TopPopular` для некоторого набора k. "
   ]
  },
  {
   "cell_type": "markdown",
   "id": "acccc267-038b-4029-ba63-38e875f87a67",
   "metadata": {
    "id": "acccc267-038b-4029-ba63-38e875f87a67"
   },
   "source": [
    "Реализацию можно взять из семинара. Можно реализовать по статье https://arxiv.org/pdf/1905.03375.pdf. Можно взять и адаптировать из RecBole https://github.com/RUCAIBox/RecBole."
   ]
  },
  {
   "cell_type": "code",
   "execution_count": 173,
   "id": "04e19a99-8797-45e7-ad48-44312f0839d4",
   "metadata": {
    "colab": {
     "base_uri": "https://localhost:8080/"
    },
    "id": "04e19a99-8797-45e7-ad48-44312f0839d4",
    "outputId": "83899393-f38f-4116-9431-8aaa00e09b29",
    "tags": []
   },
   "outputs": [
    {
     "name": "stdout",
     "output_type": "stream",
     "text": [
      "CPU times: user 1min 23s, sys: 3.23 s, total: 1min 26s\n",
      "Wall time: 14.6 s\n"
     ]
    }
   ],
   "source": [
    "%%time\n",
    "\n",
    "# Обучаем конечную модель\n",
    "# Мы взяли реализацию из RecBole\n",
    "#\n",
    "def fit_ease(X, reg_weight=100):\n",
    "    \n",
    " # gram matrix\n",
    "    G = X.T @ X\n",
    "\n",
    "    # add reg to diagonal\n",
    "    G += reg_weight * sps.identity(G.shape[0])\n",
    "\n",
    "    # convert to dense because inverse will be dense\n",
    "    G = G.todense()\n",
    "\n",
    "    # invert. this takes most of the time\n",
    "    P = np.linalg.inv(G)\n",
    "    B = P / (-np.diag(P))\n",
    "    # zero out diag\n",
    "    np.fill_diagonal(B, 0.)\n",
    "    \n",
    "    return B\n",
    "\n",
    "w = fit_ease(matrix)"
   ]
  },
  {
   "cell_type": "markdown",
   "id": "70d0d9db",
   "metadata": {},
   "source": [
    "Далее, вам надо реализовать функцию получения предсказаний. У вас есть обученная матрица весов, которую можно использовать для получения предсказаний. Для этого нужно построить вектор интеракций пользователя и умножить его на матрицу весов."
   ]
  },
  {
   "cell_type": "code",
   "execution_count": 195,
   "id": "ceabfecc-2a1d-4808-998e-404ed6b57592",
   "metadata": {
    "colab": {
     "base_uri": "https://localhost:8080/",
     "height": 833
    },
    "id": "ceabfecc-2a1d-4808-998e-404ed6b57592",
    "outputId": "67abc3e8-3430-477e-c030-01e55bc15448",
    "tags": []
   },
   "outputs": [
    {
     "data": {
      "text/html": [
       "<div>\n",
       "<style scoped>\n",
       "    .dataframe tbody tr th:only-of-type {\n",
       "        vertical-align: middle;\n",
       "    }\n",
       "\n",
       "    .dataframe tbody tr th {\n",
       "        vertical-align: top;\n",
       "    }\n",
       "\n",
       "    .dataframe thead th {\n",
       "        text-align: right;\n",
       "    }\n",
       "</style>\n",
       "<table border=\"1\" class=\"dataframe\">\n",
       "  <thead>\n",
       "    <tr style=\"text-align: right;\">\n",
       "      <th></th>\n",
       "      <th>user_id</th>\n",
       "      <th>train_interactions</th>\n",
       "      <th>test_interactions</th>\n",
       "      <th>random_recs</th>\n",
       "      <th>toppopular_recs</th>\n",
       "      <th>toppopularweighted_recs</th>\n",
       "      <th>ease_preds</th>\n",
       "    </tr>\n",
       "  </thead>\n",
       "  <tbody>\n",
       "    <tr>\n",
       "      <th>0</th>\n",
       "      <td>47</td>\n",
       "      <td>[(13361, 138), (13865, 138), (7401, 142), (129...</td>\n",
       "      <td>[(14488, 160)]</td>\n",
       "      <td>[15744, 922, 12119]</td>\n",
       "      <td>[10440, 15297, 9728, 13865, 3734, 4151, 4880, ...</td>\n",
       "      <td>[9728, 4495, 3784, 7582, 7310, 8447, 676, 734,...</td>\n",
       "      <td>[3400, 6642, 32, 952, 45, 146, 6089, 1415, 114...</td>\n",
       "    </tr>\n",
       "    <tr>\n",
       "      <th>1</th>\n",
       "      <td>272</td>\n",
       "      <td>[(12869, 40), (11310, 112)]</td>\n",
       "      <td>[(5398, 156), (9728, 156), (6561, 156), (15214...</td>\n",
       "      <td>[15744, 922, 12119]</td>\n",
       "      <td>[10440, 15297, 9728, 13865, 3734, 4151, 4880, ...</td>\n",
       "      <td>[9728, 4495, 3784, 7582, 7310, 8447, 676, 734,...</td>\n",
       "      <td>[0, 6683, 6684, 6685, 6686, 6687, 6688, 6689, ...</td>\n",
       "    </tr>\n",
       "    <tr>\n",
       "      <th>2</th>\n",
       "      <td>513</td>\n",
       "      <td>[(12173, 31), (3940, 35), (8980, 42), (5847, 4...</td>\n",
       "      <td>[(1916, 159)]</td>\n",
       "      <td>[15744, 922, 12119]</td>\n",
       "      <td>[10440, 15297, 9728, 13865, 3734, 4151, 4880, ...</td>\n",
       "      <td>[9728, 4495, 3784, 7582, 7310, 8447, 676, 734,...</td>\n",
       "      <td>[1133, 3896, 700, 4226, 519, 147, 212, 12, 171...</td>\n",
       "    </tr>\n",
       "    <tr>\n",
       "      <th>3</th>\n",
       "      <td>681</td>\n",
       "      <td>[(9728, 112), (4533, 116), (13789, 116), (1470...</td>\n",
       "      <td>[(7389, 154), (8617, 154)]</td>\n",
       "      <td>[15744, 922, 12119]</td>\n",
       "      <td>[10440, 15297, 9728, 13865, 3734, 4151, 4880, ...</td>\n",
       "      <td>[9728, 4495, 3784, 7582, 7310, 8447, 676, 734,...</td>\n",
       "      <td>[214, 868, 394, 790, 146, 26, 7, 518, 1588, 39...</td>\n",
       "    </tr>\n",
       "    <tr>\n",
       "      <th>4</th>\n",
       "      <td>764</td>\n",
       "      <td>[(11115, 49), (15404, 49), (16361, 49), (12770...</td>\n",
       "      <td>[(4000, 159)]</td>\n",
       "      <td>[15744, 922, 12119]</td>\n",
       "      <td>[10440, 15297, 9728, 13865, 3734, 4151, 4880, ...</td>\n",
       "      <td>[9728, 4495, 3784, 7582, 7310, 8447, 676, 734,...</td>\n",
       "      <td>[1143, 2867, 5780, 132, 1352, 209, 293, 474, 9...</td>\n",
       "    </tr>\n",
       "  </tbody>\n",
       "</table>\n",
       "</div>"
      ],
      "text/plain": [
       "   user_id                                 train_interactions  \\\n",
       "0       47  [(13361, 138), (13865, 138), (7401, 142), (129...   \n",
       "1      272                        [(12869, 40), (11310, 112)]   \n",
       "2      513  [(12173, 31), (3940, 35), (8980, 42), (5847, 4...   \n",
       "3      681  [(9728, 112), (4533, 116), (13789, 116), (1470...   \n",
       "4      764  [(11115, 49), (15404, 49), (16361, 49), (12770...   \n",
       "\n",
       "                                   test_interactions          random_recs  \\\n",
       "0                                     [(14488, 160)]  [15744, 922, 12119]   \n",
       "1  [(5398, 156), (9728, 156), (6561, 156), (15214...  [15744, 922, 12119]   \n",
       "2                                      [(1916, 159)]  [15744, 922, 12119]   \n",
       "3                         [(7389, 154), (8617, 154)]  [15744, 922, 12119]   \n",
       "4                                      [(4000, 159)]  [15744, 922, 12119]   \n",
       "\n",
       "                                     toppopular_recs  \\\n",
       "0  [10440, 15297, 9728, 13865, 3734, 4151, 4880, ...   \n",
       "1  [10440, 15297, 9728, 13865, 3734, 4151, 4880, ...   \n",
       "2  [10440, 15297, 9728, 13865, 3734, 4151, 4880, ...   \n",
       "3  [10440, 15297, 9728, 13865, 3734, 4151, 4880, ...   \n",
       "4  [10440, 15297, 9728, 13865, 3734, 4151, 4880, ...   \n",
       "\n",
       "                             toppopularweighted_recs  \\\n",
       "0  [9728, 4495, 3784, 7582, 7310, 8447, 676, 734,...   \n",
       "1  [9728, 4495, 3784, 7582, 7310, 8447, 676, 734,...   \n",
       "2  [9728, 4495, 3784, 7582, 7310, 8447, 676, 734,...   \n",
       "3  [9728, 4495, 3784, 7582, 7310, 8447, 676, 734,...   \n",
       "4  [9728, 4495, 3784, 7582, 7310, 8447, 676, 734,...   \n",
       "\n",
       "                                          ease_preds  \n",
       "0  [3400, 6642, 32, 952, 45, 146, 6089, 1415, 114...  \n",
       "1  [0, 6683, 6684, 6685, 6686, 6687, 6688, 6689, ...  \n",
       "2  [1133, 3896, 700, 4226, 519, 147, 212, 12, 171...  \n",
       "3  [214, 868, 394, 790, 146, 26, 7, 518, 1588, 39...  \n",
       "4  [1143, 2867, 5780, 132, 1352, 209, 293, 474, 9...  "
      ]
     },
     "execution_count": 195,
     "metadata": {},
     "output_type": "execute_result"
    }
   ],
   "source": [
    "def get_preds(x, item2id, id2item, ease_matrix, topk=100):\n",
    "\n",
    "    user_items = [t[0] for t in x]\n",
    "    encoded = [item2id[t] for t in user_items if t in item2id]\n",
    "\n",
    "    # Составляем вектор интеракций человека\n",
    "    vector = np.zeros(len(item2id))\n",
    "    vector[encoded] = 1\n",
    "\n",
    "    vector = sps.csr_matrix(vector)\n",
    "\n",
    "    preds = np.array(vector.dot(ease_matrix))[0]#.toarray()\n",
    "    preds[encoded==1] = -np.inf\n",
    "\n",
    "    ranks = np.argsort(-preds)\n",
    "    decoded = [id2item[t] for t in ranks][:topk]\n",
    "    \n",
    "    return decoded\n",
    "\n",
    "joined['ease_preds'] = joined.train_interactions.apply(lambda x: get_preds(x, item2id, id2item, w))\n",
    "joined.head()"
   ]
  },
  {
   "cell_type": "code",
   "execution_count": 199,
   "id": "979f3051-5348-4c1e-a21c-033d5cd3d6cd",
   "metadata": {
    "id": "979f3051-5348-4c1e-a21c-033d5cd3d6cd",
    "tags": []
   },
   "outputs": [
    {
     "data": {
      "text/plain": [
       "{'map': 0.00023040660447042258, 'mrr': 0.0007199000667789074, 'hr': 0.0143}"
      ]
     },
     "execution_count": 199,
     "metadata": {},
     "output_type": "execute_result"
    }
   ],
   "source": [
    "evaluate_recommender(joined, model_preds='ease_preds')"
   ]
  },
  {
   "cell_type": "markdown",
   "id": "24552dc3-4d5d-4e9c-bc16-691a3537e7d9",
   "metadata": {
    "id": "24552dc3-4d5d-4e9c-bc16-691a3537e7d9"
   },
   "source": [
    "Сделайте выводы — какой алгоритм работает лучше?\n",
    "\n",
    "**Ответ:** Почему-то лучше отработал алгоритм TopPopular. По всем метрикам лучше выступил("
   ]
  },
  {
   "cell_type": "markdown",
   "id": "9e2ecca7-92c2-4b1f-b5d3-4f9dd18a4632",
   "metadata": {
    "id": "9e2ecca7-92c2-4b1f-b5d3-4f9dd18a4632"
   },
   "source": [
    "**Задание №8. Тюнинг**\n",
    "\n",
    "Переберите различные значения гиперпараметра коэффициента регуляризации у EASE и постройте графики, как в задании №6. Постарайтесь \"затюнить\" EASE как можно лучше. Возьмите разумное число гиперпараметров - хотя бы штук 20 по логарифмической сетке, либо используйте более хитрые алгоритмы оптимизации. "
   ]
  },
  {
   "cell_type": "code",
   "execution_count": 197,
   "id": "e0837eb6-e81f-4543-b848-fdeacb7169ee",
   "metadata": {
    "id": "e0837eb6-e81f-4543-b848-fdeacb7169ee",
    "tags": []
   },
   "outputs": [],
   "source": [
    "reg_weights = np.logspace(1, 10, num=20, base=2)\n",
    "\n",
    "ap_scores = []\n",
    "rr_scores = []\n",
    "hr_scores = []\n",
    "\n",
    "for reg in reg_weights:\n",
    "    B = fit_ease(matrix, reg_weight=reg)\n",
    "    joined['ease_preds'] = joined.train_interactions.apply(lambda x: get_preds(x, item2id, id2item, B))\n",
    "\n",
    "    metrics = evaluate_recommender(joined, model_preds='ease_preds')\n",
    "    \n",
    "    ap_scores.append(metrics['map'])\n",
    "    rr_scores.append(metrics['mrr'])\n",
    "    hr_scores.append(metrics['hr'])"
   ]
  },
  {
   "cell_type": "code",
   "execution_count": 198,
   "id": "83af09eb-df92-4a54-9630-2fe2d3efd74f",
   "metadata": {
    "tags": []
   },
   "outputs": [
    {
     "data": {
      "image/png": "[encoded data removed]",
      "text/plain": [
       "<Figure size 1200x600 with 1 Axes>"
      ]
     },
     "metadata": {},
     "output_type": "display_data"
    }
   ],
   "source": [
    "plt.figure(figsize=(12, 6))\n",
    "plt.plot(reg_weights, ap_scores, label='AP@k', marker='o')\n",
    "plt.plot(reg_weights, rr_scores, label='RR@k', marker='v')\n",
    "plt.plot(reg_weights, hr_scores, label='HR@k', marker='>')\n",
    "\n",
    "plt.title('Метрики в зависимости от Reg')\n",
    "plt.xlabel('Размер REg')\n",
    "plt.ylabel('Значение метрики')\n",
    "plt.xticks(reg_weights)\n",
    "plt.xscale('log')\n",
    "plt.yscale('log')\n",
    "plt.grid()\n",
    "plt.legend()\n",
    "plt.show()"
   ]
  },
  {
   "cell_type": "markdown",
   "id": "891c9613-3f51-4186-bfa1-566d82d0628f",
   "metadata": {
    "id": "891c9613-3f51-4186-bfa1-566d82d0628f"
   },
   "source": [
    "Ответьте на следующие вопросы:\n",
    "\n",
    "8.1 Какое значение гиперпараметра является наилучшим? \n",
    "\n",
    "\n",
    "**Ответ:** 1000\n",
    "\n",
    "8.2 Что еще интересного вы можете сказать по графикам? Может быть, что-то свзяанное с распределением параметров, влиянием на отдельные метрики, скоростью тюнинга?\n",
    "\n",
    "**Ответ:** В какой-то момент метрики все становились лучше, но в определенный порог могли не просто перестать расти, но начать падать"
   ]
  },
  {
   "cell_type": "markdown",
   "id": "e38fcce4-b192-4faa-8ddf-8e8791f2c28b",
   "metadata": {
    "id": "e38fcce4-b192-4faa-8ddf-8e8791f2c28b"
   },
   "source": [
    "**Задание №9. EASE и topk**\n",
    "\n",
    "В лекции №2 говорилось, что качество у EASE растет с ослаблением фильтра на число айтемов. В этом задании постройте кривые метрик качества MAP/MRR/HR в зависимости от topk (например, от 1 до 100 с некоторым шагом), где кривая параметризована минимальным требуемым значением встречаемости user/item (из задания №6). Опишите свои выводы."
   ]
  },
  {
   "cell_type": "code",
   "execution_count": 190,
   "id": "0c3a309c-b420-4d7d-a46c-9a0011fd6f45",
   "metadata": {
    "tags": []
   },
   "outputs": [],
   "source": [
    "top_k_values = range(1, 101, 5)  \n",
    "ap_scores = []\n",
    "rr_scores = []\n",
    "hr_scores = []\n",
    "for top_k in top_k_values:\n",
    "    B = fit_ease(matrix, reg_weight=100)  \n",
    "\n",
    "    joined['ease_preds'] = joined.train_interactions.apply(lambda x: get_preds(x, item2id, id2item, B, top_k))\n",
    "    metrics = evaluate_recommender(joined, model_preds='ease_preds')\n",
    "    \n",
    "    ap_scores.append(metrics['map'])\n",
    "    rr_scores.append(metrics['mrr'])\n",
    "    hr_scores.append(metrics['hr'])"
   ]
  },
  {
   "cell_type": "code",
   "execution_count": 191,
   "id": "8d1fa5bd-9039-4274-81aa-e50a5a68cc35",
   "metadata": {
    "tags": []
   },
   "outputs": [
    {
     "data": {
      "image/png": "[encoded data removed]",
      "text/plain": [
       "<Figure size 1200x600 with 1 Axes>"
      ]
     },
     "metadata": {},
     "output_type": "display_data"
    }
   ],
   "source": [
    "plt.figure(figsize=(12, 6))\n",
    "plt.plot(reg_weights, ap_scores, label='AP@k', marker='o')\n",
    "plt.plot(reg_weights, rr_scores, label='RR@k', marker='v')\n",
    "plt.plot(reg_weights, hr_scores, label='HR@k', marker='>')\n",
    "\n",
    "plt.title('Метрики качества по top-k')\n",
    "plt.xlabel('Top-k')\n",
    "plt.ylabel('Значение метрик')\n",
    "plt.legend()\n",
    "plt.grid()\n",
    "plt.show()"
   ]
  },
  {
   "cell_type": "markdown",
   "id": "ca0be51b-5055-407d-8916-96d38cdabdb7",
   "metadata": {
    "id": "ca0be51b-5055-407d-8916-96d38cdabdb7"
   },
   "source": [
    "Важно: в этом задании линии могут быть мало различимыми, поэтому ваша задача для каждой метрики найти нужный масштаб на каких-то конкретных topk, чтобы линии стали визуально отличимы. "
   ]
  },
  {
   "cell_type": "markdown",
   "id": "fec3b4b8-e2e0-4722-9f33-08922afe9ac8",
   "metadata": {
    "id": "fec3b4b8-e2e0-4722-9f33-08922afe9ac8"
   },
   "source": [
    "Что вы можете сказать на основе полученных графиков? Соответствуют ли они вашим ожиданиям?\n",
    "\n",
    "**Ответ:** Да, в целом, как и в прошлом задании с аналогичным изменениями"
   ]
  },
  {
   "cell_type": "markdown",
   "id": "3448c27a-aadb-4c6a-b17a-84bd58761e67",
   "metadata": {
    "id": "3448c27a-aadb-4c6a-b17a-84bd58761e67"
   },
   "source": [
    "**Задание №10. Интерпретируемые рекомендации**\n",
    "\n",
    "Используйте выученную матрицу весов для item2item рекомендаций. Приведите 10 примеров топ-5 рекомендаций от EASE к сэмплируемым айтемам. Используйте названия фильмов вместо id при выводе рекомендаций. "
   ]
  },
  {
   "cell_type": "code",
   "execution_count": 239,
   "id": "76ba63d3-35f1-418d-ad00-10101d3cbb6f",
   "metadata": {
    "tags": []
   },
   "outputs": [
    {
     "data": {
      "text/plain": [
       "[12537, 12356, 12841, 2237, 5803, 6006, 14, 12623, 1399, 9070]"
      ]
     },
     "execution_count": 239,
     "metadata": {},
     "output_type": "execute_result"
    }
   ],
   "source": [
    "joined['toppopular_recs'][0][-10:]"
   ]
  },
  {
   "cell_type": "code",
   "execution_count": 240,
   "id": "b2e5708c-5afc-4ca1-9904-7a513ab11383",
   "metadata": {
    "tags": []
   },
   "outputs": [],
   "source": [
    "top_pop = [[i] for i in joined['toppopular_recs'][0][-10:]]"
   ]
  },
  {
   "cell_type": "code",
   "execution_count": 242,
   "id": "83946038-22e8-461f-8385-dd308a284825",
   "metadata": {
    "id": "83946038-22e8-461f-8385-dd308a284825",
    "tags": []
   },
   "outputs": [
    {
     "data": {
      "text/plain": [
       "[140, 246, 202, 22, 4340]"
      ]
     },
     "execution_count": 242,
     "metadata": {},
     "output_type": "execute_result"
    }
   ],
   "source": [
    "example_recommendations = get_preds(top_pop, item2id, id2item, w, topk=5)\n",
    "\n",
    "\n",
    "example_recommendations"
   ]
  },
  {
   "cell_type": "code",
   "execution_count": 241,
   "id": "24e00bcb-1cc7-4136-8af8-e776e9e16133",
   "metadata": {
    "tags": []
   },
   "outputs": [
    {
     "data": {
      "text/html": [
       "<div>\n",
       "<style scoped>\n",
       "    .dataframe tbody tr th:only-of-type {\n",
       "        vertical-align: middle;\n",
       "    }\n",
       "\n",
       "    .dataframe tbody tr th {\n",
       "        vertical-align: top;\n",
       "    }\n",
       "\n",
       "    .dataframe thead th {\n",
       "        text-align: right;\n",
       "    }\n",
       "</style>\n",
       "<table border=\"1\" class=\"dataframe\">\n",
       "  <thead>\n",
       "    <tr style=\"text-align: right;\">\n",
       "      <th></th>\n",
       "      <th>item_id</th>\n",
       "      <th>title</th>\n",
       "    </tr>\n",
       "  </thead>\n",
       "  <tbody>\n",
       "    <tr>\n",
       "      <th>1722</th>\n",
       "      <td>9070</td>\n",
       "      <td>Рассказы</td>\n",
       "    </tr>\n",
       "    <tr>\n",
       "      <th>2492</th>\n",
       "      <td>14</td>\n",
       "      <td>Жестокий Стамбул</td>\n",
       "    </tr>\n",
       "    <tr>\n",
       "      <th>2803</th>\n",
       "      <td>12841</td>\n",
       "      <td>Стражи Галактики</td>\n",
       "    </tr>\n",
       "    <tr>\n",
       "      <th>2836</th>\n",
       "      <td>6006</td>\n",
       "      <td>Кости</td>\n",
       "    </tr>\n",
       "    <tr>\n",
       "      <th>4123</th>\n",
       "      <td>12356</td>\n",
       "      <td>13 грехов</td>\n",
       "    </tr>\n",
       "    <tr>\n",
       "      <th>5781</th>\n",
       "      <td>12623</td>\n",
       "      <td>Пираты карибского моря: Проклятие чёрной жемчу...</td>\n",
       "    </tr>\n",
       "    <tr>\n",
       "      <th>8621</th>\n",
       "      <td>1399</td>\n",
       "      <td>Молодость</td>\n",
       "    </tr>\n",
       "    <tr>\n",
       "      <th>12398</th>\n",
       "      <td>5803</td>\n",
       "      <td>Джой</td>\n",
       "    </tr>\n",
       "    <tr>\n",
       "      <th>13674</th>\n",
       "      <td>12537</td>\n",
       "      <td>Поли</td>\n",
       "    </tr>\n",
       "    <tr>\n",
       "      <th>15922</th>\n",
       "      <td>2237</td>\n",
       "      <td>Код 8</td>\n",
       "    </tr>\n",
       "  </tbody>\n",
       "</table>\n",
       "</div>"
      ],
      "text/plain": [
       "       item_id                                              title\n",
       "1722      9070                                           Рассказы\n",
       "2492        14                                   Жестокий Стамбул\n",
       "2803     12841                                   Стражи Галактики\n",
       "2836      6006                                              Кости\n",
       "4123     12356                                          13 грехов\n",
       "5781     12623  Пираты карибского моря: Проклятие чёрной жемчу...\n",
       "8621      1399                                          Молодость\n",
       "12398     5803                                               Джой\n",
       "13674    12537                                               Поли\n",
       "15922     2237                                              Код 8"
      ]
     },
     "execution_count": 241,
     "metadata": {},
     "output_type": "execute_result"
    }
   ],
   "source": [
    "items.loc[(items.item_id.isin(joined['toppopular_recs'][0][-10:]))]"
   ]
  },
  {
   "cell_type": "code",
   "execution_count": 243,
   "id": "51b7e70b-d8f7-47b1-bdd6-1e17f7c81b8d",
   "metadata": {
    "tags": []
   },
   "outputs": [
    {
     "data": {
      "text/html": [
       "<div>\n",
       "<style scoped>\n",
       "    .dataframe tbody tr th:only-of-type {\n",
       "        vertical-align: middle;\n",
       "    }\n",
       "\n",
       "    .dataframe tbody tr th {\n",
       "        vertical-align: top;\n",
       "    }\n",
       "\n",
       "    .dataframe thead th {\n",
       "        text-align: right;\n",
       "    }\n",
       "</style>\n",
       "<table border=\"1\" class=\"dataframe\">\n",
       "  <thead>\n",
       "    <tr style=\"text-align: right;\">\n",
       "      <th></th>\n",
       "      <th>item_id</th>\n",
       "      <th>title</th>\n",
       "    </tr>\n",
       "  </thead>\n",
       "  <tbody>\n",
       "    <tr>\n",
       "      <th>1513</th>\n",
       "      <td>246</td>\n",
       "      <td>Обезьянки</td>\n",
       "    </tr>\n",
       "    <tr>\n",
       "      <th>5609</th>\n",
       "      <td>22</td>\n",
       "      <td>Андалузский пес</td>\n",
       "    </tr>\n",
       "    <tr>\n",
       "      <th>8402</th>\n",
       "      <td>202</td>\n",
       "      <td>Корпоратив</td>\n",
       "    </tr>\n",
       "    <tr>\n",
       "      <th>12061</th>\n",
       "      <td>4340</td>\n",
       "      <td>Интриганки</td>\n",
       "    </tr>\n",
       "    <tr>\n",
       "      <th>15294</th>\n",
       "      <td>140</td>\n",
       "      <td>Пришельцы в доме</td>\n",
       "    </tr>\n",
       "  </tbody>\n",
       "</table>\n",
       "</div>"
      ],
      "text/plain": [
       "       item_id             title\n",
       "1513       246         Обезьянки\n",
       "5609        22   Андалузский пес\n",
       "8402       202        Корпоратив\n",
       "12061     4340        Интриганки\n",
       "15294      140  Пришельцы в доме"
      ]
     },
     "execution_count": 243,
     "metadata": {},
     "output_type": "execute_result"
    }
   ],
   "source": [
    "items.loc[(items.item_id.isin(example_recommendations))]"
   ]
  },
  {
   "cell_type": "markdown",
   "id": "8fed8a63-c95d-458b-b437-2856927c85bb",
   "metadata": {
    "id": "8fed8a63-c95d-458b-b437-2856927c85bb"
   },
   "source": [
    "Хорошие ли получились рекомендации? Почему? Есть ли хорошие примеры? Есть ли плохие? Почему бывают плохие примеры?\n",
    "\n",
    "**Ответ:** получились рекомендаци: да. Почему: они есть, значит получились. Хороший пример: Обезьянки (хороший мультик), но в качестве рекомендации страно. Я бы сказал все плохие"
   ]
  },
  {
   "cell_type": "code",
   "execution_count": null,
   "id": "4e8dd4fd-1e69-4a9f-8a3d-fb1a215f9ff4",
   "metadata": {},
   "outputs": [],
   "source": []
  }
 ],
 "metadata": {
  "colab": {
   "provenance": []
  },
  "kernelspec": {
   "display_name": "Python 3 (ipykernel)",
   "language": "python",
   "name": "python3"
  },
  "language_info": {
   "codemirror_mode": {
    "name": "ipython",
    "version": 3
   },
   "file_extension": ".py",
   "mimetype": "text/x-python",
   "name": "python",
   "nbconvert_exporter": "python",
   "pygments_lexer": "ipython3",
   "version": "3.11.4"
  },
  "widgets": {
   "application/vnd.jupyter.widget-state+json": {
    "state": {},
    "version_major": 2,
    "version_minor": 0
   }
  }
 },
 "nbformat": 4,
 "nbformat_minor": 5
}
