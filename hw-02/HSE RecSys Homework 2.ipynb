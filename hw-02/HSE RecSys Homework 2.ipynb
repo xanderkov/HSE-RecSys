{
 "cells": [
  {
   "cell_type": "markdown",
   "id": "93831896-683d-4946-8cae-7aff56608a65",
   "metadata": {},
   "source": [
    "## ДЗ №2. Матричные факторизации"
   ]
  },
  {
   "cell_type": "markdown",
   "id": "03b424ec-3791-4113-a672-25ef7cfa704d",
   "metadata": {},
   "source": [
    "#### В этой домашке вам предстоит реализовать некоторые базовые модели матричной факторизации\n",
    "\n",
    "#### Дата выдачи: 17.02.25\n",
    "\n",
    "#### Мягкий дедлайн: 02.03.25 23:59 MSK\n",
    "\n",
    "#### Жесткий дедлайн: 09.03.25 23:59 MSK"
   ]
  },
  {
   "cell_type": "markdown",
   "id": "d8f4b315-75b8-4225-953c-5510c584ff2b",
   "metadata": {},
   "source": [
    "В этом задании мы будем работать с классическим для рекоендательных систем датасетом [MovieLens 1M](https://grouplens.org/datasets/movielens/1m/). Датасет содержит рейтинги оценки для 4000 фильмов от 6000 пользователей. Более подробное описание можете найти на странице с датасетом и в README файле"
   ]
  },
  {
   "cell_type": "code",
   "id": "f5a85f84-4854-4249-963d-143d08bb7e36",
   "metadata": {
    "ExecuteTime": {
     "end_time": "2025-02-27T18:16:24.202805Z",
     "start_time": "2025-02-27T18:16:21.775237Z"
    }
   },
   "source": [
    "!wget https://files.grouplens.org/datasets/movielens/ml-1m.zip\n",
    "!unzip ml-1m.zip\n",
    "!cat ml-1m/README"
   ],
   "outputs": [
    {
     "name": "stdout",
     "output_type": "stream",
     "text": [
      "--2025-02-27 21:16:21--  https://files.grouplens.org/datasets/movielens/ml-1m.zip\r\n",
      "Resolving files.grouplens.org (files.grouplens.org)... 128.101.65.152\r\n",
      "Connecting to files.grouplens.org (files.grouplens.org)|128.101.65.152|:443... connected.\r\n",
      "HTTP request sent, awaiting response... 200 OK\r\n",
      "Length: 5917549 (5.6M) [application/zip]\r\n",
      "Saving to: ‘ml-1m.zip.2’\r\n",
      "\r\n",
      "ml-1m.zip.2         100%[===================>]   5.64M  4.28MB/s    in 1.3s    \r\n",
      "\r\n",
      "2025-02-27 21:16:23 (4.28 MB/s) - ‘ml-1m.zip.2’ saved [5917549/5917549]\r\n",
      "\r\n",
      "Archive:  ml-1m.zip\r\n",
      "   creating: ml-1m/\r\n",
      "  inflating: ml-1m/movies.dat        \r\n",
      "  inflating: ml-1m/ratings.dat       \r\n",
      "  inflating: ml-1m/README            \r\n",
      "  inflating: ml-1m/users.dat         \r\n",
      "SUMMARY\r\n",
      "================================================================================\r\n",
      "\r\n",
      "These files contain 1,000,209 anonymous ratings of approximately 3,900 movies \r\n",
      "made by 6,040 MovieLens users who joined MovieLens in 2000.\r\n",
      "\r\n",
      "USAGE LICENSE\r\n",
      "================================================================================\r\n",
      "\r\n",
      "Neither the University of Minnesota nor any of the researchers\r\n",
      "involved can guarantee the correctness of the data, its suitability\r\n",
      "for any particular purpose, or the validity of results based on the\r\n",
      "use of the data set.  The data set may be used for any research\r\n",
      "purposes under the following conditions:\r\n",
      "\r\n",
      "     * The user may not state or imply any endorsement from the\r\n",
      "       University of Minnesota or the GroupLens Research Group.\r\n",
      "\r\n",
      "     * The user must acknowledge the use of the data set in\r\n",
      "       publications resulting from the use of the data set\r\n",
      "       (see below for citation information).\r\n",
      "\r\n",
      "     * The user may not redistribute the data without separate\r\n",
      "       permission.\r\n",
      "\r\n",
      "     * The user may not use this information for any commercial or\r\n",
      "       revenue-bearing purposes without first obtaining permission\r\n",
      "       from a faculty member of the GroupLens Research Project at the\r\n",
      "       University of Minnesota.\r\n",
      "\r\n",
      "If you have any further questions or comments, please contact GroupLens\r\n",
      "<grouplens-info@cs.umn.edu>. \r\n",
      "\r\n",
      "CITATION\r\n",
      "================================================================================\r\n",
      "\r\n",
      "To acknowledge use of the dataset in publications, please cite the following\r\n",
      "paper:\r\n",
      "\r\n",
      "F. Maxwell Harper and Joseph A. Konstan. 2015. The MovieLens Datasets: History\r\n",
      "and Context. ACM Transactions on Interactive Intelligent Systems (TiiS) 5, 4,\r\n",
      "Article 19 (December 2015), 19 pages. DOI=http://dx.doi.org/10.1145/2827872\r\n",
      "\r\n",
      "\r\n",
      "ACKNOWLEDGEMENTS\r\n",
      "================================================================================\r\n",
      "\r\n",
      "Thanks to Shyong Lam and Jon Herlocker for cleaning up and generating the data\r\n",
      "set.\r\n",
      "\r\n",
      "FURTHER INFORMATION ABOUT THE GROUPLENS RESEARCH PROJECT\r\n",
      "================================================================================\r\n",
      "\r\n",
      "The GroupLens Research Project is a research group in the Department of \r\n",
      "Computer Science and Engineering at the University of Minnesota. Members of \r\n",
      "the GroupLens Research Project are involved in many research projects related \r\n",
      "to the fields of information filtering, collaborative filtering, and \r\n",
      "recommender systems. The project is lead by professors John Riedl and Joseph \r\n",
      "Konstan. The project began to explore automated collaborative filtering in \r\n",
      "1992, but is most well known for its world wide trial of an automated \r\n",
      "collaborative filtering system for Usenet news in 1996. Since then the project \r\n",
      "has expanded its scope to research overall information filtering solutions, \r\n",
      "integrating in content-based methods as well as improving current collaborative \r\n",
      "filtering technology.\r\n",
      "\r\n",
      "Further information on the GroupLens Research project, including research \r\n",
      "publications, can be found at the following web site:\r\n",
      "        \r\n",
      "        http://www.grouplens.org/\r\n",
      "\r\n",
      "GroupLens Research currently operates a movie recommender based on \r\n",
      "collaborative filtering:\r\n",
      "\r\n",
      "        http://www.movielens.org/\r\n",
      "\r\n",
      "RATINGS FILE DESCRIPTION\r\n",
      "================================================================================\r\n",
      "\r\n",
      "All ratings are contained in the file \"ratings.dat\" and are in the\r\n",
      "following format:\r\n",
      "\r\n",
      "UserID::MovieID::Rating::Timestamp\r\n",
      "\r\n",
      "- UserIDs range between 1 and 6040 \r\n",
      "- MovieIDs range between 1 and 3952\r\n",
      "- Ratings are made on a 5-star scale (whole-star ratings only)\r\n",
      "- Timestamp is represented in seconds since the epoch as returned by time(2)\r\n",
      "- Each user has at least 20 ratings\r\n",
      "\r\n",
      "USERS FILE DESCRIPTION\r\n",
      "================================================================================\r\n",
      "\r\n",
      "User information is in the file \"users.dat\" and is in the following\r\n",
      "format:\r\n",
      "\r\n",
      "UserID::Gender::Age::Occupation::Zip-code\r\n",
      "\r\n",
      "All demographic information is provided voluntarily by the users and is\r\n",
      "not checked for accuracy.  Only users who have provided some demographic\r\n",
      "information are included in this data set.\r\n",
      "\r\n",
      "- Gender is denoted by a \"M\" for male and \"F\" for female\r\n",
      "- Age is chosen from the following ranges:\r\n",
      "\r\n",
      "\t*  1:  \"Under 18\"\r\n",
      "\t* 18:  \"18-24\"\r\n",
      "\t* 25:  \"25-34\"\r\n",
      "\t* 35:  \"35-44\"\r\n",
      "\t* 45:  \"45-49\"\r\n",
      "\t* 50:  \"50-55\"\r\n",
      "\t* 56:  \"56+\"\r\n",
      "\r\n",
      "- Occupation is chosen from the following choices:\r\n",
      "\r\n",
      "\t*  0:  \"other\" or not specified\r\n",
      "\t*  1:  \"academic/educator\"\r\n",
      "\t*  2:  \"artist\"\r\n",
      "\t*  3:  \"clerical/admin\"\r\n",
      "\t*  4:  \"college/grad student\"\r\n",
      "\t*  5:  \"customer service\"\r\n",
      "\t*  6:  \"doctor/health care\"\r\n",
      "\t*  7:  \"executive/managerial\"\r\n",
      "\t*  8:  \"farmer\"\r\n",
      "\t*  9:  \"homemaker\"\r\n",
      "\t* 10:  \"K-12 student\"\r\n",
      "\t* 11:  \"lawyer\"\r\n",
      "\t* 12:  \"programmer\"\r\n",
      "\t* 13:  \"retired\"\r\n",
      "\t* 14:  \"sales/marketing\"\r\n",
      "\t* 15:  \"scientist\"\r\n",
      "\t* 16:  \"self-employed\"\r\n",
      "\t* 17:  \"technician/engineer\"\r\n",
      "\t* 18:  \"tradesman/craftsman\"\r\n",
      "\t* 19:  \"unemployed\"\r\n",
      "\t* 20:  \"writer\"\r\n",
      "\r\n",
      "MOVIES FILE DESCRIPTION\r\n",
      "================================================================================\r\n",
      "\r\n",
      "Movie information is in the file \"movies.dat\" and is in the following\r\n",
      "format:\r\n",
      "\r\n",
      "MovieID::Title::Genres\r\n",
      "\r\n",
      "- Titles are identical to titles provided by the IMDB (including\r\n",
      "year of release)\r\n",
      "- Genres are pipe-separated and are selected from the following genres:\r\n",
      "\r\n",
      "\t* Action\r\n",
      "\t* Adventure\r\n",
      "\t* Animation\r\n",
      "\t* Children's\r\n",
      "\t* Comedy\r\n",
      "\t* Crime\r\n",
      "\t* Documentary\r\n",
      "\t* Drama\r\n",
      "\t* Fantasy\r\n",
      "\t* Film-Noir\r\n",
      "\t* Horror\r\n",
      "\t* Musical\r\n",
      "\t* Mystery\r\n",
      "\t* Romance\r\n",
      "\t* Sci-Fi\r\n",
      "\t* Thriller\r\n",
      "\t* War\r\n",
      "\t* Western\r\n",
      "\r\n",
      "- Some MovieIDs do not correspond to a movie due to accidental duplicate\r\n",
      "entries and/or test entries\r\n",
      "- Movies are mostly entered by hand, so errors and inconsistencies may exist\r\n"
     ]
    }
   ],
   "execution_count": 87
  },
  {
   "cell_type": "code",
   "id": "669137ca-f0f9-48d4-ae04-e42a4b0f8d14",
   "metadata": {
    "ExecuteTime": {
     "end_time": "2025-03-01T19:01:36.835527Z",
     "start_time": "2025-03-01T19:01:36.578958Z"
    }
   },
   "source": [
    "import pandas as pd\n",
    "import numpy as np\n",
    "from typing import Union"
   ],
   "outputs": [],
   "execution_count": 1
  },
  {
   "cell_type": "code",
   "id": "ed65b0ae-ce2d-437a-9739-e7981011089f",
   "metadata": {
    "ExecuteTime": {
     "end_time": "2025-03-01T19:01:39.077242Z",
     "start_time": "2025-03-01T19:01:36.838122Z"
    }
   },
   "source": [
    "df = pd.read_csv(\"ml-1m/ratings.dat\", sep='::', names=['user_id', 'item_id', 'rating', 'timestamp'], engine='python')\n",
    "df['datetime'] = pd.to_datetime(df['timestamp'], unit='s')\n",
    "df.drop('timestamp', axis=1, inplace=True)\n",
    "df.head()"
   ],
   "outputs": [
    {
     "data": {
      "text/plain": [
       "   user_id  item_id  rating            datetime\n",
       "0        1     1193       5 2000-12-31 22:12:40\n",
       "1        1      661       3 2000-12-31 22:35:09\n",
       "2        1      914       3 2000-12-31 22:32:48\n",
       "3        1     3408       4 2000-12-31 22:04:35\n",
       "4        1     2355       5 2001-01-06 23:38:11"
      ],
      "text/html": [
       "<div>\n",
       "<style scoped>\n",
       "    .dataframe tbody tr th:only-of-type {\n",
       "        vertical-align: middle;\n",
       "    }\n",
       "\n",
       "    .dataframe tbody tr th {\n",
       "        vertical-align: top;\n",
       "    }\n",
       "\n",
       "    .dataframe thead th {\n",
       "        text-align: right;\n",
       "    }\n",
       "</style>\n",
       "<table border=\"1\" class=\"dataframe\">\n",
       "  <thead>\n",
       "    <tr style=\"text-align: right;\">\n",
       "      <th></th>\n",
       "      <th>user_id</th>\n",
       "      <th>item_id</th>\n",
       "      <th>rating</th>\n",
       "      <th>datetime</th>\n",
       "    </tr>\n",
       "  </thead>\n",
       "  <tbody>\n",
       "    <tr>\n",
       "      <th>0</th>\n",
       "      <td>1</td>\n",
       "      <td>1193</td>\n",
       "      <td>5</td>\n",
       "      <td>2000-12-31 22:12:40</td>\n",
       "    </tr>\n",
       "    <tr>\n",
       "      <th>1</th>\n",
       "      <td>1</td>\n",
       "      <td>661</td>\n",
       "      <td>3</td>\n",
       "      <td>2000-12-31 22:35:09</td>\n",
       "    </tr>\n",
       "    <tr>\n",
       "      <th>2</th>\n",
       "      <td>1</td>\n",
       "      <td>914</td>\n",
       "      <td>3</td>\n",
       "      <td>2000-12-31 22:32:48</td>\n",
       "    </tr>\n",
       "    <tr>\n",
       "      <th>3</th>\n",
       "      <td>1</td>\n",
       "      <td>3408</td>\n",
       "      <td>4</td>\n",
       "      <td>2000-12-31 22:04:35</td>\n",
       "    </tr>\n",
       "    <tr>\n",
       "      <th>4</th>\n",
       "      <td>1</td>\n",
       "      <td>2355</td>\n",
       "      <td>5</td>\n",
       "      <td>2001-01-06 23:38:11</td>\n",
       "    </tr>\n",
       "  </tbody>\n",
       "</table>\n",
       "</div>"
      ]
     },
     "execution_count": 2,
     "metadata": {},
     "output_type": "execute_result"
    }
   ],
   "execution_count": 2
  },
  {
   "cell_type": "code",
   "id": "4988d476-542e-4a32-9c45-7a16bc2a5db5",
   "metadata": {
    "ExecuteTime": {
     "end_time": "2025-03-01T19:01:39.105694Z",
     "start_time": "2025-03-01T19:01:39.078368Z"
    }
   },
   "source": [
    "value_counts = df['item_id'].value_counts()\n",
    "filtered_values = value_counts[value_counts > 20].index\n",
    "df = df[df['item_id'].isin(filtered_values)].copy()"
   ],
   "outputs": [],
   "execution_count": 3
  },
  {
   "cell_type": "code",
   "id": "1e05bd3b-ab2f-4c02-9a97-a4153e9550bc",
   "metadata": {
    "ExecuteTime": {
     "end_time": "2025-03-01T19:01:39.130857Z",
     "start_time": "2025-03-01T19:01:39.106746Z"
    }
   },
   "source": [
    "train_end = '2000-12-01'\n",
    "df_train = df[df['datetime'] < train_end].copy()\n",
    "df_test = df[df['datetime'] >= train_end].copy()\n",
    "df_train.shape, df_test.shape"
   ],
   "outputs": [
    {
     "data": {
      "text/plain": [
       "((787420, 4), (207432, 4))"
      ]
     },
     "execution_count": 4,
     "metadata": {},
     "output_type": "execute_result"
    }
   ],
   "execution_count": 4
  },
  {
   "cell_type": "code",
   "id": "414b8ed7-20d6-4778-9d60-f9c8ccbfa7e3",
   "metadata": {
    "ExecuteTime": {
     "end_time": "2025-03-01T19:01:39.145107Z",
     "start_time": "2025-03-01T19:01:39.132086Z"
    }
   },
   "source": [
    "train_users = df_train['user_id'].unique()\n",
    "train_items = df_train['item_id'].unique()\n",
    "\n",
    "df_test = df_test[df_test['user_id'].isin(train_users)]\n",
    "df_test = df_test[df_test['item_id'].isin(train_items)]\n",
    "df_test.shape"
   ],
   "outputs": [
    {
     "data": {
      "text/plain": [
       "(106471, 4)"
      ]
     },
     "execution_count": 5,
     "metadata": {},
     "output_type": "execute_result"
    }
   ],
   "execution_count": 5
  },
  {
   "cell_type": "code",
   "id": "19f53d61-990c-4626-a470-7eefd06d2ec7",
   "metadata": {
    "ExecuteTime": {
     "end_time": "2025-03-01T19:01:42.334748Z",
     "start_time": "2025-03-01T19:01:41.736772Z"
    }
   },
   "source": [
    "from sklearn.preprocessing import LabelEncoder\n",
    "\n",
    "user_le = LabelEncoder()\n",
    "item_le = LabelEncoder()\n",
    "\n",
    "df_train['user_id'] = user_le.fit_transform(df_train['user_id'])\n",
    "df_train['item_id'] = item_le.fit_transform(df_train['item_id'])\n",
    "\n",
    "df_test['user_id'] = user_le.transform(df_test['user_id'])\n",
    "df_test['item_id'] = item_le.transform(df_test['item_id'])"
   ],
   "outputs": [],
   "execution_count": 6
  },
  {
   "cell_type": "code",
   "id": "f4ef3e2f-792d-4511-b4d0-74495d9cb30b",
   "metadata": {
    "ExecuteTime": {
     "end_time": "2025-03-01T19:01:42.347177Z",
     "start_time": "2025-03-01T19:01:42.335968Z"
    }
   },
   "source": [
    "df_train['user_id'].nunique(), df_train['user_id'].max()\n",
    "df_train['item_id'].nunique(), df_train['item_id'].max()"
   ],
   "outputs": [
    {
     "data": {
      "text/plain": [
       "(3010, 3009)"
      ]
     },
     "execution_count": 7,
     "metadata": {},
     "output_type": "execute_result"
    }
   ],
   "execution_count": 7
  },
  {
   "metadata": {
    "ExecuteTime": {
     "end_time": "2025-03-01T19:01:42.634530Z",
     "start_time": "2025-03-01T19:01:42.626731Z"
    }
   },
   "cell_type": "code",
   "source": "df_train.info()",
   "id": "77c0b7daa0586da6",
   "outputs": [
    {
     "name": "stdout",
     "output_type": "stream",
     "text": [
      "<class 'pandas.core.frame.DataFrame'>\n",
      "Index: 787420 entries, 100409 to 1000208\n",
      "Data columns (total 4 columns):\n",
      " #   Column    Non-Null Count   Dtype         \n",
      "---  ------    --------------   -----         \n",
      " 0   user_id   787420 non-null  int64         \n",
      " 1   item_id   787420 non-null  int64         \n",
      " 2   rating    787420 non-null  int64         \n",
      " 3   datetime  787420 non-null  datetime64[ns]\n",
      "dtypes: datetime64[ns](1), int64(3)\n",
      "memory usage: 30.0 MB\n"
     ]
    }
   ],
   "execution_count": 8
  },
  {
   "cell_type": "markdown",
   "id": "3d356df8-9157-4752-b30d-dc80aba5e53c",
   "metadata": {},
   "source": [
    "##### Задание 1. Напишем функцию, которая превратит датафрейм в матрицу интеракций. В функции df_to_matrix реализуйте функцию, которая принимает датафрейм и возвращает np.array матрицу интеракций. В функции df_to_coo реализуйте функцию, которая принимает датафрейм и возвращает разреженную матрицу интеракций в coo_array формате"
   ]
  },
  {
   "metadata": {
    "ExecuteTime": {
     "end_time": "2025-03-01T19:01:48.098355Z",
     "start_time": "2025-03-01T19:01:48.093289Z"
    }
   },
   "cell_type": "code",
   "source": "df_train.head()",
   "id": "b830a4d6df2e1367",
   "outputs": [
    {
     "data": {
      "text/plain": [
       "        user_id  item_id  rating            datetime\n",
       "100409        0     2994       3 2000-11-30 23:49:23\n",
       "100411        0      929       4 2000-11-30 23:52:33\n",
       "100412        0      567       4 2000-11-30 23:51:54\n",
       "100415        0     3005       1 2000-11-30 23:58:06\n",
       "100416        0     3006       4 2000-11-30 23:57:50"
      ],
      "text/html": [
       "<div>\n",
       "<style scoped>\n",
       "    .dataframe tbody tr th:only-of-type {\n",
       "        vertical-align: middle;\n",
       "    }\n",
       "\n",
       "    .dataframe tbody tr th {\n",
       "        vertical-align: top;\n",
       "    }\n",
       "\n",
       "    .dataframe thead th {\n",
       "        text-align: right;\n",
       "    }\n",
       "</style>\n",
       "<table border=\"1\" class=\"dataframe\">\n",
       "  <thead>\n",
       "    <tr style=\"text-align: right;\">\n",
       "      <th></th>\n",
       "      <th>user_id</th>\n",
       "      <th>item_id</th>\n",
       "      <th>rating</th>\n",
       "      <th>datetime</th>\n",
       "    </tr>\n",
       "  </thead>\n",
       "  <tbody>\n",
       "    <tr>\n",
       "      <th>100409</th>\n",
       "      <td>0</td>\n",
       "      <td>2994</td>\n",
       "      <td>3</td>\n",
       "      <td>2000-11-30 23:49:23</td>\n",
       "    </tr>\n",
       "    <tr>\n",
       "      <th>100411</th>\n",
       "      <td>0</td>\n",
       "      <td>929</td>\n",
       "      <td>4</td>\n",
       "      <td>2000-11-30 23:52:33</td>\n",
       "    </tr>\n",
       "    <tr>\n",
       "      <th>100412</th>\n",
       "      <td>0</td>\n",
       "      <td>567</td>\n",
       "      <td>4</td>\n",
       "      <td>2000-11-30 23:51:54</td>\n",
       "    </tr>\n",
       "    <tr>\n",
       "      <th>100415</th>\n",
       "      <td>0</td>\n",
       "      <td>3005</td>\n",
       "      <td>1</td>\n",
       "      <td>2000-11-30 23:58:06</td>\n",
       "    </tr>\n",
       "    <tr>\n",
       "      <th>100416</th>\n",
       "      <td>0</td>\n",
       "      <td>3006</td>\n",
       "      <td>4</td>\n",
       "      <td>2000-11-30 23:57:50</td>\n",
       "    </tr>\n",
       "  </tbody>\n",
       "</table>\n",
       "</div>"
      ]
     },
     "execution_count": 9,
     "metadata": {},
     "output_type": "execute_result"
    }
   ],
   "execution_count": 9
  },
  {
   "cell_type": "code",
   "id": "d38a7bb7-7f2d-4957-8dac-6397af9b1645",
   "metadata": {
    "ExecuteTime": {
     "end_time": "2025-03-01T19:23:34.276293Z",
     "start_time": "2025-03-01T19:23:34.270033Z"
    }
   },
   "source": [
    "def df_to_matrix(frame: pd.DataFrame, rating_name='rating') -> np.ndarray:\n",
    "\n",
    "    n_users = frame['user_id'].nunique()\n",
    "    n_items = frame['item_id'].nunique()\n",
    "\n",
    "    result = np.zeros((n_users, n_items))\n",
    "    \n",
    "    for _, row in frame.iterrows():\n",
    "        result[row['user_id'], row['item_id']] = row[rating_name]\n",
    "    return result"
   ],
   "outputs": [],
   "execution_count": 28
  },
  {
   "cell_type": "code",
   "id": "55362cbb-5e2d-455b-afd1-8507f1dd51ba",
   "metadata": {
    "ExecuteTime": {
     "end_time": "2025-03-01T19:01:59.113768Z",
     "start_time": "2025-03-01T19:01:48.591632Z"
    }
   },
   "source": [
    "interactions = df_to_matrix(df_train)"
   ],
   "outputs": [],
   "execution_count": 11
  },
  {
   "cell_type": "code",
   "id": "794b646d-a560-42dd-a466-87cad2589271",
   "metadata": {
    "ExecuteTime": {
     "end_time": "2025-03-01T19:01:59.119295Z",
     "start_time": "2025-03-01T19:01:59.115685Z"
    }
   },
   "source": [
    "from scipy.sparse import coo_array\n",
    "\n",
    "def df_to_coo(frame: pd.DataFrame) -> coo_array:\n",
    "\n",
    "    user_map = {user_id: idx for idx, user_id in enumerate(frame['user_id'].unique())}\n",
    "    item_map = {item_id: idx for idx, item_id in enumerate(frame['item_id'].unique())}\n",
    "    row_indices = frame['user_id'].map(user_map).values\n",
    "    col_indices = frame['item_id'].values\n",
    "    data = frame['rating'].values\n",
    "\n",
    "    result = coo_array((data, (row_indices, col_indices)), shape=(len(user_map), len(item_map)))\n",
    "    \n",
    "    return result"
   ],
   "outputs": [],
   "execution_count": 12
  },
  {
   "cell_type": "code",
   "id": "30f9c218-0419-41b2-a112-c2214fad1d99",
   "metadata": {
    "ExecuteTime": {
     "end_time": "2025-03-01T19:01:59.138035Z",
     "start_time": "2025-03-01T19:01:59.119993Z"
    }
   },
   "source": [
    "coo_interactions = df_to_coo(df_train)"
   ],
   "outputs": [],
   "execution_count": 13
  },
  {
   "cell_type": "code",
   "id": "96b57a7a-0551-4f75-8047-fb9904ac93df",
   "metadata": {
    "ExecuteTime": {
     "end_time": "2025-03-01T19:01:59.304816Z",
     "start_time": "2025-03-01T19:01:59.139275Z"
    }
   },
   "source": [
    "assert (interactions != 0).sum() == df_train.shape[0]\n",
    "assert interactions[0, 2994] == 3\n",
    "assert interactions[2369, 1203] == 5\n",
    "assert interactions[1557, 459] == 3\n",
    "assert np.allclose(coo_interactions.toarray(), interactions)"
   ],
   "outputs": [],
   "execution_count": 14
  },
  {
   "cell_type": "markdown",
   "id": "93b3862a-e62a-4ebe-a70c-29102e9f99fd",
   "metadata": {},
   "source": [
    "##### Задание 2.1. Рассмотрим [SVD](https://en.wikipedia.org/wiki/Singular_value_decomposition). Возьмите готовую реализуцию алгоритма из numpy.linalg или из scipy.linalg и примените алгоритм к матрицам интеракций, полученным в первом задании. Для работы со sparse матрицей обычная реализация svd не подойдет и нужно будет воспользоваться scipy.sparse.linalg.svds. Вам нужно разложить матрицу интеракций на 3 матрицы U, S, V, а затем перемножить их и восстановить изначальную матрицу. При полном разложении исходная матрица должна восстанавливаться максимально хорошо"
   ]
  },
  {
   "cell_type": "code",
   "id": "eead134a-9aac-4027-b0b8-592de614c3d0",
   "metadata": {
    "ExecuteTime": {
     "end_time": "2025-03-01T19:09:10.951411Z",
     "start_time": "2025-03-01T19:09:10.946880Z"
    }
   },
   "source": [
    "import numpy as np\n",
    "from scipy.sparse.linalg import svds\n",
    "\n",
    "def make_svd(interactions: np.ndarray | coo_array, n_singular_values: int = -1):\n",
    "    # функция должна работать и для полной матрицы и для sparse матрицы(вам поможет isinstance).\n",
    "    # если n_singular_values = -1, то берем все сингулярные числа для полной матрицы\n",
    "    # и все кроме одного сингулярного числа для coo-матрицы(иначе scipy.sparse.linalg.svds не будет работать)\n",
    "    U, S, Vt = 0, 0, 0\n",
    "\n",
    "    if isinstance(interactions, np.ndarray):\n",
    "        if n_singular_values == -1:\n",
    "            U, S, Vt = np.linalg.svd(interactions, full_matrices=False)\n",
    "        else:\n",
    "            U, S, Vt = np.linalg.svd(interactions, full_matrices=False)\n",
    "            U, S, Vt = U[:, :n_singular_values], S[:n_singular_values], Vt[:n_singular_values]\n",
    "    elif isinstance(interactions, coo_array):\n",
    "        if n_singular_values == -1:\n",
    "            n_singular_values = interactions.shape[1] - 1\n",
    "        \n",
    "        U, S, Vt = svds(interactions, k=n_singular_values)\n",
    "    return U, np.diag(S), Vt"
   ],
   "outputs": [],
   "execution_count": 20
  },
  {
   "cell_type": "code",
   "id": "5c5fecd4-4739-4f6b-9c9c-44bde8b66a34",
   "metadata": {
    "ExecuteTime": {
     "end_time": "2025-02-26T16:03:12.830909Z",
     "start_time": "2025-02-26T16:02:47.260716Z"
    }
   },
   "source": [
    "U, S, V = make_svd(interactions)\n",
    "assert np.allclose(U @ (S @ V), interactions)"
   ],
   "outputs": [],
   "execution_count": 102
  },
  {
   "cell_type": "code",
   "id": "c5a5f59e-3832-4a7d-95b4-856531582bbd",
   "metadata": {
    "ExecuteTime": {
     "end_time": "2025-02-26T16:04:22.536081Z",
     "start_time": "2025-02-26T16:03:57.856346Z"
    }
   },
   "source": [
    "U1, S1, V1 = make_svd(interactions, 10)\n",
    "U, S, V = make_svd(coo_interactions, 10)\n",
    "assert np.allclose(U1 @ (S1 @ V1), U @ (S @ V))"
   ],
   "outputs": [],
   "execution_count": 106
  },
  {
   "metadata": {
    "ExecuteTime": {
     "end_time": "2025-02-26T16:04:22.592623Z",
     "start_time": "2025-02-26T16:04:22.543990Z"
    }
   },
   "cell_type": "code",
   "source": "U1.shape, S1.shape, V1.shape",
   "id": "f612dac2bcfc5092",
   "outputs": [
    {
     "data": {
      "text/plain": [
       "((5365, 10), (10, 10), (10, 3010))"
      ]
     },
     "execution_count": 107,
     "metadata": {},
     "output_type": "execute_result"
    }
   ],
   "execution_count": 107
  },
  {
   "cell_type": "markdown",
   "id": "9443daa6-e9f1-414a-8107-5a3016452929",
   "metadata": {},
   "source": [
    "##### Задание 2.2. Теперь попробуем сделать рекомендации с помощью SVD. Мы научились восстанавливать исходную матрицу с помощью разложения, теперь же мы хотим порекомендовать пользователю айтемы, которые будут для него максимально релевантны(в восстановленной матрице у них будет самый высокий скор). Для каждого пользователя нужно будет найти индексы айтемов, которые имеют максимальный скор. При этом стоит обратить внимание, что мы не хотим рекомендовать пользователю айтемы, с которыми он уже взаимодействовал"
   ]
  },
  {
   "cell_type": "code",
   "id": "787da18f-48d0-4dfa-b18f-b7e97cc98a4f",
   "metadata": {
    "ExecuteTime": {
     "end_time": "2025-03-01T19:08:46.016840Z",
     "start_time": "2025-03-01T19:08:46.013290Z"
    }
   },
   "source": [
    "def make_svd_recommendations(interractions: np.ndarray | coo_array, n_singular_values: int = -1, top_k: int = 100):\n",
    "    U, S, V = make_svd(interractions, n_singular_values)\n",
    "    predicted_ratings = U @ S @ V \n",
    "\n",
    "    recommendations = []\n",
    "    n_users, n_items = predicted_ratings.shape\n",
    "\n",
    "    for user_index in range(n_users):\n",
    "        if isinstance(interractions, np.ndarray):\n",
    "            user_interactions = interractions[user_index]  \n",
    "        else:\n",
    "            user_interactions = interractions[user_index, :].toarray()\n",
    "\n",
    "        user_scores = predicted_ratings[user_index]\n",
    "        # user_scores[user_interactions.nonzero()[1]] = -np.inf  \n",
    "\n",
    "        top_k_indices = np.argsort(user_scores)[-top_k:][::-1] \n",
    "        recommendations.append(top_k_indices)\n",
    "\n",
    "    return np.array(recommendations)"
   ],
   "outputs": [],
   "execution_count": 16
  },
  {
   "cell_type": "code",
   "id": "ec72f3dd-c8f2-4434-b84e-ef016c4773a1",
   "metadata": {
    "ExecuteTime": {
     "end_time": "2025-02-26T16:11:23.450012Z",
     "start_time": "2025-02-26T16:10:49.678306Z"
    }
   },
   "source": [
    "recs = make_svd_recommendations(interactions, -1, 100)\n",
    "assert recs.shape == (interactions.shape[0], 100)"
   ],
   "outputs": [],
   "execution_count": 111
  },
  {
   "cell_type": "markdown",
   "id": "f5d0b788-855a-4fd9-8cbb-38c0dd289ef5",
   "metadata": {},
   "source": [
    "##### Задание 2.3. Теперь давайте посмотрим как будет зависеть качетво рекомендаций, от количества сингулярных чисел, которые мы возьмем в SVD разложении. Переберите n_singular_values из списка [1, 10, 50, 200, 1000] и посмотрите как будет изменяться метрика NDCG на тестовом датасете для таких рекомендаций и как будет меняться время вычисления. Для каждого графики зависимости метрики NDCG от n_singular_values и времени работы алгоритма от n_singular_values(Время работы будет меняться только для sparse-матрицы, стоит запускать алгоритм именно для нее)"
   ]
  },
  {
   "metadata": {
    "ExecuteTime": {
     "end_time": "2025-03-01T19:08:54.587645Z",
     "start_time": "2025-03-01T19:08:54.537510Z"
    }
   },
   "cell_type": "code",
   "source": [
    "from sklearn.metrics import ndcg_score\n",
    "\n",
    "def evaluate_recommendations(interactions:  np.ndarray | coo_array, recommendations: np.ndarray, top_k) -> float:\n",
    "    n_users, n_items = interactions.shape\n",
    "    total_ndcg = 0.0 \n",
    "\n",
    "    for user_index in range(n_users):\n",
    "        relevant_items = interactions[user_index].nonzero()[0]\n",
    "        \n",
    "        y_true = np.zeros(n_items)  \n",
    "        y_true[relevant_items] = 1 \n",
    "        \n",
    "        recommended_items = recommendations[user_index][:top_k]  \n",
    "        \n",
    "        y_scores = np.zeros(n_items)  \n",
    "        y_scores[recommended_items] = 1  \n",
    "        \n",
    "        ndcg = ndcg_score([y_true], [y_scores])\n",
    "        total_ndcg += ndcg\n",
    "\n",
    "    return total_ndcg / n_users"
   ],
   "id": "efef6fc173ae52de",
   "outputs": [],
   "execution_count": 17
  },
  {
   "cell_type": "code",
   "id": "06f931fd-0eb0-4965-9e02-e005ed545c71",
   "metadata": {
    "ExecuteTime": {
     "end_time": "2025-02-27T10:32:08.164825Z",
     "start_time": "2025-02-27T10:29:57.808580Z"
    }
   },
   "source": [
    "import matplotlib.pyplot as plt\n",
    "\n",
    "\n",
    "def plot_graphs(interractions: np.ndarray | coo_array, top_k: int = 100) -> tuple[list, list]:\n",
    "    results = []\n",
    "\n",
    "    n_singular_values_list = [1, 10, 50, 200, 1000]\n",
    "\n",
    "    for n_singular_values in n_singular_values_list:\n",
    "        recommendations = make_svd_recommendations(interractions, n_singular_values=n_singular_values, top_k=top_k)\n",
    "        \n",
    "        metric = evaluate_recommendations(interractions, recommendations, top_k)\n",
    "        results.append(metric)\n",
    "    return n_singular_values_list, results\n",
    "\n",
    "n_singular_values_list, results = plot_graphs(interactions)\n",
    " "
   ],
   "outputs": [],
   "execution_count": 129
  },
  {
   "cell_type": "code",
   "id": "ee22fe02-b1c2-4fb5-a7b1-0525356fe9f0",
   "metadata": {
    "ExecuteTime": {
     "end_time": "2025-02-27T10:37:11.605732Z",
     "start_time": "2025-02-27T10:37:11.531877Z"
    }
   },
   "source": [
    "plt.figure(figsize=(10, 6))\n",
    "plt.plot(n_singular_values_list, results, marker='o')\n",
    "plt.xticks(n_singular_values_list)\n",
    "plt.title('Effect of Number of Singular Values on Recommendation Quality')\n",
    "plt.xlabel('Number of Singular Values')\n",
    "plt.ylabel('NDCG')\n",
    "plt.grid()\n",
    "plt.show()"
   ],
   "outputs": [
    {
     "data": {
      "text/plain": [
       "<Figure size 1000x600 with 1 Axes>"
      ],
      "image/png": "[encoded data removed]"
     },
     "metadata": {},
     "output_type": "display_data"
    }
   ],
   "execution_count": 131
  },
  {
   "metadata": {
    "ExecuteTime": {
     "end_time": "2025-02-27T10:44:39.362791Z",
     "start_time": "2025-02-27T10:44:39.354034Z"
    }
   },
   "cell_type": "code",
   "source": "print(f'Max NDCG: {max(results)}')",
   "id": "7e01d26b88627269",
   "outputs": [
    {
     "name": "stdout",
     "output_type": "stream",
     "text": [
      "Max NDCG: 0.8267400348951607\n"
     ]
    }
   ],
   "execution_count": 135
  },
  {
   "cell_type": "markdown",
   "id": "a8612d96-c694-42d6-9525-58808f642577",
   "metadata": {},
   "source": [
    "##### Задание 3.1. Перейдем к [ALS](http://yifanhu.net/PUB/cf.pdf). Возьмем реализацию iALS из библиотеки [implicit](https://benfred.github.io/implicit/api/models/cpu/als.html). Обучите ALS на нашем датасете, сделайте top_k рекомендации для юзеров из тестового датасета, и сравните метрики ALS с метриками, которые получились в SVD. Попробуйте перебрать гиперпараметры и найдите оптимальное число факторов, коэффициент alpha и коэффициент регуляризации."
   ]
  },
  {
   "cell_type": "code",
   "id": "b5fb16e9-49d1-4d7e-a384-ccbdad4f1cdf",
   "metadata": {
    "ExecuteTime": {
     "end_time": "2025-03-01T19:08:59.744823Z",
     "start_time": "2025-03-01T19:08:59.678268Z"
    }
   },
   "source": [
    "import numpy as np\n",
    "from scipy.sparse import coo_matrix, csr_matrix\n",
    "from implicit.als import AlternatingLeastSquares\n",
    "from typing import Union\n",
    "\n",
    "def make_als_recommendations(\n",
    "    interactions: Union[np.ndarray, coo_matrix], \n",
    "    top_k: int = 100, \n",
    "    n_factors: int = 100,\n",
    "    alpha: float = 1.0,\n",
    "    regularization: float = 0.01,\n",
    ") -> np.ndarray:\n",
    "    if isinstance(interactions, np.ndarray):\n",
    "        interactions = csr_matrix(interactions)\n",
    "\n",
    "    model = AlternatingLeastSquares(factors=n_factors, \n",
    "                                    regularization=regularization, \n",
    "                                    alpha=alpha, \n",
    "                                    iterations=20)\n",
    "    \n",
    "    model.fit(interactions)\n",
    "\n",
    "    user_factors = model.user_factors\n",
    "    item_factors = model.item_factors\n",
    "\n",
    "    scores = np.dot(user_factors, item_factors.T)\n",
    "\n",
    "    recommendations = np.zeros((scores.shape[0], top_k), dtype=int)\n",
    "\n",
    "    for user_index in range(scores.shape[0]):\n",
    "        recommended_indices = np.argsort(scores[user_index])[::-1][:top_k]\n",
    "        recommendations[user_index] = recommended_indices\n",
    "\n",
    "    return recommendations"
   ],
   "outputs": [],
   "execution_count": 18
  },
  {
   "cell_type": "code",
   "id": "b5573d01-8512-450f-9260-03928ee9b367",
   "metadata": {
    "ExecuteTime": {
     "end_time": "2025-02-27T10:47:17.127329Z",
     "start_time": "2025-02-27T10:47:11.110943Z"
    }
   },
   "source": [
    "recs = make_als_recommendations(interactions)\n",
    "assert recs.shape == (interactions.shape[0], 100)"
   ],
   "outputs": [
    {
     "name": "stderr",
     "output_type": "stream",
     "text": [
      "/Users/akovel/anaconda3/envs/HSE/lib/python3.11/site-packages/implicit/cpu/als.py:95: RuntimeWarning: OpenBLAS is configured to use 8 threads. It is highly recommended to disable its internal threadpool by setting the environment variable 'OPENBLAS_NUM_THREADS=1' or by calling 'threadpoolctl.threadpool_limits(1, \"blas\")'. Having OpenBLAS use a threadpool can lead to severe performance issues here.\n",
      "  check_blas_config()\n"
     ]
    },
    {
     "data": {
      "text/plain": [
       "  0%|          | 0/20 [00:00<?, ?it/s]"
      ],
      "application/vnd.jupyter.widget-view+json": {
       "version_major": 2,
       "version_minor": 0,
       "model_id": "dda86b42cde24fd582fabd304eb37263"
      }
     },
     "metadata": {},
     "output_type": "display_data"
    }
   ],
   "execution_count": 16
  },
  {
   "metadata": {},
   "cell_type": "code",
   "source": [
    "best_ndcg = -1\n",
    "best_params = {}\n",
    "\n",
    "for n_factors in [20, 50, 100]:\n",
    "    for alpha in [1.0, 5.0, 10.0]:\n",
    "        for regularization in [0.01, 0.1, 1.0]:\n",
    "            recommendations = make_als_recommendations(interactions, top_k=100, n_factors=n_factors, alpha=alpha, regularization=regularization)\n",
    "            \n",
    "            ndcg = evaluate_recommendations(interactions, recommendations, top_k=100)\n",
    "            \n",
    "            print(f'n_factors: {n_factors}, alpha: {alpha}, regularization: {regularization}, NDCG: {ndcg}')\n",
    "            \n",
    "            if ndcg > best_ndcg:\n",
    "                best_ndcg = ndcg\n",
    "                best_params = {'n_factors': n_factors, 'alpha': alpha, 'regularization': regularization}"
   ],
   "id": "e50016bf6a7a59bd",
   "outputs": [],
   "execution_count": null
  },
  {
   "metadata": {
    "ExecuteTime": {
     "end_time": "2025-02-27T10:50:48.135889Z",
     "start_time": "2025-02-27T10:50:48.133760Z"
    }
   },
   "cell_type": "code",
   "source": "print(f'Best params: {best_params}, Best NDCG: {best_ndcg}')",
   "id": "62281ade60fafeb7",
   "outputs": [
    {
     "name": "stdout",
     "output_type": "stream",
     "text": [
      "Best params: {'n_factors': 100, 'alpha': 5.0, 'regularization': 0.01}, Best NDCG: 0.7606340105720808\n"
     ]
    }
   ],
   "execution_count": 20
  },
  {
   "metadata": {
    "ExecuteTime": {
     "end_time": "2025-03-01T19:16:33.407413Z",
     "start_time": "2025-03-01T19:16:33.403579Z"
    }
   },
   "cell_type": "code",
   "source": "best_params = {'n_factors': 100, 'alpha': 5.0, 'regularization': 0.01} ",
   "id": "7045fb20942248f7",
   "outputs": [],
   "execution_count": 23
  },
  {
   "cell_type": "markdown",
   "id": "81f3b1cc-760b-4d6a-ab8a-aca57b7b6dfe",
   "metadata": {},
   "source": [
    "##### Задание 3.2. Сделайте объяснение рекомендаций для нескольких юзеров(als.explain). Воспользуйтесь файлом movies.dat чтобы перейти от индексов фильмов к их названием"
   ]
  },
  {
   "metadata": {
    "ExecuteTime": {
     "end_time": "2025-02-27T11:09:26.124008Z",
     "start_time": "2025-02-27T11:09:20.983838Z"
    }
   },
   "cell_type": "code",
   "source": [
    "model = AlternatingLeastSquares(factors=100, \n",
    "                                regularization=0.01, \n",
    "                                alpha=5.0, \n",
    "                                iterations=20)\n",
    "\n",
    "model.fit(csr_matrix(interactions))"
   ],
   "id": "68e25506c78d2151",
   "outputs": [
    {
     "data": {
      "text/plain": [
       "  0%|          | 0/20 [00:00<?, ?it/s]"
      ],
      "application/vnd.jupyter.widget-view+json": {
       "version_major": 2,
       "version_minor": 0,
       "model_id": "c5ed70ce73244f1cae6515d63c20fdb2"
      }
     },
     "metadata": {},
     "output_type": "display_data"
    }
   ],
   "execution_count": 46
  },
  {
   "metadata": {
    "ExecuteTime": {
     "end_time": "2025-02-27T18:28:55.286285Z",
     "start_time": "2025-02-27T18:28:55.283079Z"
    }
   },
   "cell_type": "code",
   "source": [
    "import numpy as np\n",
    "from scipy.sparse import coo_matrix, csr_matrix\n",
    "from implicit.als import AlternatingLeastSquares\n",
    "\n",
    "def make_als_recommendations_and_explanations(\n",
    "    interactions: Union[np.ndarray, coo_matrix], \n",
    "    movie_titles: dict,\n",
    "    user_ids: list, \n",
    "    model: AlternatingLeastSquares,\n",
    "    top_k: int = 5\n",
    "):\n",
    "    if isinstance(interactions, np.ndarray):\n",
    "        interactions = csr_matrix(interactions)\n",
    "\n",
    "    recommend = {}\n",
    "    explanation = {}\n",
    "\n",
    "    for user_id in user_ids:\n",
    "        recs = model.recommend(user_id, interactions[user_id], N=top_k)\n",
    "        for i, _ in enumerate(recs[0]):\n",
    "            item, score = recs[0][i], recs[1][i] \n",
    "            explanations = model.explain(user_id, interactions[user_id], item, N=top_k)\n",
    "            recommend[user_id] = movie_titles[\"movie_name\"][movie_titles[\"id\"] == item]\n",
    "            print(f\" - {movie_titles['movie_name'][movie_titles['id'] == item]}: {explanations[0]:.4f}\")\n",
    "\n",
    "    return recommend, explanation"
   ],
   "id": "858b0248763de832",
   "outputs": [],
   "execution_count": 139
  },
  {
   "metadata": {
    "ExecuteTime": {
     "end_time": "2025-02-27T18:26:49.441625Z",
     "start_time": "2025-02-27T18:26:49.431760Z"
    }
   },
   "cell_type": "code",
   "source": "movies = pd.read_csv(\"ml-1m/movies.dat\", sep='::', names=['id', 'movie_name', 'genre'], engine='python')",
   "id": "126ff0111318d919",
   "outputs": [],
   "execution_count": 134
  },
  {
   "metadata": {
    "ExecuteTime": {
     "end_time": "2025-02-27T18:26:49.820529Z",
     "start_time": "2025-02-27T18:26:49.816646Z"
    }
   },
   "cell_type": "code",
   "source": "movies[(movies[\"id\"] == 670)]",
   "id": "ed31a127f50a0713",
   "outputs": [
    {
     "data": {
      "text/plain": [
       "      id                              movie_name  genre\n",
       "664  670  World of Apu, The (Apur Sansar) (1959)  Drama"
      ],
      "text/html": [
       "<div>\n",
       "<style scoped>\n",
       "    .dataframe tbody tr th:only-of-type {\n",
       "        vertical-align: middle;\n",
       "    }\n",
       "\n",
       "    .dataframe tbody tr th {\n",
       "        vertical-align: top;\n",
       "    }\n",
       "\n",
       "    .dataframe thead th {\n",
       "        text-align: right;\n",
       "    }\n",
       "</style>\n",
       "<table border=\"1\" class=\"dataframe\">\n",
       "  <thead>\n",
       "    <tr style=\"text-align: right;\">\n",
       "      <th></th>\n",
       "      <th>id</th>\n",
       "      <th>movie_name</th>\n",
       "      <th>genre</th>\n",
       "    </tr>\n",
       "  </thead>\n",
       "  <tbody>\n",
       "    <tr>\n",
       "      <th>664</th>\n",
       "      <td>670</td>\n",
       "      <td>World of Apu, The (Apur Sansar) (1959)</td>\n",
       "      <td>Drama</td>\n",
       "    </tr>\n",
       "  </tbody>\n",
       "</table>\n",
       "</div>"
      ]
     },
     "execution_count": 135,
     "metadata": {},
     "output_type": "execute_result"
    }
   ],
   "execution_count": 135
  },
  {
   "cell_type": "code",
   "id": "ddd9a956-d2f5-4560-8d0c-c72164ebdfa8",
   "metadata": {
    "ExecuteTime": {
     "end_time": "2025-02-27T18:29:37.064701Z",
     "start_time": "2025-02-27T18:29:36.891504Z"
    }
   },
   "source": [
    "user_ids = [0]  \n",
    "print(f\"\\nRecommendations for User {user_id}:\")\n",
    "\n",
    "recommendations, explanations = make_als_recommendations_and_explanations(\n",
    "    interactions, \n",
    "    movies, \n",
    "    user_ids, \n",
    "    model\n",
    ")"
   ],
   "outputs": [
    {
     "name": "stdout",
     "output_type": "stream",
     "text": [
      "\n",
      "Recommendations for User 0:\n",
      " - 664    World of Apu, The (Apur Sansar) (1959)\n",
      "Name: movie_name, dtype: object: 1.2053\n",
      " - 932    Lost Horizon (1937)\n",
      "Name: movie_name, dtype: object: 1.0482\n",
      " - 913    Golden Earrings (1947)\n",
      "Name: movie_name, dtype: object: 1.0013\n",
      " - 495    Mr. Wonderful (1993)\n",
      "Name: movie_name, dtype: object: 1.0067\n",
      " - 576    Princess Caraboo (1994)\n",
      "Name: movie_name, dtype: object: 0.9943\n"
     ]
    }
   ],
   "execution_count": 141
  },
  {
   "cell_type": "markdown",
   "id": "d7d7ea0c-8288-45f5-83d4-9761a8952669",
   "metadata": {},
   "source": [
    "##### Задание 4. До этого мы работали с рейтингами, но как обсуждалось на лекции, implicit ALS отлично работает и с implicit фидбэком. Давайте попробуем преобразовать наш датасет(трейн и тест) следующим образом\n",
    "\n",
    "1. Бинаризуем все рейтинги(заменим любую интеракцию пользователя на 1)\n",
    "2. Заменим на 1 только рейтинги 4 и 5, а рейтинг ниже 4 заменим на 0\n",
    "3. Заменим на 1 только рейтинги 4 и 5, а рейтинг ниже 4 заменим на -1\n",
    "4. Заменим на 1 только рейтинги 4 и 5, а рейтинг ниже 4 заменим на -1 и добавим сглаживание по времени. То есть чем дальше была интеракция от максимальной даты трейна, тем с меньшим весом мы будем ее учитывать(например можно интеракции за последний месяц брать в исходном виде, и с каждым месяцем в прошлое умножать их на какой-нибудь коэффициент меньший 1). Таким образом более старые интеракции пользователя будут вносить меньший вклад в его интересы\n",
    "5. Придумайте свой вариант(опционально)\n",
    "\n",
    "Для каждой полученной матрицы обучите iALS и SVD и сравните их результаты между собой(преобразовывать нужно только обучающую выборку, тестовую оставляем неизменной)"
   ]
  },
  {
   "cell_type": "code",
   "id": "c839fd09-eca4-43e0-a209-2da63775f79f",
   "metadata": {},
   "source": [
    "df_train['bin_var'] = np.where(df_train['rating'] > 0, 1, 0)\n",
    "interations_bin = df_to_matrix(df_train)\n",
    "\n",
    "svd_recs_bin = make_svd_recommendations(interations_bin, n_singular_values=10)\n",
    "als_recs_bin = make_als_recommendations(interations_bin, **best_params)"
   ],
   "outputs": [],
   "execution_count": null
  },
  {
   "metadata": {
    "ExecuteTime": {
     "end_time": "2025-03-01T19:21:31.943546Z",
     "start_time": "2025-03-01T19:21:28.185777Z"
    }
   },
   "cell_type": "code",
   "source": [
    "print(f'NDCG@10 als: {evaluate_recommendations(interations_bin, als_recs_bin, top_k=10)}')\n",
    "print(f'NDCG@10 svd: {evaluate_recommendations(interations_bin, svd_recs_bin, top_k=10)}')"
   ],
   "id": "78a9f133a8d9198b",
   "outputs": [
    {
     "name": "stdout",
     "output_type": "stream",
     "text": [
      "NDCG@10 als: 0.6325836586577912\n",
      "NDCG@10 svd: 0.5980653837377388\n"
     ]
    }
   ],
   "execution_count": 27
  },
  {
   "metadata": {
    "ExecuteTime": {
     "end_time": "2025-03-01T19:24:49.469190Z",
     "start_time": "2025-03-01T19:23:54.006810Z"
    }
   },
   "cell_type": "code",
   "source": [
    "df_train['bin_var'] = np.where(df_train['rating'] >= 4, 1, 0)\n",
    "\n",
    "interations_bin = df_to_matrix(df_train, 'bin_var')\n",
    "\n",
    "svd_recs_bin = make_svd_recommendations(interations_bin, n_singular_values=10)\n",
    "als_recs_bin = make_als_recommendations(interations_bin, **best_params)"
   ],
   "id": "85a5a0e126b36146",
   "outputs": [
    {
     "data": {
      "text/plain": [
       "  0%|          | 0/20 [00:00<?, ?it/s]"
      ],
      "application/vnd.jupyter.widget-view+json": {
       "version_major": 2,
       "version_minor": 0,
       "model_id": "b303e911e0e94a1bae94bba5795c20de"
      }
     },
     "metadata": {},
     "output_type": "display_data"
    }
   ],
   "execution_count": 29
  },
  {
   "metadata": {
    "ExecuteTime": {
     "end_time": "2025-03-01T19:24:52.567454Z",
     "start_time": "2025-03-01T19:24:49.470961Z"
    }
   },
   "cell_type": "code",
   "source": [
    "print(f'NDCG@10 als: {evaluate_recommendations(interations_bin, als_recs_bin, top_k=10)}')\n",
    "print(f'NDCG@10 svd: {evaluate_recommendations(interations_bin, svd_recs_bin, top_k=10)}')"
   ],
   "id": "5ffeaeac1360c42d",
   "outputs": [
    {
     "name": "stdout",
     "output_type": "stream",
     "text": [
      "NDCG@10 als: 0.6674125560442911\n",
      "NDCG@10 svd: 0.5622880056598005\n"
     ]
    }
   ],
   "execution_count": 30
  },
  {
   "metadata": {
    "ExecuteTime": {
     "end_time": "2025-03-01T19:26:50.967370Z",
     "start_time": "2025-03-01T19:26:06.249939Z"
    }
   },
   "cell_type": "code",
   "source": [
    "df_train['bin_var'] = np.where(df_train['rating'] >= 4, 1, -1)\n",
    "\n",
    "interations_bin = df_to_matrix(df_train, 'bin_var')\n",
    "\n",
    "svd_recs_bin = make_svd_recommendations(interations_bin, n_singular_values=10)\n",
    "als_recs_bin = make_als_recommendations(interations_bin, **best_params)\n",
    "\n",
    "print(f'NDCG@10 als: {evaluate_recommendations(interations_bin, als_recs_bin, top_k=10)}')\n",
    "print(f'NDCG@10 svd: {evaluate_recommendations(interations_bin, svd_recs_bin, top_k=10)}')"
   ],
   "id": "2a37ae4a4a73cc13",
   "outputs": [
    {
     "data": {
      "text/plain": [
       "  0%|          | 0/20 [00:00<?, ?it/s]"
      ],
      "application/vnd.jupyter.widget-view+json": {
       "version_major": 2,
       "version_minor": 0,
       "model_id": "bf2e308098b244e29d22dc8751327c8b"
      }
     },
     "metadata": {},
     "output_type": "display_data"
    },
    {
     "name": "stdout",
     "output_type": "stream",
     "text": [
      "NDCG@10 als: 0.6651009033666933\n",
      "NDCG@10 svd: 0.57775487466515\n"
     ]
    }
   ],
   "execution_count": 31
  },
  {
   "metadata": {
    "ExecuteTime": {
     "end_time": "2025-03-01T19:29:01.601808Z",
     "start_time": "2025-03-01T19:28:51.082970Z"
    }
   },
   "cell_type": "code",
   "source": [
    "df_train['bin_var'] = np.where(df_train['rating'] >= 4, 1, -1)\n",
    "max_date = df_train['datetime'].max()\n",
    "df_train['days_diff'] = (max_date - df_train['datetime']).dt.days\n",
    "decay = 0.9\n",
    "df_train['time_weight'] = decay ** (df_train['days_diff'] / 30)\n",
    "df_train['bin_var_decay'] = df_train['bin_var'] * df_train['time_weight']\n",
    "\n",
    "interations_bin = df_to_matrix(df_train, 'bin_var_decay')"
   ],
   "id": "c607ff5c79857627",
   "outputs": [],
   "execution_count": 32
  },
  {
   "metadata": {
    "ExecuteTime": {
     "end_time": "2025-03-01T19:29:47.849125Z",
     "start_time": "2025-03-01T19:29:01.602885Z"
    }
   },
   "cell_type": "code",
   "source": [
    "svd_recs_bin = make_svd_recommendations(interations_bin, n_singular_values=10)\n",
    "als_recs_bin = make_als_recommendations(interations_bin, **best_params)"
   ],
   "id": "9c90e57fbbbafeac",
   "outputs": [
    {
     "data": {
      "text/plain": [
       "  0%|          | 0/20 [00:00<?, ?it/s]"
      ],
      "application/vnd.jupyter.widget-view+json": {
       "version_major": 2,
       "version_minor": 0,
       "model_id": "b7197181c5d048818454e6fd1d2ebebb"
      }
     },
     "metadata": {},
     "output_type": "display_data"
    }
   ],
   "execution_count": 33
  },
  {
   "metadata": {
    "ExecuteTime": {
     "end_time": "2025-03-01T19:29:50.913651Z",
     "start_time": "2025-03-01T19:29:47.851316Z"
    }
   },
   "cell_type": "code",
   "source": [
    "print(f'NDCG@10 als: {evaluate_recommendations(interations_bin, als_recs_bin, top_k=10)}')\n",
    "print(f'NDCG@10 svd: {evaluate_recommendations(interations_bin, svd_recs_bin, top_k=10)}')"
   ],
   "id": "9668840eca572980",
   "outputs": [
    {
     "name": "stdout",
     "output_type": "stream",
     "text": [
      "NDCG@10 als: 0.6669272279445712\n",
      "NDCG@10 svd: 0.5776438170465412\n"
     ]
    }
   ],
   "execution_count": 34
  },
  {
   "cell_type": "markdown",
   "id": "ee7a03b1-5072-4bc4-ba46-1fc3c989b888",
   "metadata": {},
   "source": [
    "##### Задание 5. iALS на numpy/torch. Давайте реализуем алгоритм iALS на нумпае или торче. Требуется реализовать алгорит, описанный в 4 части [статьи](http://yifanhu.net/PUB/cf.pdf). Обратите внимания на все оптимизации, которые они описывают в статье, чтобы сократить лишние вычисления. Hint: метрики у вашего алгоритма должны быть сравнимы с метриками ALS из библиотеки implicit"
   ]
  },
  {
   "cell_type": "code",
   "id": "e6be5f0d-1454-4f15-9dd1-17d1f1f99583",
   "metadata": {
    "ExecuteTime": {
     "end_time": "2025-03-01T19:30:59.356012Z",
     "start_time": "2025-03-01T19:30:59.342448Z"
    }
   },
   "source": [
    "import numpy as np\n",
    "\n",
    "class iALS:\n",
    "    def __init__(self, n_factors: int = 100, alpha: float = 1.0, reg_coef: float = 0.01):\n",
    "        self.n_factors = n_factors\n",
    "        self.alpha = alpha\n",
    "        self.reg_coef = reg_coef\n",
    "        self.user_factors = None\n",
    "        self.item_factors = None\n",
    "\n",
    "    def fit(self, interactions: np.ndarray, n_iterations: int = 10):\n",
    "        n_users, n_items = interactions.shape\n",
    "        self.user_factors = np.random.rand(n_users, self.n_factors)\n",
    "        self.item_factors = np.random.rand(n_items, self.n_factors)\n",
    "\n",
    "        confidence = interactions * self.alpha\n",
    "        confidence += (interactions == 0) \n",
    "\n",
    "        for _ in range(n_iterations):\n",
    "            for u in range(n_users):\n",
    "                item_indices = np.nonzero(interactions[u])[0] \n",
    "                if len(item_indices) > 0:\n",
    "                    A = np.dot(self.item_factors[item_indices].T, self.item_factors[item_indices]) + \\\n",
    "                        self.reg_coef * np.eye(self.n_factors)\n",
    "                    b = np.dot(confidence[u, item_indices], self.item_factors[item_indices])\n",
    "                    self.user_factors[u] = np.linalg.solve(A, b)\n",
    "\n",
    "            for i in range(n_items):\n",
    "                user_indices = np.nonzero(interactions[:, i])[0]  \n",
    "                if len(user_indices) > 0:\n",
    "                    A = np.dot(self.user_factors[user_indices].T, self.user_factors[user_indices]) + \\\n",
    "                        self.reg_coef * np.eye(self.n_factors)\n",
    "                    b = np.dot(confidence[user_indices, i], self.user_factors[user_indices])\n",
    "                    self.item_factors[i] = np.linalg.solve(A, b)\n",
    "\n",
    "    def predict(self, user_interactions: np.ndarray, top_k: int = 100):\n",
    "        scores = np.dot(self.user_factors, self.item_factors.T)\n",
    "        scores[user_interactions > 0] = -np.inf\n",
    "        top_k_items = np.argsort(scores, axis=1)[:, -top_k:]\n",
    "\n",
    "        return top_k_items  \n",
    "\n"
   ],
   "outputs": [],
   "execution_count": 35
  },
  {
   "cell_type": "code",
   "id": "a9aa65d7-11dc-48d9-a270-8d0a6d96f28e",
   "metadata": {
    "ExecuteTime": {
     "end_time": "2025-03-01T19:31:23.627092Z",
     "start_time": "2025-03-01T19:31:01.248053Z"
    }
   },
   "source": [
    "model = iALS(n_factors=10, alpha=1.0, reg_coef=0.05)\n",
    "model.fit(interations_bin, n_iterations=10)\n",
    "predictions = model.predict(interations_bin, top_k=3)\n",
    "\n",
    "print(\"Top-k recommendations for each user:\")\n",
    "print(predictions)"
   ],
   "outputs": [
    {
     "name": "stdout",
     "output_type": "stream",
     "text": [
      "Top-k recommendations for each user:\n",
      "[[1967 2414 2100]\n",
      " [1952  643 2945]\n",
      " [ 536 1621 1017]\n",
      " ...\n",
      " [1670  618  612]\n",
      " [2494 1872 1412]\n",
      " [1163 2898  532]]\n"
     ]
    }
   ],
   "execution_count": 36
  },
  {
   "metadata": {
    "ExecuteTime": {
     "end_time": "2025-03-01T19:31:44.856348Z",
     "start_time": "2025-03-01T19:31:43.242986Z"
    }
   },
   "cell_type": "code",
   "source": "print(f'NDCG@10 als: {evaluate_recommendations(interations_bin, predictions, top_k=10)}')",
   "id": "6e97fb9c49594203",
   "outputs": [
    {
     "name": "stdout",
     "output_type": "stream",
     "text": [
      "NDCG@10 als: 0.47708721867202164\n"
     ]
    }
   ],
   "execution_count": 37
  },
  {
   "metadata": {},
   "cell_type": "code",
   "outputs": [],
   "execution_count": null,
   "source": "",
   "id": "4d12dcb404633996"
  }
 ],
 "metadata": {
  "kernelspec": {
   "display_name": "Python 3 (ipykernel)",
   "language": "python",
   "name": "python3"
  },
  "language_info": {
   "codemirror_mode": {
    "name": "ipython",
    "version": 3
   },
   "file_extension": ".py",
   "mimetype": "text/x-python",
   "name": "python",
   "nbconvert_exporter": "python",
   "pygments_lexer": "ipython3",
   "version": "3.12.8"
  }
 },
 "nbformat": 4,
 "nbformat_minor": 5
}
